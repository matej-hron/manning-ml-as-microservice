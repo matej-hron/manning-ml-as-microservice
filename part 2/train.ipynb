{
 "cells": [
  {
   "cell_type": "code",
   "execution_count": 7,
   "metadata": {
    "tags": []
   },
   "outputs": [
    {
     "output_type": "stream",
     "name": "stderr",
     "text": "[nltk_data] Downloading package movie_reviews to\n[nltk_data]     C:\\Users\\E10112538\\AppData\\Roaming\\nltk_data...\n[nltk_data]   Package movie_reviews is already up-to-date!\n[nltk_data] Downloading package punkt to\n[nltk_data]     C:\\Users\\E10112538\\AppData\\Roaming\\nltk_data...\n[nltk_data]   Package punkt is already up-to-date!\n[nltk_data] Downloading package stopwords to\n[nltk_data]     C:\\Users\\E10112538\\AppData\\Roaming\\nltk_data...\n[nltk_data]   Package stopwords is already up-to-date!\n"
    },
    {
     "output_type": "execute_result",
     "data": {
      "text/plain": "True"
     },
     "metadata": {},
     "execution_count": 7
    }
   ],
   "source": [
    "import nltk\n",
    "from nltk import download\n",
    "\n",
    "import matplotlib.pyplot as plt\n",
    "from collections import OrderedDict\n",
    "import random\n",
    "\n",
    "\n",
    "download('movie_reviews')\n",
    "download('punkt')\n",
    "download('stopwords')"
   ]
  },
  {
   "cell_type": "code",
   "execution_count": 67,
   "metadata": {},
   "outputs": [],
   "source": [
    "def wordFilter(excluded, wordrow):\n",
    "    filtered = [word for word in wordrow if word not in excluded]\n",
    "    return filtered\n",
    "\n",
    "stopwords = nltk.corpus.stopwords.words('english')\n",
    "\n",
    "def lowerCaseArray(wordrow):\n",
    "    lowercased = [word.lower() for word in wordrow]    \n",
    "    return lowercased\n",
    "\n",
    "stemmer = nltk.SnowballStemmer(\"english\")\n",
    "\n",
    "def wordStemmer(wordrow):\n",
    "    stemmed = [stemmer.stem(word) for word in wordrow]\n",
    "    return stemmed\n",
    "\n",
    "manual_stopwords = [',','.',')',',','(','m',\"'m\",\"n't\",'e.g',\"'ve\",'s','#','/','``',\"'s\",\"''\",'!','r',']','=','[','s','&','%','*','...','1','2','3','4','5','6','7','8','9','10','--',\"''\",';','-',':', \"'\", '\"']"
   ]
  },
  {
   "cell_type": "code",
   "execution_count": null,
   "metadata": {},
   "outputs": [],
   "source": []
  },
  {
   "cell_type": "code",
   "execution_count": 90,
   "metadata": {},
   "outputs": [],
   "source": [
    "def data_processing(reviews, manual_stopworks):\n",
    "    data = {'wordMatrix':[],'all_words':[]}\n",
    "    interWordMatrix = []\n",
    "    interWordList = []\n",
    "    for row in reviews:\n",
    "        row = lowerCaseArray(row)\n",
    "        row = wordFilter(stopwords,row)\n",
    "        row = wordFilter(manual_stopwords,row)#4\n",
    "        row = wordStemmer(row)\n",
    "        interWordList.extend(row)#5\n",
    "        interWordMatrix.append(row)#6\n",
    "\n",
    "    wordfreqs = nltk.FreqDist(interWordList)#8\n",
    "    hapaxes = wordfreqs.hapaxes()#9\n",
    "\n",
    "    for wordvector in interWordMatrix:\n",
    "        wordvector_nohapexes = wordFilter(hapaxes,wordvector) #10\n",
    "        data['wordMatrix'].append(wordvector_nohapexes)\n",
    "        data['all_words'].extend(wordvector_nohapexes)\n",
    "\n",
    "    return data"
   ]
  },
  {
   "cell_type": "code",
   "execution_count": 96,
   "metadata": {
    "tags": []
   },
   "outputs": [],
   "source": [
    "from nltk.corpus import movie_reviews\n",
    "\n",
    "files_pos = movie_reviews.fileids('pos')\n",
    "files_neg = movie_reviews.fileids('neg')\n",
    "\n",
    "categories = ['pos', 'neg']\n",
    "data = {}\n",
    "\n",
    "for category in categories:\n",
    "    reviews = [movie_reviews.words(file_id) for file_id in movie_reviews.fileids(category)[0:]]\n",
    "    data[category] = data_processing(reviews, manual_stopwords)\n",
    "\n",
    "#print(data['pos'])"
   ]
  },
  {
   "cell_type": "code",
   "execution_count": 97,
   "metadata": {
    "tags": []
   },
   "outputs": [
    {
     "output_type": "stream",
     "name": "stdout",
     "text": "['jaw', 'rare', 'film', 'grab', 'attent', 'show', 'singl', 'imag', 'screen', 'movi', 'open', 'black', 'distant', 'alien', 'like', 'underwat', 'sound', 'come', 'first', 'omin', 'bar', 'compos', 'john', 'william', 'infam', 'score', 'dah', 'director', 'steven', 'spielberg', 'wast', 'time', 'take', 'us', 'water', 'midnight', 'swim', 'beauti', 'girl', 'turn', 'dead', 'right', 'away', 'let', 'us', 'know', 'vulner', 'float', 'ocean', 'jaw', 'attack', 'never', 'relinquish', 'grip', 'perhap', 'outstand', 'jaw', 'spielberg', 'build', 'movi', 'work', 'like', 'theatric', 'product', 'first', 'act', 'second', 'act', 'unlik', 'mani', 'modern', 'filmmak', 'great', 'deal', 'restraint', 'refus', 'show', 'us', 'shark', 'middl', 'second', 'act', 'mere', 'suggest', 'presenc', 'creepi', 'subject', 'underwat', 'shot', 'william', 'music', 'build', 'tension', 'bit', 'bit', 'come', 'time', 'climax', 'shark', 'arriv', 'truli', 'terrifi', 'let', 'us', 'get', 'bore', 'imageri', 'first', 'act', 'open', 'polic', 'chief', 'martin', 'brodi', 'roy', 'scheider', 'new', 'york', 'cop', 'taken', 'easi', 'peac', 'job', 'run', 'polic', 'station', 'island', 'fictiti', 'new', 'england', 'resort', 'town', 'murder', 'gun', 'fire', '25', 'year', 'island', 'shaken', 'sever', 'vicious', 'great', 'white', 'shark', 'attack', 'right', 'fourth', 'juli', 'mayor', 'larri', 'vaughn', 'murray', 'hamilton', 'want', 'shut', 'beach', 'island', 'reliant', 'summer', 'tourist', 'money', 'brodi', 'join', 'matt', 'hooper', 'richard', 'dreyfuss', 'young', 'ambiti', 'shark', 'expert', 'marin', 'institut', 'hooper', 'fascin', 'shark', 'determin', 'help', 'brodi', 'stop', 'knowledg', 'exact', 'work', 'shark', 'perfect', 'engin', 'eat', 'machin', 'make', 'much', 'terrifi', 'vaughn', 'final', 'hooper', 'brodi', 'join', 'old', 'shark', 'killer', 'name', 'quint', 'robert', 'shaw', 'decrepit', 'boat', 'orca', 'search', 'shark', 'entir', 'second', 'act', 'take', 'place', 'orca', 'three', 'men', 'hunt', 'shark', 'inevit', 'hunt', 'jaw', 'thriller', 'keen', 'sens', 'humor', 'incred', 'sens', 'pace', 'tension', 'horror', 'like', 'ten', 'movi', 'roll', 'one', 'wonder', 'took', 'america', 'storm', 'summer', '1975', 'take', 'enough', 'money', 'crown', 'box', 'offic', 'champ', 'time', 'unceremoni', 'dethron', '1977', 'star', 'war', 'even', 'today', 'fascin', 'film', 'par', 'hitchcock', 'psycho', 'never', 'seem', 'age', 'although', 'grand', 'new', 'technolog', 'exist', 'make', 'technic', 'sequenc', 'includ', 'sever', 'mechan', 'shark', 'obsolet', 'none', 'could', 'improv', 'film', 'would', 'lead', 'overkil', 'technic', 'limit', 'face', 'spielberg', '1975', 'may', 'actual', 'produc', 'better', 'film', 'forc', 'reli', 'tradit', 'cinemat', 'element', 'like', 'pace', 'character', 'sharp', 'edit', 'creativ', 'photographi', 'instead', 'simpli', 'audienc', 'digit', 'shark', 'effect', 'scheider', 'dreyfuss', 'shaw', 'known', 'actor', 'time', 'jaw', 'made', 'none', 'draw', 'robert', 'redford', 'paul', 'newman', 'nevertheless', 'film', 'guarante', 'success', 'career', 'gave', 'outstand', 'perform', 'refus', 'overshadow', 'shark', 'scheider', 'hit', 'right', 'note', 'sympathet', 'husband', 'father', 'caught', 'polit', 'quagmir', 'right', 'go', 'entir', 'town', 'first', 'summer', 'know', 'mayor', 'vaughn', 'warn', 'dreyfuss', 'previous', 'seen', 'american', 'graffiti', '1973', 'duddi', '1974', 'give', 'surpris', 'matur', 'complex', 'perform', 'someon', 'liter', 'play', 'kid', 'teenag', 'howev', 'outstand', 'gnarl', 'perform', 'robert', 'shaw', 'movi', 'captain', 'perform', 'sore', 'overlook', 'academi', 'award', 'border', 'parodi', 'shaw', 'play', 'quint', 'grizzl', 'old', 'loner', 'whose', 'machismo', 'border', 'slight', 'derang', 'shaw', 'perform', 'almost', 'caricatur', 'howev', 'one', 'scene', 'late', 'film', 'brodi', 'hooper', 'deck', 'orca', 'compar', 'scar', 'quint', 'drawn', 'tell', 'stori', 'experi', 'aboard', 'u', 'indianapoli', 'navi', 'ship', 'world', 'war', 'ii', 'sunk', 'japanes', 'tale', 'float', 'water', 'week', '000', 'men', 'swarm', 'shark', 'slowli', 'devour', 'actual', 'hair', 'rais', 'anyth', 'spielberg', 'put', 'screen', 'shaw', 'deliv', 'stori', 'one', 'long', 'take', 'best', 'act', 'film', 'cours', 'leav', 'shark', 'black', 'eye', 'endless', 'row', 'teeth', 'insati', 'urg', 'eat', 'basic', 'epitom', 'mankind', 'fear', 'unknown', 'threaten', 'natur', 'shark', 'perfect', 'nemesi', 'real', 'surviv', 'dinosaur', 'great', 'white', 'exist', 'larg', 'shark', 'jaw', 'threat', 'everi', 'one', 'spielberg', 'subject', 'underwat', 'shot', 'make', 'us', 'feel', 'queasi', 'let', 'us', 'see', 'look', 'shark', 'bunch', 'dangl', 'complet', 'unprotect', 'leg', 'readi', 'shark', 'jaw', 'actual', 'combin', 'actual', 'footag', 'five', 'differ', 'mechan', 'shark', 'nicknam', 'bruce', 'crew', 'built', 'shot', 'differ', 'angl', 'mani', 'forgotten', 'jaw', 'sort', 'precursor', 'waterworld', '1995', 'movi', 'soggi', 'product', 'cost', 'overrun', 'univers', 'studio', 'worri', 'bomb', 'see', 'spielberg', 'overcam', 'obstacl', 'deliv', 'one', 'finest', 'primal', 'scare', 'thriller', 'ever', 'come', 'hollywood']\n"
    }
   ],
   "source": [
    "print(data['pos']['wordMatrix'][3])"
   ]
  },
  {
   "cell_type": "code",
   "execution_count": 98,
   "metadata": {},
   "outputs": [
    {
     "output_type": "display_data",
     "data": {
      "text/plain": "<Figure size 432x288 with 1 Axes>",
      "image/svg+xml": "<?xml version=\"1.0\" encoding=\"utf-8\" standalone=\"no\"?>\r\n<!DOCTYPE svg PUBLIC \"-//W3C//DTD SVG 1.1//EN\"\r\n  \"http://www.w3.org/Graphics/SVG/1.1/DTD/svg11.dtd\">\r\n<!-- Created with matplotlib (https://matplotlib.org/) -->\r\n<svg height=\"252.018125pt\" version=\"1.1\" viewBox=\"0 0 385.15 252.018125\" width=\"385.15pt\" xmlns=\"http://www.w3.org/2000/svg\" xmlns:xlink=\"http://www.w3.org/1999/xlink\">\r\n <defs>\r\n  <style type=\"text/css\">\r\n*{stroke-linecap:butt;stroke-linejoin:round;}\r\n  </style>\r\n </defs>\r\n <g id=\"figure_1\">\r\n  <g id=\"patch_1\">\r\n   <path d=\"M -0 252.018125 \r\nL 385.15 252.018125 \r\nL 385.15 0 \r\nL -0 0 \r\nz\r\n\" style=\"fill:none;\"/>\r\n  </g>\r\n  <g id=\"axes_1\">\r\n   <g id=\"patch_2\">\r\n    <path d=\"M 39.65 228.14 \r\nL 374.45 228.14 \r\nL 374.45 10.7 \r\nL 39.65 10.7 \r\nz\r\n\" style=\"fill:#ffffff;\"/>\r\n   </g>\r\n   <g id=\"patch_3\">\r\n    <path clip-path=\"url(#p03e2c3eb16)\" d=\"M 54.868182 228.14 \r\nL 88.686364 228.14 \r\nL 88.686364 228.14 \r\nL 54.868182 228.14 \r\nz\r\n\" style=\"fill:#1f77b4;\"/>\r\n   </g>\r\n   <g id=\"patch_4\">\r\n    <path clip-path=\"url(#p03e2c3eb16)\" d=\"M 88.686364 228.14 \r\nL 122.504545 228.14 \r\nL 122.504545 228.14 \r\nL 88.686364 228.14 \r\nz\r\n\" style=\"fill:#1f77b4;\"/>\r\n   </g>\r\n   <g id=\"patch_5\">\r\n    <path clip-path=\"url(#p03e2c3eb16)\" d=\"M 122.504545 228.14 \r\nL 156.322727 228.14 \r\nL 156.322727 21.054286 \r\nL 122.504545 21.054286 \r\nz\r\n\" style=\"fill:#1f77b4;\"/>\r\n   </g>\r\n   <g id=\"patch_6\">\r\n    <path clip-path=\"url(#p03e2c3eb16)\" d=\"M 156.322727 228.14 \r\nL 190.140909 228.14 \r\nL 190.140909 106.887375 \r\nL 156.322727 106.887375 \r\nz\r\n\" style=\"fill:#1f77b4;\"/>\r\n   </g>\r\n   <g id=\"patch_7\">\r\n    <path clip-path=\"url(#p03e2c3eb16)\" d=\"M 190.140909 228.14 \r\nL 223.959091 228.14 \r\nL 223.959091 146.590916 \r\nL 190.140909 146.590916 \r\nz\r\n\" style=\"fill:#1f77b4;\"/>\r\n   </g>\r\n   <g id=\"patch_8\">\r\n    <path clip-path=\"url(#p03e2c3eb16)\" d=\"M 223.959091 228.14 \r\nL 257.777273 228.14 \r\nL 257.777273 164.338934 \r\nL 223.959091 164.338934 \r\nz\r\n\" style=\"fill:#1f77b4;\"/>\r\n   </g>\r\n   <g id=\"patch_9\">\r\n    <path clip-path=\"url(#p03e2c3eb16)\" d=\"M 257.777273 228.14 \r\nL 291.595455 228.14 \r\nL 291.595455 182.239953 \r\nL 257.777273 182.239953 \r\nz\r\n\" style=\"fill:#1f77b4;\"/>\r\n   </g>\r\n   <g id=\"patch_10\">\r\n    <path clip-path=\"url(#p03e2c3eb16)\" d=\"M 291.595455 228.14 \r\nL 325.413636 228.14 \r\nL 325.413636 186.753457 \r\nL 291.595455 186.753457 \r\nz\r\n\" style=\"fill:#1f77b4;\"/>\r\n   </g>\r\n   <g id=\"patch_11\">\r\n    <path clip-path=\"url(#p03e2c3eb16)\" d=\"M 325.413636 228.14 \r\nL 359.231818 228.14 \r\nL 359.231818 167.704937 \r\nL 325.413636 167.704937 \r\nz\r\n\" style=\"fill:#1f77b4;\"/>\r\n   </g>\r\n   <g id=\"matplotlib.axis_1\">\r\n    <g id=\"xtick_1\">\r\n     <g id=\"line2d_1\">\r\n      <defs>\r\n       <path d=\"M 0 0 \r\nL 0 3.5 \r\n\" id=\"m204efc2d6e\" style=\"stroke:#000000;stroke-width:0.8;\"/>\r\n      </defs>\r\n      <g>\r\n       <use style=\"stroke:#000000;stroke-width:0.8;\" x=\"54.868182\" xlink:href=\"#m204efc2d6e\" y=\"228.14\"/>\r\n      </g>\r\n     </g>\r\n     <g id=\"text_1\">\r\n      <!-- 0 -->\r\n      <defs>\r\n       <path d=\"M 31.78125 66.40625 \r\nQ 24.171875 66.40625 20.328125 58.90625 \r\nQ 16.5 51.421875 16.5 36.375 \r\nQ 16.5 21.390625 20.328125 13.890625 \r\nQ 24.171875 6.390625 31.78125 6.390625 \r\nQ 39.453125 6.390625 43.28125 13.890625 \r\nQ 47.125 21.390625 47.125 36.375 \r\nQ 47.125 51.421875 43.28125 58.90625 \r\nQ 39.453125 66.40625 31.78125 66.40625 \r\nz\r\nM 31.78125 74.21875 \r\nQ 44.046875 74.21875 50.515625 64.515625 \r\nQ 56.984375 54.828125 56.984375 36.375 \r\nQ 56.984375 17.96875 50.515625 8.265625 \r\nQ 44.046875 -1.421875 31.78125 -1.421875 \r\nQ 19.53125 -1.421875 13.0625 8.265625 \r\nQ 6.59375 17.96875 6.59375 36.375 \r\nQ 6.59375 54.828125 13.0625 64.515625 \r\nQ 19.53125 74.21875 31.78125 74.21875 \r\nz\r\n\" id=\"DejaVuSans-48\"/>\r\n      </defs>\r\n      <g transform=\"translate(51.686932 242.738437)scale(0.1 -0.1)\">\r\n       <use xlink:href=\"#DejaVuSans-48\"/>\r\n      </g>\r\n     </g>\r\n    </g>\r\n    <g id=\"xtick_2\">\r\n     <g id=\"line2d_2\">\r\n      <g>\r\n       <use style=\"stroke:#000000;stroke-width:0.8;\" x=\"122.504545\" xlink:href=\"#m204efc2d6e\" y=\"228.14\"/>\r\n      </g>\r\n     </g>\r\n     <g id=\"text_2\">\r\n      <!-- 2 -->\r\n      <defs>\r\n       <path d=\"M 19.1875 8.296875 \r\nL 53.609375 8.296875 \r\nL 53.609375 0 \r\nL 7.328125 0 \r\nL 7.328125 8.296875 \r\nQ 12.9375 14.109375 22.625 23.890625 \r\nQ 32.328125 33.6875 34.8125 36.53125 \r\nQ 39.546875 41.84375 41.421875 45.53125 \r\nQ 43.3125 49.21875 43.3125 52.78125 \r\nQ 43.3125 58.59375 39.234375 62.25 \r\nQ 35.15625 65.921875 28.609375 65.921875 \r\nQ 23.96875 65.921875 18.8125 64.3125 \r\nQ 13.671875 62.703125 7.8125 59.421875 \r\nL 7.8125 69.390625 \r\nQ 13.765625 71.78125 18.9375 73 \r\nQ 24.125 74.21875 28.421875 74.21875 \r\nQ 39.75 74.21875 46.484375 68.546875 \r\nQ 53.21875 62.890625 53.21875 53.421875 \r\nQ 53.21875 48.921875 51.53125 44.890625 \r\nQ 49.859375 40.875 45.40625 35.40625 \r\nQ 44.1875 33.984375 37.640625 27.21875 \r\nQ 31.109375 20.453125 19.1875 8.296875 \r\nz\r\n\" id=\"DejaVuSans-50\"/>\r\n      </defs>\r\n      <g transform=\"translate(119.323295 242.738437)scale(0.1 -0.1)\">\r\n       <use xlink:href=\"#DejaVuSans-50\"/>\r\n      </g>\r\n     </g>\r\n    </g>\r\n    <g id=\"xtick_3\">\r\n     <g id=\"line2d_3\">\r\n      <g>\r\n       <use style=\"stroke:#000000;stroke-width:0.8;\" x=\"190.140909\" xlink:href=\"#m204efc2d6e\" y=\"228.14\"/>\r\n      </g>\r\n     </g>\r\n     <g id=\"text_3\">\r\n      <!-- 4 -->\r\n      <defs>\r\n       <path d=\"M 37.796875 64.3125 \r\nL 12.890625 25.390625 \r\nL 37.796875 25.390625 \r\nz\r\nM 35.203125 72.90625 \r\nL 47.609375 72.90625 \r\nL 47.609375 25.390625 \r\nL 58.015625 25.390625 \r\nL 58.015625 17.1875 \r\nL 47.609375 17.1875 \r\nL 47.609375 0 \r\nL 37.796875 0 \r\nL 37.796875 17.1875 \r\nL 4.890625 17.1875 \r\nL 4.890625 26.703125 \r\nz\r\n\" id=\"DejaVuSans-52\"/>\r\n      </defs>\r\n      <g transform=\"translate(186.959659 242.738437)scale(0.1 -0.1)\">\r\n       <use xlink:href=\"#DejaVuSans-52\"/>\r\n      </g>\r\n     </g>\r\n    </g>\r\n    <g id=\"xtick_4\">\r\n     <g id=\"line2d_4\">\r\n      <g>\r\n       <use style=\"stroke:#000000;stroke-width:0.8;\" x=\"257.777273\" xlink:href=\"#m204efc2d6e\" y=\"228.14\"/>\r\n      </g>\r\n     </g>\r\n     <g id=\"text_4\">\r\n      <!-- 6 -->\r\n      <defs>\r\n       <path d=\"M 33.015625 40.375 \r\nQ 26.375 40.375 22.484375 35.828125 \r\nQ 18.609375 31.296875 18.609375 23.390625 \r\nQ 18.609375 15.53125 22.484375 10.953125 \r\nQ 26.375 6.390625 33.015625 6.390625 \r\nQ 39.65625 6.390625 43.53125 10.953125 \r\nQ 47.40625 15.53125 47.40625 23.390625 \r\nQ 47.40625 31.296875 43.53125 35.828125 \r\nQ 39.65625 40.375 33.015625 40.375 \r\nz\r\nM 52.59375 71.296875 \r\nL 52.59375 62.3125 \r\nQ 48.875 64.0625 45.09375 64.984375 \r\nQ 41.3125 65.921875 37.59375 65.921875 \r\nQ 27.828125 65.921875 22.671875 59.328125 \r\nQ 17.53125 52.734375 16.796875 39.40625 \r\nQ 19.671875 43.65625 24.015625 45.921875 \r\nQ 28.375 48.1875 33.59375 48.1875 \r\nQ 44.578125 48.1875 50.953125 41.515625 \r\nQ 57.328125 34.859375 57.328125 23.390625 \r\nQ 57.328125 12.15625 50.6875 5.359375 \r\nQ 44.046875 -1.421875 33.015625 -1.421875 \r\nQ 20.359375 -1.421875 13.671875 8.265625 \r\nQ 6.984375 17.96875 6.984375 36.375 \r\nQ 6.984375 53.65625 15.1875 63.9375 \r\nQ 23.390625 74.21875 37.203125 74.21875 \r\nQ 40.921875 74.21875 44.703125 73.484375 \r\nQ 48.484375 72.75 52.59375 71.296875 \r\nz\r\n\" id=\"DejaVuSans-54\"/>\r\n      </defs>\r\n      <g transform=\"translate(254.596023 242.738437)scale(0.1 -0.1)\">\r\n       <use xlink:href=\"#DejaVuSans-54\"/>\r\n      </g>\r\n     </g>\r\n    </g>\r\n    <g id=\"xtick_5\">\r\n     <g id=\"line2d_5\">\r\n      <g>\r\n       <use style=\"stroke:#000000;stroke-width:0.8;\" x=\"325.413636\" xlink:href=\"#m204efc2d6e\" y=\"228.14\"/>\r\n      </g>\r\n     </g>\r\n     <g id=\"text_5\">\r\n      <!-- 8 -->\r\n      <defs>\r\n       <path d=\"M 31.78125 34.625 \r\nQ 24.75 34.625 20.71875 30.859375 \r\nQ 16.703125 27.09375 16.703125 20.515625 \r\nQ 16.703125 13.921875 20.71875 10.15625 \r\nQ 24.75 6.390625 31.78125 6.390625 \r\nQ 38.8125 6.390625 42.859375 10.171875 \r\nQ 46.921875 13.96875 46.921875 20.515625 \r\nQ 46.921875 27.09375 42.890625 30.859375 \r\nQ 38.875 34.625 31.78125 34.625 \r\nz\r\nM 21.921875 38.8125 \r\nQ 15.578125 40.375 12.03125 44.71875 \r\nQ 8.5 49.078125 8.5 55.328125 \r\nQ 8.5 64.0625 14.71875 69.140625 \r\nQ 20.953125 74.21875 31.78125 74.21875 \r\nQ 42.671875 74.21875 48.875 69.140625 \r\nQ 55.078125 64.0625 55.078125 55.328125 \r\nQ 55.078125 49.078125 51.53125 44.71875 \r\nQ 48 40.375 41.703125 38.8125 \r\nQ 48.828125 37.15625 52.796875 32.3125 \r\nQ 56.78125 27.484375 56.78125 20.515625 \r\nQ 56.78125 9.90625 50.3125 4.234375 \r\nQ 43.84375 -1.421875 31.78125 -1.421875 \r\nQ 19.734375 -1.421875 13.25 4.234375 \r\nQ 6.78125 9.90625 6.78125 20.515625 \r\nQ 6.78125 27.484375 10.78125 32.3125 \r\nQ 14.796875 37.15625 21.921875 38.8125 \r\nz\r\nM 18.3125 54.390625 \r\nQ 18.3125 48.734375 21.84375 45.5625 \r\nQ 25.390625 42.390625 31.78125 42.390625 \r\nQ 38.140625 42.390625 41.71875 45.5625 \r\nQ 45.3125 48.734375 45.3125 54.390625 \r\nQ 45.3125 60.0625 41.71875 63.234375 \r\nQ 38.140625 66.40625 31.78125 66.40625 \r\nQ 25.390625 66.40625 21.84375 63.234375 \r\nQ 18.3125 60.0625 18.3125 54.390625 \r\nz\r\n\" id=\"DejaVuSans-56\"/>\r\n      </defs>\r\n      <g transform=\"translate(322.232386 242.738437)scale(0.1 -0.1)\">\r\n       <use xlink:href=\"#DejaVuSans-56\"/>\r\n      </g>\r\n     </g>\r\n    </g>\r\n   </g>\r\n   <g id=\"matplotlib.axis_2\">\r\n    <g id=\"ytick_1\">\r\n     <g id=\"line2d_6\">\r\n      <defs>\r\n       <path d=\"M 0 0 \r\nL -3.5 0 \r\n\" id=\"m3c356ff27a\" style=\"stroke:#000000;stroke-width:0.8;\"/>\r\n      </defs>\r\n      <g>\r\n       <use style=\"stroke:#000000;stroke-width:0.8;\" x=\"39.65\" xlink:href=\"#m3c356ff27a\" y=\"228.14\"/>\r\n      </g>\r\n     </g>\r\n     <g id=\"text_6\">\r\n      <!-- 0 -->\r\n      <g transform=\"translate(26.2875 231.939219)scale(0.1 -0.1)\">\r\n       <use xlink:href=\"#DejaVuSans-48\"/>\r\n      </g>\r\n     </g>\r\n    </g>\r\n    <g id=\"ytick_2\">\r\n     <g id=\"line2d_7\">\r\n      <g>\r\n       <use style=\"stroke:#000000;stroke-width:0.8;\" x=\"39.65\" xlink:href=\"#m3c356ff27a\" y=\"189.88996\"/>\r\n      </g>\r\n     </g>\r\n     <g id=\"text_7\">\r\n      <!-- 500 -->\r\n      <defs>\r\n       <path d=\"M 10.796875 72.90625 \r\nL 49.515625 72.90625 \r\nL 49.515625 64.59375 \r\nL 19.828125 64.59375 \r\nL 19.828125 46.734375 \r\nQ 21.96875 47.46875 24.109375 47.828125 \r\nQ 26.265625 48.1875 28.421875 48.1875 \r\nQ 40.625 48.1875 47.75 41.5 \r\nQ 54.890625 34.8125 54.890625 23.390625 \r\nQ 54.890625 11.625 47.5625 5.09375 \r\nQ 40.234375 -1.421875 26.90625 -1.421875 \r\nQ 22.3125 -1.421875 17.546875 -0.640625 \r\nQ 12.796875 0.140625 7.71875 1.703125 \r\nL 7.71875 11.625 \r\nQ 12.109375 9.234375 16.796875 8.0625 \r\nQ 21.484375 6.890625 26.703125 6.890625 \r\nQ 35.15625 6.890625 40.078125 11.328125 \r\nQ 45.015625 15.765625 45.015625 23.390625 \r\nQ 45.015625 31 40.078125 35.4375 \r\nQ 35.15625 39.890625 26.703125 39.890625 \r\nQ 22.75 39.890625 18.8125 39.015625 \r\nQ 14.890625 38.140625 10.796875 36.28125 \r\nz\r\n\" id=\"DejaVuSans-53\"/>\r\n      </defs>\r\n      <g transform=\"translate(13.5625 193.689179)scale(0.1 -0.1)\">\r\n       <use xlink:href=\"#DejaVuSans-53\"/>\r\n       <use x=\"63.623047\" xlink:href=\"#DejaVuSans-48\"/>\r\n       <use x=\"127.246094\" xlink:href=\"#DejaVuSans-48\"/>\r\n      </g>\r\n     </g>\r\n    </g>\r\n    <g id=\"ytick_3\">\r\n     <g id=\"line2d_8\">\r\n      <g>\r\n       <use style=\"stroke:#000000;stroke-width:0.8;\" x=\"39.65\" xlink:href=\"#m3c356ff27a\" y=\"151.639921\"/>\r\n      </g>\r\n     </g>\r\n     <g id=\"text_8\">\r\n      <!-- 1000 -->\r\n      <defs>\r\n       <path d=\"M 12.40625 8.296875 \r\nL 28.515625 8.296875 \r\nL 28.515625 63.921875 \r\nL 10.984375 60.40625 \r\nL 10.984375 69.390625 \r\nL 28.421875 72.90625 \r\nL 38.28125 72.90625 \r\nL 38.28125 8.296875 \r\nL 54.390625 8.296875 \r\nL 54.390625 0 \r\nL 12.40625 0 \r\nz\r\n\" id=\"DejaVuSans-49\"/>\r\n      </defs>\r\n      <g transform=\"translate(7.2 155.43914)scale(0.1 -0.1)\">\r\n       <use xlink:href=\"#DejaVuSans-49\"/>\r\n       <use x=\"63.623047\" xlink:href=\"#DejaVuSans-48\"/>\r\n       <use x=\"127.246094\" xlink:href=\"#DejaVuSans-48\"/>\r\n       <use x=\"190.869141\" xlink:href=\"#DejaVuSans-48\"/>\r\n      </g>\r\n     </g>\r\n    </g>\r\n    <g id=\"ytick_4\">\r\n     <g id=\"line2d_9\">\r\n      <g>\r\n       <use style=\"stroke:#000000;stroke-width:0.8;\" x=\"39.65\" xlink:href=\"#m3c356ff27a\" y=\"113.389881\"/>\r\n      </g>\r\n     </g>\r\n     <g id=\"text_9\">\r\n      <!-- 1500 -->\r\n      <g transform=\"translate(7.2 117.1891)scale(0.1 -0.1)\">\r\n       <use xlink:href=\"#DejaVuSans-49\"/>\r\n       <use x=\"63.623047\" xlink:href=\"#DejaVuSans-53\"/>\r\n       <use x=\"127.246094\" xlink:href=\"#DejaVuSans-48\"/>\r\n       <use x=\"190.869141\" xlink:href=\"#DejaVuSans-48\"/>\r\n      </g>\r\n     </g>\r\n    </g>\r\n    <g id=\"ytick_5\">\r\n     <g id=\"line2d_10\">\r\n      <g>\r\n       <use style=\"stroke:#000000;stroke-width:0.8;\" x=\"39.65\" xlink:href=\"#m3c356ff27a\" y=\"75.139842\"/>\r\n      </g>\r\n     </g>\r\n     <g id=\"text_10\">\r\n      <!-- 2000 -->\r\n      <g transform=\"translate(7.2 78.93906)scale(0.1 -0.1)\">\r\n       <use xlink:href=\"#DejaVuSans-50\"/>\r\n       <use x=\"63.623047\" xlink:href=\"#DejaVuSans-48\"/>\r\n       <use x=\"127.246094\" xlink:href=\"#DejaVuSans-48\"/>\r\n       <use x=\"190.869141\" xlink:href=\"#DejaVuSans-48\"/>\r\n      </g>\r\n     </g>\r\n    </g>\r\n    <g id=\"ytick_6\">\r\n     <g id=\"line2d_11\">\r\n      <g>\r\n       <use style=\"stroke:#000000;stroke-width:0.8;\" x=\"39.65\" xlink:href=\"#m3c356ff27a\" y=\"36.889802\"/>\r\n      </g>\r\n     </g>\r\n     <g id=\"text_11\">\r\n      <!-- 2500 -->\r\n      <g transform=\"translate(7.2 40.689021)scale(0.1 -0.1)\">\r\n       <use xlink:href=\"#DejaVuSans-50\"/>\r\n       <use x=\"63.623047\" xlink:href=\"#DejaVuSans-53\"/>\r\n       <use x=\"127.246094\" xlink:href=\"#DejaVuSans-48\"/>\r\n       <use x=\"190.869141\" xlink:href=\"#DejaVuSans-48\"/>\r\n      </g>\r\n     </g>\r\n    </g>\r\n   </g>\r\n   <g id=\"patch_12\">\r\n    <path d=\"M 39.65 228.14 \r\nL 39.65 10.7 \r\n\" style=\"fill:none;stroke:#000000;stroke-linecap:square;stroke-linejoin:miter;stroke-width:0.8;\"/>\r\n   </g>\r\n   <g id=\"patch_13\">\r\n    <path d=\"M 374.45 228.14 \r\nL 374.45 10.7 \r\n\" style=\"fill:none;stroke:#000000;stroke-linecap:square;stroke-linejoin:miter;stroke-width:0.8;\"/>\r\n   </g>\r\n   <g id=\"patch_14\">\r\n    <path d=\"M 39.65 228.14 \r\nL 374.45 228.14 \r\n\" style=\"fill:none;stroke:#000000;stroke-linecap:square;stroke-linejoin:miter;stroke-width:0.8;\"/>\r\n   </g>\r\n   <g id=\"patch_15\">\r\n    <path d=\"M 39.65 10.7 \r\nL 374.45 10.7 \r\n\" style=\"fill:none;stroke:#000000;stroke-linecap:square;stroke-linejoin:miter;stroke-width:0.8;\"/>\r\n   </g>\r\n  </g>\r\n </g>\r\n <defs>\r\n  <clipPath id=\"p03e2c3eb16\">\r\n   <rect height=\"217.44\" width=\"334.8\" x=\"39.65\" y=\"10.7\"/>\r\n  </clipPath>\r\n </defs>\r\n</svg>\r\n",
      "image/png": "[encoded data removed]"
     },
     "metadata": {
      "needs_background": "light"
     }
    },
    {
     "output_type": "display_data",
     "data": {
      "text/plain": "<Figure size 432x288 with 1 Axes>",
      "image/svg+xml": "<?xml version=\"1.0\" encoding=\"utf-8\" standalone=\"no\"?>\r\n<!DOCTYPE svg PUBLIC \"-//W3C//DTD SVG 1.1//EN\"\r\n  \"http://www.w3.org/Graphics/SVG/1.1/DTD/svg11.dtd\">\r\n<!-- Created with matplotlib (https://matplotlib.org/) -->\r\n<svg height=\"252.018125pt\" version=\"1.1\" viewBox=\"0 0 385.15 252.018125\" width=\"385.15pt\" xmlns=\"http://www.w3.org/2000/svg\" xmlns:xlink=\"http://www.w3.org/1999/xlink\">\r\n <defs>\r\n  <style type=\"text/css\">\r\n*{stroke-linecap:butt;stroke-linejoin:round;}\r\n  </style>\r\n </defs>\r\n <g id=\"figure_1\">\r\n  <g id=\"patch_1\">\r\n   <path d=\"M -0 252.018125 \r\nL 385.15 252.018125 \r\nL 385.15 0 \r\nL -0 0 \r\nz\r\n\" style=\"fill:none;\"/>\r\n  </g>\r\n  <g id=\"axes_1\">\r\n   <g id=\"patch_2\">\r\n    <path d=\"M 39.65 228.14 \r\nL 374.45 228.14 \r\nL 374.45 10.7 \r\nL 39.65 10.7 \r\nz\r\n\" style=\"fill:#ffffff;\"/>\r\n   </g>\r\n   <g id=\"patch_3\">\r\n    <path clip-path=\"url(#p3ee94c70c2)\" d=\"M 54.868182 228.14 \r\nL 88.686364 228.14 \r\nL 88.686364 228.14 \r\nL 54.868182 228.14 \r\nz\r\n\" style=\"fill:#1f77b4;\"/>\r\n   </g>\r\n   <g id=\"patch_4\">\r\n    <path clip-path=\"url(#p3ee94c70c2)\" d=\"M 88.686364 228.14 \r\nL 122.504545 228.14 \r\nL 122.504545 228.14 \r\nL 88.686364 228.14 \r\nz\r\n\" style=\"fill:#1f77b4;\"/>\r\n   </g>\r\n   <g id=\"patch_5\">\r\n    <path clip-path=\"url(#p3ee94c70c2)\" d=\"M 122.504545 228.14 \r\nL 156.322727 228.14 \r\nL 156.322727 21.054286 \r\nL 122.504545 21.054286 \r\nz\r\n\" style=\"fill:#1f77b4;\"/>\r\n   </g>\r\n   <g id=\"patch_6\">\r\n    <path clip-path=\"url(#p3ee94c70c2)\" d=\"M 156.322727 228.14 \r\nL 190.140909 228.14 \r\nL 190.140909 106.924791 \r\nL 156.322727 106.924791 \r\nz\r\n\" style=\"fill:#1f77b4;\"/>\r\n   </g>\r\n   <g id=\"patch_7\">\r\n    <path clip-path=\"url(#p3ee94c70c2)\" d=\"M 190.140909 228.14 \r\nL 223.959091 228.14 \r\nL 223.959091 149.276155 \r\nL 190.140909 149.276155 \r\nz\r\n\" style=\"fill:#1f77b4;\"/>\r\n   </g>\r\n   <g id=\"patch_8\">\r\n    <path clip-path=\"url(#p3ee94c70c2)\" d=\"M 223.959091 228.14 \r\nL 257.777273 228.14 \r\nL 257.777273 169.361912 \r\nL 223.959091 169.361912 \r\nz\r\n\" style=\"fill:#1f77b4;\"/>\r\n   </g>\r\n   <g id=\"patch_9\">\r\n    <path clip-path=\"url(#p3ee94c70c2)\" d=\"M 257.777273 228.14 \r\nL 291.595455 228.14 \r\nL 291.595455 180.883974 \r\nL 257.777273 180.883974 \r\nz\r\n\" style=\"fill:#1f77b4;\"/>\r\n   </g>\r\n   <g id=\"patch_10\">\r\n    <path clip-path=\"url(#p3ee94c70c2)\" d=\"M 291.595455 228.14 \r\nL 325.413636 228.14 \r\nL 325.413636 192.328185 \r\nL 291.595455 192.328185 \r\nz\r\n\" style=\"fill:#1f77b4;\"/>\r\n   </g>\r\n   <g id=\"patch_11\">\r\n    <path clip-path=\"url(#p3ee94c70c2)\" d=\"M 325.413636 228.14 \r\nL 359.231818 228.14 \r\nL 359.231818 168.894801 \r\nL 325.413636 168.894801 \r\nz\r\n\" style=\"fill:#1f77b4;\"/>\r\n   </g>\r\n   <g id=\"matplotlib.axis_1\">\r\n    <g id=\"xtick_1\">\r\n     <g id=\"line2d_1\">\r\n      <defs>\r\n       <path d=\"M 0 0 \r\nL 0 3.5 \r\n\" id=\"m5cc6b2a75b\" style=\"stroke:#000000;stroke-width:0.8;\"/>\r\n      </defs>\r\n      <g>\r\n       <use style=\"stroke:#000000;stroke-width:0.8;\" x=\"54.868182\" xlink:href=\"#m5cc6b2a75b\" y=\"228.14\"/>\r\n      </g>\r\n     </g>\r\n     <g id=\"text_1\">\r\n      <!-- 0 -->\r\n      <defs>\r\n       <path d=\"M 31.78125 66.40625 \r\nQ 24.171875 66.40625 20.328125 58.90625 \r\nQ 16.5 51.421875 16.5 36.375 \r\nQ 16.5 21.390625 20.328125 13.890625 \r\nQ 24.171875 6.390625 31.78125 6.390625 \r\nQ 39.453125 6.390625 43.28125 13.890625 \r\nQ 47.125 21.390625 47.125 36.375 \r\nQ 47.125 51.421875 43.28125 58.90625 \r\nQ 39.453125 66.40625 31.78125 66.40625 \r\nz\r\nM 31.78125 74.21875 \r\nQ 44.046875 74.21875 50.515625 64.515625 \r\nQ 56.984375 54.828125 56.984375 36.375 \r\nQ 56.984375 17.96875 50.515625 8.265625 \r\nQ 44.046875 -1.421875 31.78125 -1.421875 \r\nQ 19.53125 -1.421875 13.0625 8.265625 \r\nQ 6.59375 17.96875 6.59375 36.375 \r\nQ 6.59375 54.828125 13.0625 64.515625 \r\nQ 19.53125 74.21875 31.78125 74.21875 \r\nz\r\n\" id=\"DejaVuSans-48\"/>\r\n      </defs>\r\n      <g transform=\"translate(51.686932 242.738437)scale(0.1 -0.1)\">\r\n       <use xlink:href=\"#DejaVuSans-48\"/>\r\n      </g>\r\n     </g>\r\n    </g>\r\n    <g id=\"xtick_2\">\r\n     <g id=\"line2d_2\">\r\n      <g>\r\n       <use style=\"stroke:#000000;stroke-width:0.8;\" x=\"122.504545\" xlink:href=\"#m5cc6b2a75b\" y=\"228.14\"/>\r\n      </g>\r\n     </g>\r\n     <g id=\"text_2\">\r\n      <!-- 2 -->\r\n      <defs>\r\n       <path d=\"M 19.1875 8.296875 \r\nL 53.609375 8.296875 \r\nL 53.609375 0 \r\nL 7.328125 0 \r\nL 7.328125 8.296875 \r\nQ 12.9375 14.109375 22.625 23.890625 \r\nQ 32.328125 33.6875 34.8125 36.53125 \r\nQ 39.546875 41.84375 41.421875 45.53125 \r\nQ 43.3125 49.21875 43.3125 52.78125 \r\nQ 43.3125 58.59375 39.234375 62.25 \r\nQ 35.15625 65.921875 28.609375 65.921875 \r\nQ 23.96875 65.921875 18.8125 64.3125 \r\nQ 13.671875 62.703125 7.8125 59.421875 \r\nL 7.8125 69.390625 \r\nQ 13.765625 71.78125 18.9375 73 \r\nQ 24.125 74.21875 28.421875 74.21875 \r\nQ 39.75 74.21875 46.484375 68.546875 \r\nQ 53.21875 62.890625 53.21875 53.421875 \r\nQ 53.21875 48.921875 51.53125 44.890625 \r\nQ 49.859375 40.875 45.40625 35.40625 \r\nQ 44.1875 33.984375 37.640625 27.21875 \r\nQ 31.109375 20.453125 19.1875 8.296875 \r\nz\r\n\" id=\"DejaVuSans-50\"/>\r\n      </defs>\r\n      <g transform=\"translate(119.323295 242.738437)scale(0.1 -0.1)\">\r\n       <use xlink:href=\"#DejaVuSans-50\"/>\r\n      </g>\r\n     </g>\r\n    </g>\r\n    <g id=\"xtick_3\">\r\n     <g id=\"line2d_3\">\r\n      <g>\r\n       <use style=\"stroke:#000000;stroke-width:0.8;\" x=\"190.140909\" xlink:href=\"#m5cc6b2a75b\" y=\"228.14\"/>\r\n      </g>\r\n     </g>\r\n     <g id=\"text_3\">\r\n      <!-- 4 -->\r\n      <defs>\r\n       <path d=\"M 37.796875 64.3125 \r\nL 12.890625 25.390625 \r\nL 37.796875 25.390625 \r\nz\r\nM 35.203125 72.90625 \r\nL 47.609375 72.90625 \r\nL 47.609375 25.390625 \r\nL 58.015625 25.390625 \r\nL 58.015625 17.1875 \r\nL 47.609375 17.1875 \r\nL 47.609375 0 \r\nL 37.796875 0 \r\nL 37.796875 17.1875 \r\nL 4.890625 17.1875 \r\nL 4.890625 26.703125 \r\nz\r\n\" id=\"DejaVuSans-52\"/>\r\n      </defs>\r\n      <g transform=\"translate(186.959659 242.738437)scale(0.1 -0.1)\">\r\n       <use xlink:href=\"#DejaVuSans-52\"/>\r\n      </g>\r\n     </g>\r\n    </g>\r\n    <g id=\"xtick_4\">\r\n     <g id=\"line2d_4\">\r\n      <g>\r\n       <use style=\"stroke:#000000;stroke-width:0.8;\" x=\"257.777273\" xlink:href=\"#m5cc6b2a75b\" y=\"228.14\"/>\r\n      </g>\r\n     </g>\r\n     <g id=\"text_4\">\r\n      <!-- 6 -->\r\n      <defs>\r\n       <path d=\"M 33.015625 40.375 \r\nQ 26.375 40.375 22.484375 35.828125 \r\nQ 18.609375 31.296875 18.609375 23.390625 \r\nQ 18.609375 15.53125 22.484375 10.953125 \r\nQ 26.375 6.390625 33.015625 6.390625 \r\nQ 39.65625 6.390625 43.53125 10.953125 \r\nQ 47.40625 15.53125 47.40625 23.390625 \r\nQ 47.40625 31.296875 43.53125 35.828125 \r\nQ 39.65625 40.375 33.015625 40.375 \r\nz\r\nM 52.59375 71.296875 \r\nL 52.59375 62.3125 \r\nQ 48.875 64.0625 45.09375 64.984375 \r\nQ 41.3125 65.921875 37.59375 65.921875 \r\nQ 27.828125 65.921875 22.671875 59.328125 \r\nQ 17.53125 52.734375 16.796875 39.40625 \r\nQ 19.671875 43.65625 24.015625 45.921875 \r\nQ 28.375 48.1875 33.59375 48.1875 \r\nQ 44.578125 48.1875 50.953125 41.515625 \r\nQ 57.328125 34.859375 57.328125 23.390625 \r\nQ 57.328125 12.15625 50.6875 5.359375 \r\nQ 44.046875 -1.421875 33.015625 -1.421875 \r\nQ 20.359375 -1.421875 13.671875 8.265625 \r\nQ 6.984375 17.96875 6.984375 36.375 \r\nQ 6.984375 53.65625 15.1875 63.9375 \r\nQ 23.390625 74.21875 37.203125 74.21875 \r\nQ 40.921875 74.21875 44.703125 73.484375 \r\nQ 48.484375 72.75 52.59375 71.296875 \r\nz\r\n\" id=\"DejaVuSans-54\"/>\r\n      </defs>\r\n      <g transform=\"translate(254.596023 242.738437)scale(0.1 -0.1)\">\r\n       <use xlink:href=\"#DejaVuSans-54\"/>\r\n      </g>\r\n     </g>\r\n    </g>\r\n    <g id=\"xtick_5\">\r\n     <g id=\"line2d_5\">\r\n      <g>\r\n       <use style=\"stroke:#000000;stroke-width:0.8;\" x=\"325.413636\" xlink:href=\"#m5cc6b2a75b\" y=\"228.14\"/>\r\n      </g>\r\n     </g>\r\n     <g id=\"text_5\">\r\n      <!-- 8 -->\r\n      <defs>\r\n       <path d=\"M 31.78125 34.625 \r\nQ 24.75 34.625 20.71875 30.859375 \r\nQ 16.703125 27.09375 16.703125 20.515625 \r\nQ 16.703125 13.921875 20.71875 10.15625 \r\nQ 24.75 6.390625 31.78125 6.390625 \r\nQ 38.8125 6.390625 42.859375 10.171875 \r\nQ 46.921875 13.96875 46.921875 20.515625 \r\nQ 46.921875 27.09375 42.890625 30.859375 \r\nQ 38.875 34.625 31.78125 34.625 \r\nz\r\nM 21.921875 38.8125 \r\nQ 15.578125 40.375 12.03125 44.71875 \r\nQ 8.5 49.078125 8.5 55.328125 \r\nQ 8.5 64.0625 14.71875 69.140625 \r\nQ 20.953125 74.21875 31.78125 74.21875 \r\nQ 42.671875 74.21875 48.875 69.140625 \r\nQ 55.078125 64.0625 55.078125 55.328125 \r\nQ 55.078125 49.078125 51.53125 44.71875 \r\nQ 48 40.375 41.703125 38.8125 \r\nQ 48.828125 37.15625 52.796875 32.3125 \r\nQ 56.78125 27.484375 56.78125 20.515625 \r\nQ 56.78125 9.90625 50.3125 4.234375 \r\nQ 43.84375 -1.421875 31.78125 -1.421875 \r\nQ 19.734375 -1.421875 13.25 4.234375 \r\nQ 6.78125 9.90625 6.78125 20.515625 \r\nQ 6.78125 27.484375 10.78125 32.3125 \r\nQ 14.796875 37.15625 21.921875 38.8125 \r\nz\r\nM 18.3125 54.390625 \r\nQ 18.3125 48.734375 21.84375 45.5625 \r\nQ 25.390625 42.390625 31.78125 42.390625 \r\nQ 38.140625 42.390625 41.71875 45.5625 \r\nQ 45.3125 48.734375 45.3125 54.390625 \r\nQ 45.3125 60.0625 41.71875 63.234375 \r\nQ 38.140625 66.40625 31.78125 66.40625 \r\nQ 25.390625 66.40625 21.84375 63.234375 \r\nQ 18.3125 60.0625 18.3125 54.390625 \r\nz\r\n\" id=\"DejaVuSans-56\"/>\r\n      </defs>\r\n      <g transform=\"translate(322.232386 242.738437)scale(0.1 -0.1)\">\r\n       <use xlink:href=\"#DejaVuSans-56\"/>\r\n      </g>\r\n     </g>\r\n    </g>\r\n   </g>\r\n   <g id=\"matplotlib.axis_2\">\r\n    <g id=\"ytick_1\">\r\n     <g id=\"line2d_6\">\r\n      <defs>\r\n       <path d=\"M 0 0 \r\nL -3.5 0 \r\n\" id=\"me1168d635f\" style=\"stroke:#000000;stroke-width:0.8;\"/>\r\n      </defs>\r\n      <g>\r\n       <use style=\"stroke:#000000;stroke-width:0.8;\" x=\"39.65\" xlink:href=\"#me1168d635f\" y=\"228.14\"/>\r\n      </g>\r\n     </g>\r\n     <g id=\"text_6\">\r\n      <!-- 0 -->\r\n      <g transform=\"translate(26.2875 231.939219)scale(0.1 -0.1)\">\r\n       <use xlink:href=\"#DejaVuSans-48\"/>\r\n      </g>\r\n     </g>\r\n    </g>\r\n    <g id=\"ytick_2\">\r\n     <g id=\"line2d_7\">\r\n      <g>\r\n       <use style=\"stroke:#000000;stroke-width:0.8;\" x=\"39.65\" xlink:href=\"#me1168d635f\" y=\"189.214114\"/>\r\n      </g>\r\n     </g>\r\n     <g id=\"text_7\">\r\n      <!-- 500 -->\r\n      <defs>\r\n       <path d=\"M 10.796875 72.90625 \r\nL 49.515625 72.90625 \r\nL 49.515625 64.59375 \r\nL 19.828125 64.59375 \r\nL 19.828125 46.734375 \r\nQ 21.96875 47.46875 24.109375 47.828125 \r\nQ 26.265625 48.1875 28.421875 48.1875 \r\nQ 40.625 48.1875 47.75 41.5 \r\nQ 54.890625 34.8125 54.890625 23.390625 \r\nQ 54.890625 11.625 47.5625 5.09375 \r\nQ 40.234375 -1.421875 26.90625 -1.421875 \r\nQ 22.3125 -1.421875 17.546875 -0.640625 \r\nQ 12.796875 0.140625 7.71875 1.703125 \r\nL 7.71875 11.625 \r\nQ 12.109375 9.234375 16.796875 8.0625 \r\nQ 21.484375 6.890625 26.703125 6.890625 \r\nQ 35.15625 6.890625 40.078125 11.328125 \r\nQ 45.015625 15.765625 45.015625 23.390625 \r\nQ 45.015625 31 40.078125 35.4375 \r\nQ 35.15625 39.890625 26.703125 39.890625 \r\nQ 22.75 39.890625 18.8125 39.015625 \r\nQ 14.890625 38.140625 10.796875 36.28125 \r\nz\r\n\" id=\"DejaVuSans-53\"/>\r\n      </defs>\r\n      <g transform=\"translate(13.5625 193.013333)scale(0.1 -0.1)\">\r\n       <use xlink:href=\"#DejaVuSans-53\"/>\r\n       <use x=\"63.623047\" xlink:href=\"#DejaVuSans-48\"/>\r\n       <use x=\"127.246094\" xlink:href=\"#DejaVuSans-48\"/>\r\n      </g>\r\n     </g>\r\n    </g>\r\n    <g id=\"ytick_3\">\r\n     <g id=\"line2d_8\">\r\n      <g>\r\n       <use style=\"stroke:#000000;stroke-width:0.8;\" x=\"39.65\" xlink:href=\"#me1168d635f\" y=\"150.288228\"/>\r\n      </g>\r\n     </g>\r\n     <g id=\"text_8\">\r\n      <!-- 1000 -->\r\n      <defs>\r\n       <path d=\"M 12.40625 8.296875 \r\nL 28.515625 8.296875 \r\nL 28.515625 63.921875 \r\nL 10.984375 60.40625 \r\nL 10.984375 69.390625 \r\nL 28.421875 72.90625 \r\nL 38.28125 72.90625 \r\nL 38.28125 8.296875 \r\nL 54.390625 8.296875 \r\nL 54.390625 0 \r\nL 12.40625 0 \r\nz\r\n\" id=\"DejaVuSans-49\"/>\r\n      </defs>\r\n      <g transform=\"translate(7.2 154.087446)scale(0.1 -0.1)\">\r\n       <use xlink:href=\"#DejaVuSans-49\"/>\r\n       <use x=\"63.623047\" xlink:href=\"#DejaVuSans-48\"/>\r\n       <use x=\"127.246094\" xlink:href=\"#DejaVuSans-48\"/>\r\n       <use x=\"190.869141\" xlink:href=\"#DejaVuSans-48\"/>\r\n      </g>\r\n     </g>\r\n    </g>\r\n    <g id=\"ytick_4\">\r\n     <g id=\"line2d_9\">\r\n      <g>\r\n       <use style=\"stroke:#000000;stroke-width:0.8;\" x=\"39.65\" xlink:href=\"#me1168d635f\" y=\"111.362342\"/>\r\n      </g>\r\n     </g>\r\n     <g id=\"text_9\">\r\n      <!-- 1500 -->\r\n      <g transform=\"translate(7.2 115.16156)scale(0.1 -0.1)\">\r\n       <use xlink:href=\"#DejaVuSans-49\"/>\r\n       <use x=\"63.623047\" xlink:href=\"#DejaVuSans-53\"/>\r\n       <use x=\"127.246094\" xlink:href=\"#DejaVuSans-48\"/>\r\n       <use x=\"190.869141\" xlink:href=\"#DejaVuSans-48\"/>\r\n      </g>\r\n     </g>\r\n    </g>\r\n    <g id=\"ytick_5\">\r\n     <g id=\"line2d_10\">\r\n      <g>\r\n       <use style=\"stroke:#000000;stroke-width:0.8;\" x=\"39.65\" xlink:href=\"#me1168d635f\" y=\"72.436455\"/>\r\n      </g>\r\n     </g>\r\n     <g id=\"text_10\">\r\n      <!-- 2000 -->\r\n      <g transform=\"translate(7.2 76.235674)scale(0.1 -0.1)\">\r\n       <use xlink:href=\"#DejaVuSans-50\"/>\r\n       <use x=\"63.623047\" xlink:href=\"#DejaVuSans-48\"/>\r\n       <use x=\"127.246094\" xlink:href=\"#DejaVuSans-48\"/>\r\n       <use x=\"190.869141\" xlink:href=\"#DejaVuSans-48\"/>\r\n      </g>\r\n     </g>\r\n    </g>\r\n    <g id=\"ytick_6\">\r\n     <g id=\"line2d_11\">\r\n      <g>\r\n       <use style=\"stroke:#000000;stroke-width:0.8;\" x=\"39.65\" xlink:href=\"#me1168d635f\" y=\"33.510569\"/>\r\n      </g>\r\n     </g>\r\n     <g id=\"text_11\">\r\n      <!-- 2500 -->\r\n      <g transform=\"translate(7.2 37.309788)scale(0.1 -0.1)\">\r\n       <use xlink:href=\"#DejaVuSans-50\"/>\r\n       <use x=\"63.623047\" xlink:href=\"#DejaVuSans-53\"/>\r\n       <use x=\"127.246094\" xlink:href=\"#DejaVuSans-48\"/>\r\n       <use x=\"190.869141\" xlink:href=\"#DejaVuSans-48\"/>\r\n      </g>\r\n     </g>\r\n    </g>\r\n   </g>\r\n   <g id=\"patch_12\">\r\n    <path d=\"M 39.65 228.14 \r\nL 39.65 10.7 \r\n\" style=\"fill:none;stroke:#000000;stroke-linecap:square;stroke-linejoin:miter;stroke-width:0.8;\"/>\r\n   </g>\r\n   <g id=\"patch_13\">\r\n    <path d=\"M 374.45 228.14 \r\nL 374.45 10.7 \r\n\" style=\"fill:none;stroke:#000000;stroke-linecap:square;stroke-linejoin:miter;stroke-width:0.8;\"/>\r\n   </g>\r\n   <g id=\"patch_14\">\r\n    <path d=\"M 39.65 228.14 \r\nL 374.45 228.14 \r\n\" style=\"fill:none;stroke:#000000;stroke-linecap:square;stroke-linejoin:miter;stroke-width:0.8;\"/>\r\n   </g>\r\n   <g id=\"patch_15\">\r\n    <path d=\"M 39.65 10.7 \r\nL 374.45 10.7 \r\n\" style=\"fill:none;stroke:#000000;stroke-linecap:square;stroke-linejoin:miter;stroke-width:0.8;\"/>\r\n   </g>\r\n  </g>\r\n </g>\r\n <defs>\r\n  <clipPath id=\"p3ee94c70c2\">\r\n   <rect height=\"217.44\" width=\"334.8\" x=\"39.65\" y=\"10.7\"/>\r\n  </clipPath>\r\n </defs>\r\n</svg>\r\n",
      "image/png": "[encoded data removed]"
     },
     "metadata": {
      "needs_background": "light"
     }
    }
   ],
   "source": [
    "wordfreqs_cat1 = nltk.FreqDist(data['pos']['all_words'])\n",
    "plt.hist(wordfreqs_cat1.values(), bins = range(10))\n",
    "plt.show()\n",
    "wordfreqs_cat2 = nltk.FreqDist(data['neg']['all_words'])\n",
    "plt.hist(wordfreqs_cat2.values(), bins = range(10))\n",
    "plt.show()"
   ]
  },
  {
   "cell_type": "code",
   "execution_count": 99,
   "metadata": {
    "tags": []
   },
   "outputs": [
    {
     "output_type": "stream",
     "name": "stdout",
     "text": "[]\n[]\n"
    }
   ],
   "source": [
    "print (wordfreqs_cat1.hapaxes())\n",
    "print (wordfreqs_cat2.hapaxes())"
   ]
  },
  {
   "cell_type": "code",
   "execution_count": 100,
   "metadata": {
    "tags": []
   },
   "outputs": [
    {
     "output_type": "stream",
     "name": "stdout",
     "text": "[('film', 6193), ('movi', 3160), ('one', 3155), ('charact', 2066), ('like', 2034), ('make', 1693), ('time', 1606), ('?', 1570), ('get', 1518), ('scene', 1365), ('stori', 1360), ('good', 1285), ('see', 1251), ('play', 1235), ('even', 1207), ('also', 1200), ('well', 1141), ('life', 1057), ('much', 1038), ('way', 1038)]\n[('film', 5006), ('movi', 3817), ('one', 2874), ('?', 2201), ('like', 2103), ('charact', 1815), ('get', 1702), ('make', 1550), ('time', 1441), ('even', 1408), ('scene', 1306), ('good', 1191), ('play', 1147), ('bad', 1102), ('would', 1090), ('look', 1053), ('go', 1028), ('much', 1012), ('stori', 985), ('plot', 978)]\n"
    }
   ],
   "source": [
    "print (wordfreqs_cat1.most_common(20))\n",
    "print (wordfreqs_cat2.most_common(20))"
   ]
  },
  {
   "cell_type": "code",
   "execution_count": 101,
   "metadata": {},
   "outputs": [],
   "source": [
    "def bag_of_words(words):\n",
    "    bag = {}\n",
    "    for w in words:\n",
    "        bag[w] = bag.get(w,0)+1\n",
    "    return bag"
   ]
  },
  {
   "cell_type": "code",
   "execution_count": 102,
   "metadata": {},
   "outputs": [],
   "source": [
    "reviews_pos = [(bag_of_words(x), 'pos') for x in data['pos']['wordMatrix']]\n",
    "reviews_neg = [(bag_of_words(x), 'neg') for x in data['neg']['wordMatrix']]"
   ]
  },
  {
   "cell_type": "code",
   "execution_count": 103,
   "metadata": {},
   "outputs": [],
   "source": [
    "from random import shuffle\n",
    "\n",
    "split_pct = .80\n",
    "\n",
    "def split_set(review_set):\n",
    "    split = int(len(review_set)*split_pct)\n",
    "    return (review_set[:split], review_set[split:])\n",
    "\n",
    "shuffle(reviews_pos)\n",
    "shuffle(reviews_neg)\n",
    "\n",
    "pos_train, pos_test = split_set(reviews_pos)\n",
    "neg_train, neg_test = split_set(reviews_neg)\n",
    "\n",
    "train_set = pos_train+neg_train\n",
    "test_set = pos_test+neg_test"
   ]
  },
  {
   "cell_type": "code",
   "execution_count": 104,
   "metadata": {},
   "outputs": [],
   "source": [
    "from nltk.classify import NaiveBayesClassifier\n",
    "\n",
    "model = NaiveBayesClassifier.train(train_set)"
   ]
  },
  {
   "cell_type": "code",
   "execution_count": 105,
   "metadata": {
    "tags": []
   },
   "outputs": [
    {
     "output_type": "stream",
     "name": "stdout",
     "text": "74.5\n"
    }
   ],
   "source": [
    "from nltk.classify.util import accuracy\n",
    "\n",
    "print(100 * accuracy(model, test_set))"
   ]
  },
  {
   "cell_type": "code",
   "execution_count": 107,
   "metadata": {},
   "outputs": [],
   "source": [
    "holdoutLength  = 100\n",
    "#labeled data\n",
    "labeled_data1 = [(word,'pos') for word in data['pos']['wordMatrix'][holdoutLength:]]\n",
    "labeled_data2 = [(word,'neg') for word in data['neg']['wordMatrix'][holdoutLength:]]\n",
    "labeled_data = []\n",
    "labeled_data.extend(labeled_data1)\n",
    "labeled_data.extend(labeled_data2)\n",
    "#create holdout\n",
    "holdout_data = data['pos']['wordMatrix'][:holdoutLength]\n",
    "holdout_data.extend(data['neg']['wordMatrix'][:holdoutLength])\n",
    "holdout_data_labels = ([('pos') for _ in range(holdoutLength)] + [('neg') for _ in range(holdoutLength)])"
   ]
  },
  {
   "cell_type": "code",
   "execution_count": 108,
   "metadata": {
    "tags": []
   },
   "outputs": [
    {
     "output_type": "stream",
     "name": "stdout",
     "text": "1800\n200\n(['brief', 'best', 'bleak', 'comedi', 'film', 'sinc', 'heather', 'full', 'wonder', 'swipe', 'fifteen', 'minut', 'fame', 'mental', 'feed', 'much', 'modern', 'american', 'pop', 'cultur', 'go', 'see', 'prepar', 'film', 'watch', 'move', 'interview', 'hard', 'copi', 'pam', 'smart', 'new', 'hampshir', 'media', 'teacher', 'convict', 'engin', 'death', 'husband', 'back', '1980', 'hard', 'copi', 'dian', 'diamond', 'ask', 'smart', 'thought', 'nicol', 'kidman', 'fiction', 'portray', 'new', 'film', 'die', 'smart', 'repli', 'thought', 'kidman', 'charact', 'came', 'dumb', 'vicious', 'tramp', 'thought', 'public', 'new', 'movi', 'generat', 'might', 'hurt', 'chanc', 'latest', 'court', 'appeal', 'smart', 'convict', 'given', 'life', 'sentenc', 'part', 'murder', 'husband', 'smart', 'got', 'point', 'first', 'time', 'public', 'took', 'better', 'script', 'well', 'act', 'movi', 'version', 'event', 'absolut', 'truth', 'far', 'less', 'artist', 'real', 'life', 'version', 'howev', 'given', 'choic', 'mass', 'media', 'happen', 'real', 'event', 'fiction', 'movi', 'would', 'definit', 'opt', 'later', 'real', 'murder', 'rare', 'dialogu', 'witti', 'buck', 'henri', 'written', 'movi', 'smart', 'pretti', 'allur', 'match', 'cinemat', 'charm', 'nicol', 'kidman', 'die', 'begin', 'town', 'call', 'littl', 'hope', 'new', 'hampshir', 'archetyp', 'dri', 'intellectu', 'barren', 'american', 'suburb', 'stori', 'concern', 'ambiti', 'suzann', 'stone', 'tackl', 'obstacl', 'life', 'long', 'ambit', 'tv', 'cours', 'one', 'littl', 'obstacl', 'turn', 'dull', 'unambiti', 'husband', 'larri', 'play', 'matt', 'dillon', 'littl', 'imagin', 'charm', 'raw', 'sex', 'appeal', 'rather', 'novel', 'approach', 'junior', 'achiev', 'heroin', 'manag', 'overcom', 'nay', 'life', 'least', 'temporarili', 'kidman', 'triumph', 'trashi', 'role', 'suzann', 'never', 'realli', 'fond', 'actress', 'show', 'wonder', 'flair', 'comedi', 'pictur', 'portray', 'incred', 'shallow', 'dumb', 'femm', 'fatal', 'reson', 'kidman', 'know', 'star', 'make', 'role', 'see', 'play', 'conscienc', 'depriv', 'suzann', 'ultim', 'career', 'driven', 'post', 'feminist', 'temptress', 'hell', 'abli', 'abet', 'wonder', 'dement', 'comic', 'dialogu', 'kidman', 'deliv', 'funni', 'way', 'one', 'point', 'suzann', 'knowledg', 'world', 'event', 'futur', 'husband', 'sister', 'law', 'know', 'know', 'exclaim', 'would', 'still', 'leader', 'russia', 'whatev', 'ugli', 'thing', 'remov', 'head', 'husband', 'beam', 'suzann', 'profound', 'knowledg', 'world', 'polit', 'proud', 'proclaim', 'qualifi', 'next', 'barbara', 'walter', 'close', 'pop', 'cultur', 'bash', 'heaven', 'folk', 'standout', 'perform', 'film', 'deliv', 'joaquin', 'phoenix', 'play', 'jimmi', 'burn', 'teenag', 'becom', 'addict', 'suzann', 'sexual', 'favor', 'kidman', 'charact', 'though', 'sort', 'suav', 'success', 'jimmi', 'lost', 'friend', 'russel', 'lydia', 'win', 'portray', 'casey', 'affleck', 'alison', 'phoenix', 'look', 'like', 'embodi', 'gen', 'x', 'envis', 'tabloid', 'tv', 'cours', 'jimmi', 'dead', 'eye', 'demeanor', 'kid', 'know', 'go', 'anywher', 'ever', 'phoenix', 'react', 'sexi', 'suzann', 'sort', 'obsess', 'amaz', 'make', 'us', 'believ', 'loser', 'charact', 'like', 'jimmi', 'realli', 'would', 'will', 'kill', 'someon', 'like', 'suzann', 'someon', 'actual', 'notic', 'gus', 'van', 'sant', 'drugstor', 'cowboy', 'privat', 'direct', 'first', 'rate', 'keep', 'pace', 'quit', 'thriller', 'snap', 'along', 'van', 'sant', 'right', 'keep', 'focus', 'movi', 'amor', 'suzann', 'stop', 'audienc', 'right', 'wrong', 'action', 'van', 'sant', 'trust', 'materi', 'trust', 'audienc', 'get', 'without', 'stop', 'explain', 'funni', 'american', 'stori', 'screenplay', 'buck', 'henri', 'absolut', 'great', 'includ', 'best', 'bleak', 'comic', 'line', 'heard', 'sinc', 'heather', 'henri', 'stori', 'blast', 'shallow', 'american', 'media', 'mindless', 'fame', 'yet', 'screenplay', 'deliv', 'sharp', 'messag', 'focus', 'charact', 'henri', 'abli', 'manag', 'avoid', 'dilut', 'stori', 'aim', 'mani', 'target', 'result', 'crisp', 'funni', 'mini', 'classic', 'danni', 'elfman', 'origin', 'music', 'movi', 'deliv', 'anoth', 'eccentr', 'loopi', 'score', 'strong', 'echo', 'theme', 'edward', 'scissorhand', 'either', 'film', 'score', 'would', 'make', 'wonder', 'background', 'music', 'halloween', 'trick', 'treat', 'parti', 'wonder', 'product', 'well', 'worth', 'seven', 'buck', 'die', 'columbia', 'pictur', 'releas', 'direct', 'gus', 'van', 'sant', 'written', 'buck', 'henri', 'score', 'danni', 'elfman', 'star', 'nicol', 'kidman', 'matt', 'dillon', 'phoenix', 'base', 'book', 'maynard', 'rate', 'languag', 'matur', 'theme', 'respect', '14', 'rate', 'star', 'go', 'see'], 'pos')\n"
    }
   ],
   "source": [
    "print (len(labeled_data))\n",
    "print (len(holdout_data_labels))\n",
    "print (labeled_data[20])"
   ]
  },
  {
   "cell_type": "code",
   "execution_count": 110,
   "metadata": {},
   "outputs": [],
   "source": [
    "data['pos']['all_words_dedup'] = list(OrderedDict.fromkeys(data['pos']['all_words']))\n",
    "data['neg']['all_words_dedup'] = list(OrderedDict.fromkeys(data['neg']['all_words']))"
   ]
  },
  {
   "cell_type": "code",
   "execution_count": 112,
   "metadata": {},
   "outputs": [],
   "source": [
    "all_words = []\n",
    "all_words.extend(data['pos']['all_words_dedup'])\n",
    "all_words.extend(data['neg']['all_words_dedup'])"
   ]
  },
  {
   "cell_type": "code",
   "execution_count": 113,
   "metadata": {},
   "outputs": [],
   "source": [
    "all_words_dedup = set(list(OrderedDict.fromkeys(all_words)))"
   ]
  },
  {
   "cell_type": "code",
   "execution_count": 114,
   "metadata": {},
   "outputs": [],
   "source": [
    "prepared_data = [({word: (word in x[0]) for word in all_words_dedup}, x[1]) for x in labeled_data]\n",
    "prepared_holdout_data = [({word: (word in x[0]) for word in all_words_dedup}) for x in holdout_data]"
   ]
  },
  {
   "cell_type": "code",
   "execution_count": 115,
   "metadata": {},
   "outputs": [],
   "source": [
    "random.shuffle(prepared_data)\n",
    "train_size = int(len(prepared_data) * 0.75)\n",
    "train = prepared_data[:train_size]\n",
    "test = prepared_data[train_size:]"
   ]
  },
  {
   "cell_type": "code",
   "execution_count": 116,
   "metadata": {},
   "outputs": [],
   "source": [
    "classifier  = nltk.NaiveBayesClassifier.train(train)"
   ]
  },
  {
   "cell_type": "code",
   "execution_count": 117,
   "metadata": {},
   "outputs": [
    {
     "output_type": "execute_result",
     "data": {
      "text/plain": "0.8533333333333334"
     },
     "metadata": {},
     "execution_count": 117
    }
   ],
   "source": [
    "nltk.classify.accuracy(classifier, test)"
   ]
  }
 ],
 "metadata": {
  "kernelspec": {
   "name": "python_defaultSpec_1596454421465",
   "display_name": "Python 3.7.1 64-bit ('base': conda)"
  }
 },
 "nbformat": 4,
 "nbformat_minor": 2
}