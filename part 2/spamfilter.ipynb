{
 "cells": [
  {
   "cell_type": "markdown",
   "metadata": {},
   "source": [
    "# Spam filter implementation\n",
    "\n",
    "\n",
    "### Read all files from folder into a list"
   ]
  },
  {
   "cell_type": "code",
   "execution_count": 1,
   "metadata": {},
   "outputs": [],
   "source": [
    "import os\n",
    "import codecs\n",
    " \n",
    "def read_in(folder):\n",
    "    files = os.listdir(folder)\n",
    "    a_list = []\n",
    "    for a_file in files:\n",
    "        if not a_file.startswith(\".\"):\n",
    "            f = codecs.open(folder + a_file, \n",
    "                \"r\", encoding = \"ISO-8859-1\", errors=\"ignore\")\n",
    "            a_list.append(f.read())\n",
    "            f.close()\n",
    "    return a_list"
   ]
  },
  {
   "cell_type": "markdown",
   "metadata": {},
   "source": [
    "### read spam and ham folders and check sizes"
   ]
  },
  {
   "cell_type": "code",
   "execution_count": 14,
   "metadata": {
    "tags": []
   },
   "outputs": [
    {
     "output_type": "stream",
     "name": "stdout",
     "text": "1500\n3672\nSubject: dobmeos with hgh my energy level has gone up! Stukm\nIntroducing\nDoctor - formulated\nHgh\nHuman growth hormone - also called hgh\nIs referred to in medical science as the master hormone. It is very plentiful\nWhen we are young, but near the age of twenty - one our bodies begin to produce\nLess of it. By the time we are forty nearly everyone is deficient in hgh,\nAnd at eighty our production has normally diminished at least 90 - 95%.\nAdvantages of hgh:\n- increased muscle strength\n- loss in body fat\n- increased bone density\n- lower blood pressure\n- quickens wound healing\n- reduces cellulite\n- improved vision\n- wrinkle disappearance\n- increased skin thickness texture\n- increased energy levels\n- improved sleep and emotional stability\n- improved memory and mental alertness\n- increased sexual potency\n- resistance to common illness\n- strengthened heart muscle\n- controlled cholesterol\n- controlled mood swings\n- new hair growth and color restore\nRead\nMore at this website\nUnsubscribe\n\nSubject: christmas tree farm pictures\n\n"
    }
   ],
   "source": [
    "os.getcwd()\n",
    "spam_list = read_in(\"c:/src/matej/manning-ml-as-microservice/part 2/enron/enron1/enron1/spam/\") \n",
    "ham_list = read_in(\"c:/src/matej/manning-ml-as-microservice/part 2/enron/enron1/enron1/ham/\")\n",
    "print(len(spam_list)) \n",
    "print(len(ham_list))\n",
    "print(spam_list[0])\n",
    "print(ham_list[0])"
   ]
  },
  {
   "cell_type": "markdown",
   "metadata": {},
   "source": [
    "### merge spam and ham lists into single list and shuffle"
   ]
  },
  {
   "cell_type": "code",
   "execution_count": 15,
   "metadata": {
    "tags": []
   },
   "outputs": [
    {
     "output_type": "stream",
     "name": "stdout",
     "text": "Dataset size = 5172 emails\n"
    }
   ],
   "source": [
    "import random\n",
    " \n",
    "all_emails = [(email_content, \"spam\") for email_content in spam_list]\n",
    "all_emails += [(email_content, \"ham\") for email_content in ham_list]\n",
    "random.seed(42)\n",
    "random.shuffle(all_emails)\n",
    "print (f\"Dataset size = {str(len(all_emails))} emails\")"
   ]
  },
  {
   "cell_type": "markdown",
   "metadata": {},
   "source": [
    "### try word tokenizer from nltk"
   ]
  },
  {
   "cell_type": "code",
   "execution_count": 21,
   "metadata": {
    "tags": []
   },
   "outputs": [
    {
     "output_type": "stream",
     "name": "stdout",
     "text": "['What', \"'s\", 'the', 'best', 'way', 'to', 'split', 'a', 'sentence', 'into', 'words', '?']\n"
    }
   ],
   "source": [
    "import nltk\n",
    "from nltk import word_tokenize\n",
    " \n",
    "def tokenize(input):\n",
    "    word_list = []\n",
    "    for word in word_tokenize(input):\n",
    "        word_list.append(word)\n",
    "    return word_list\n",
    "    \n",
    "input = \"What's the best way to split a sentence into words?\"\n",
    "print(tokenize(input))"
   ]
  },
  {
   "cell_type": "markdown",
   "metadata": {},
   "source": [
    "### Extract and normalize the features"
   ]
  },
  {
   "cell_type": "code",
   "execution_count": 26,
   "metadata": {
    "tags": []
   },
   "outputs": [
    {
     "output_type": "stream",
     "name": "stdout",
     "text": "{'participate': True, 'in': True, 'our': True, 'new': True, 'lottery': True, 'now': True, '!': True}\n5172\n27\n{'subject': True, ':': True, 'bloodline': True, ',': True, 'ahead': True, 'of': True, 'the': True, 'street': True, 'microcap': True, 'alert': True, 'when': True, 'living': True, 'with': True, 'sheriff': True, 'is': True, 'obsequious': True, 'blood': True, 'clot': True, 'beyond': True, 'deficit': True, 'reach': True, 'an': True, 'understanding': True, 'toward': True, '.': True, '[': True, '3': True}\n53\n"
    }
   ],
   "source": [
    "def get_features(text):\n",
    "    features = {}\n",
    "    word_list = [word for word in word_tokenize(text.lower())]\n",
    "    for word in word_list:\n",
    "        features[word] = True\n",
    "    return features\n",
    " \n",
    "all_features = [(get_features(email), label) \n",
    "                 for (email, label) in all_emails]\n",
    " \n",
    "print(get_features(\"Participate In Our New Lottery NOW!\"))\n",
    "print(len(all_features))\n",
    "print(len(all_features[0][0]))\n",
    "print(all_features[0][0])\n",
    "print(len(all_features[99][0]))"
   ]
  },
  {
   "cell_type": "markdown",
   "metadata": {},
   "source": [
    "### Train the classifier"
   ]
  },
  {
   "cell_type": "code",
   "execution_count": 28,
   "metadata": {
    "tags": []
   },
   "outputs": [
    {
     "output_type": "stream",
     "name": "stdout",
     "text": "Training set size = 4137 emails\nTest set size = 1035 emails\n"
    }
   ],
   "source": [
    "from nltk import NaiveBayesClassifier, classify\n",
    " \n",
    "def train(features, proportion):\n",
    "    train_size = int(len(features) * proportion)\n",
    "    train_set, test_set = features[:train_size], features[train_size:]\n",
    "    print (f\"Training set size = {str(len(train_set))} emails\")\n",
    "    print (f\"Test set size = {str(len(test_set))} emails\")\n",
    "    classifier = NaiveBayesClassifier.train(train_set)\n",
    "    return train_set, test_set, classifier\n",
    " \n",
    "train_set, test_set, classifier = train(all_features, 0.8)"
   ]
  },
  {
   "cell_type": "code",
   "execution_count": 29,
   "metadata": {
    "tags": []
   },
   "outputs": [
    {
     "output_type": "stream",
     "name": "stdout",
     "text": "Accuracy on the training set = 0.9613246313753928\nAccuracy of the test set = 0.9420289855072463\nMost Informative Features\n               forwarded = True              ham : spam   =    198.3 : 1.0\n                    2004 = True             spam : ham    =    143.8 : 1.0\n                     nom = True              ham : spam   =    125.8 : 1.0\n            prescription = True             spam : ham    =    122.9 : 1.0\n                    pain = True             spam : ham    =     98.8 : 1.0\n                  health = True             spam : ham    =     82.7 : 1.0\n                     ect = True              ham : spam   =     76.8 : 1.0\n                    2001 = True              ham : spam   =     75.8 : 1.0\n                featured = True             spam : ham    =     74.7 : 1.0\n              nomination = True              ham : spam   =     72.1 : 1.0\n             medications = True             spam : ham    =     69.9 : 1.0\n                  differ = True             spam : ham    =     66.7 : 1.0\n                creative = True             spam : ham    =     65.1 : 1.0\n             subscribers = True             spam : ham    =     65.1 : 1.0\n                   risks = True             spam : ham    =     63.4 : 1.0\n                     pro = True             spam : ham    =     60.2 : 1.0\n                  shares = True             spam : ham    =     58.6 : 1.0\n                   cheap = True             spam : ham    =     55.4 : 1.0\n                       u = True             spam : ham    =     54.5 : 1.0\n                    2005 = True             spam : ham    =     54.5 : 1.0\n                     ali = True             spam : ham    =     53.8 : 1.0\n            solicitation = True             spam : ham    =     52.2 : 1.0\n                inherent = True             spam : ham    =     52.2 : 1.0\n                   epson = True             spam : ham    =     50.6 : 1.0\n                    sony = True             spam : ham    =     50.6 : 1.0\n                deciding = True             spam : ham    =     50.6 : 1.0\n                  stocks = True             spam : ham    =     50.6 : 1.0\n                      cc = True              ham : spam   =     49.9 : 1.0\n                 advises = True             spam : ham    =     45.8 : 1.0\n                   cisco = True             spam : ham    =     45.8 : 1.0\n                thousand = True             spam : ham    =     44.8 : 1.0\n                 foresee = True             spam : ham    =     44.2 : 1.0\n                mailings = True             spam : ham    =     44.2 : 1.0\n                   adobe = True             spam : ham    =     40.0 : 1.0\n                   susan = True              ham : spam   =     39.7 : 1.0\n                   women = True             spam : ham    =     38.1 : 1.0\n                      ex = True             spam : ham    =     38.1 : 1.0\n                 beliefs = True             spam : ham    =     37.7 : 1.0\n                  proven = True             spam : ham    =     37.7 : 1.0\n                     bob = True              ham : spam   =     37.5 : 1.0\n                 foreign = True             spam : ham    =     36.1 : 1.0\n                 explode = True             spam : ham    =     36.1 : 1.0\n           advertisement = True             spam : ham    =     36.1 : 1.0\n                powerful = True             spam : ham    =     36.1 : 1.0\n                   steve = True              ham : spam   =     35.8 : 1.0\n                     713 = True              ham : spam   =     35.6 : 1.0\n                    duke = True              ham : spam   =     35.0 : 1.0\n                     fat = True             spam : ham    =     34.5 : 1.0\n                releases = True             spam : ham    =     34.5 : 1.0\n                 comfort = True             spam : ham    =     34.5 : 1.0\n"
    }
   ],
   "source": [
    "def evaluate(train_set, test_set, classifier):\n",
    "    print (f\"Accuracy on the training set = {str(classify.accuracy(classifier, train_set))}\")\n",
    "    print (f\"Accuracy of the test set = {str(classify.accuracy(classifier, test_set))}\")\n",
    "    classifier.show_most_informative_features(50)\n",
    " \n",
    "evaluate(train_set, test_set, classifier)"
   ]
  }
 ],
 "metadata": {
  "kernelspec": {
   "display_name": "Python 3",
   "language": "python",
   "name": "python3"
  },
  "language_info": {
   "codemirror_mode": {
    "name": "ipython",
    "version": 3
   },
   "file_extension": ".py",
   "mimetype": "text/x-python",
   "name": "python",
   "nbconvert_exporter": "python",
   "pygments_lexer": "ipython3",
   "version": "3.7.1"
  }
 },
 "nbformat": 4,
 "nbformat_minor": 2
}