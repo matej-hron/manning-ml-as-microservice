{
 "cells": [
  {
   "cell_type": "code",
   "execution_count": 73,
   "metadata": {},
   "outputs": [],
   "source": [
    "import praw\n",
    "import sqlite3\n",
    "\n",
    "conn = sqlite3.connect('reddit.db')\n",
    "c = conn.cursor()\n",
    "\n",
    "c.execute('''DROP TABLE IF EXISTS topics''')\n",
    "c.execute('''DROP TABLE IF EXISTS comments''')\n",
    "\n",
    "c.execute('''CREATE TABLE topics (topicTitle text, topicText text, topicID text, topicCategory text)''')\n",
    "c.execute('''CREATE TABLE comments (commentText text, commentID text, topicTitle text, topicText text, topicID text, topicCategory text)''')\n",
    "\n",
    "user_agent = \"Introduceing Data Science Book\"\n",
    "r = praw.Reddit(user_agent=user_agent, client_id = '4D2A7pe9rUVauw', client_secret = 'fzm6SEcsjh9DJN3_vzmKTtnaBPM')\n",
    "\n",
    "subreddits = ['datascience', 'gameofthrones']\n",
    "\n",
    "limit = 1000\n",
    "\n"
   ]
  },
  {
   "cell_type": "code",
   "execution_count": 74,
   "metadata": {},
   "outputs": [],
   "source": [
    "def prawGetData(limit, subredditName):\n",
    "    topics = r.subreddit(subredditName).hot(limit = limit)\n",
    "    print(f'processing {subredditName}')\n",
    "    commentInsert = []\n",
    "    topicInsert = []\n",
    "    topicNBR = 1\n",
    "    for topic in topics:\n",
    "        if (topicNBR % 100==0):\n",
    "            print(f'topic no {topicNBR}')\n",
    "        topicNBR += 1\n",
    "        try:\n",
    "            topicInsert.append((topic.title, topic.selftext, topic.id, subredditName))\n",
    "        except Exception as e:\n",
    "            print(e)\n",
    "            pass\n",
    "        try:\n",
    "            for comment in topic.comments:\n",
    "                commentInsert.append((comment.body, comment.id, topic.title, topic.selftext, topic.id, subredditName))\n",
    "        except Exception as e:\n",
    "            print(e)\n",
    "            pass\n",
    "    \n",
    "    # print(topicInsert)\n",
    "    # print(commentInsert)\n",
    "\n",
    "    print ('inserting data into sql lite')\n",
    "\n",
    "    c.executemany('INSERT INTO topics VALUES (?,?,?,?)', topicInsert)\n",
    "    c.executemany('INSERT INTO comments VALUES (?,?,?,?,?,?)', commentInsert)\n",
    "\n",
    "    conn.commit()\n"
   ]
  },
  {
   "cell_type": "code",
   "execution_count": 75,
   "metadata": {
    "tags": []
   },
   "outputs": [
    {
     "output_type": "stream",
     "name": "stdout",
     "text": "None\n"
    }
   ],
   "source": [
    "c = conn.cursor()\n",
    "c.execute('SELECT * FROM topics')\n",
    "x = c.fetchone()\n",
    "print(x)"
   ]
  },
  {
   "cell_type": "code",
   "execution_count": 76,
   "metadata": {
    "tags": []
   },
   "outputs": [
    {
     "output_type": "stream",
     "name": "stdout",
     "text": "processing datascience\ntopic no 100\ntopic no 200\ntopic no 300\ntopic no 400\ntopic no 500\ntopic no 600\ninserting data into sql lite\nprocessing gameofthrones\ntopic no 100\ntopic no 200\ntopic no 300\ntopic no 400\ntopic no 500\ninserting data into sql lite\n"
    }
   ],
   "source": [
    "for subject in subreddits:\n",
    "    prawGetData(limit = limit, subredditName=subject)"
   ]
  },
  {
   "cell_type": "markdown",
   "metadata": {},
   "source": [
    "# Data preparation"
   ]
  },
  {
   "cell_type": "code",
   "execution_count": 77,
   "metadata": {
    "tags": []
   },
   "outputs": [
    {
     "output_type": "stream",
     "name": "stderr",
     "text": "[nltk_data] Downloading package punkt to\n[nltk_data]     C:\\Users\\E10112538\\AppData\\Roaming\\nltk_data...\n[nltk_data]   Package punkt is already up-to-date!\n[nltk_data] Downloading package stopwords to\n[nltk_data]     C:\\Users\\E10112538\\AppData\\Roaming\\nltk_data...\n[nltk_data]   Package stopwords is already up-to-date!\n"
    },
    {
     "output_type": "execute_result",
     "data": {
      "text/plain": "True"
     },
     "metadata": {},
     "execution_count": 77
    }
   ],
   "source": [
    "import nltk\n",
    "import matplotlib.pyplot as plt\n",
    "from collections import OrderedDict\n",
    "import random\n",
    "\n",
    "nltk.download('punkt')\n",
    "nltk.download('stopwords')\n",
    "#conn = sqlite3.connect('reddit.db')\n",
    "#c = conn.cursor()"
   ]
  },
  {
   "cell_type": "code",
   "execution_count": 78,
   "metadata": {},
   "outputs": [],
   "source": [
    "def wordFilter(excluded, wordrow):\n",
    "    filtered = [word for word in wordrow if word not in excluded]\n",
    "    return filtered\n",
    "\n",
    "stopwords = nltk.corpus.stopwords.words('english')\n",
    "\n",
    "def lowerCaseArray(wordrow):\n",
    "    lowercased = [word.lower() for word in wordrow]\n",
    "    return lowercased"
   ]
  },
  {
   "cell_type": "code",
   "execution_count": 79,
   "metadata": {
    "tags": []
   },
   "outputs": [
    {
     "output_type": "stream",
     "name": "stdout",
     "text": "['i', 'me', 'my', 'myself', 'we', 'our', 'ours', 'ourselves', 'you', \"you're\", \"you've\", \"you'll\", \"you'd\", 'your', 'yours', 'yourself', 'yourselves', 'he', 'him', 'his', 'himself', 'she', \"she's\", 'her', 'hers', 'herself', 'it', \"it's\", 'its', 'itself', 'they', 'them', 'their', 'theirs', 'themselves', 'what', 'which', 'who', 'whom', 'this', 'that', \"that'll\", 'these', 'those', 'am', 'is', 'are', 'was', 'were', 'be', 'been', 'being', 'have', 'has', 'had', 'having', 'do', 'does', 'did', 'doing', 'a', 'an', 'the', 'and', 'but', 'if', 'or', 'because', 'as', 'until', 'while', 'of', 'at', 'by', 'for', 'with', 'about', 'against', 'between', 'into', 'through', 'during', 'before', 'after', 'above', 'below', 'to', 'from', 'up', 'down', 'in', 'out', 'on', 'off', 'over', 'under', 'again', 'further', 'then', 'once', 'here', 'there', 'when', 'where', 'why', 'how', 'all', 'any', 'both', 'each', 'few', 'more', 'most', 'other', 'some', 'such', 'no', 'nor', 'not', 'only', 'own', 'same', 'so', 'than', 'too', 'very', 's', 't', 'can', 'will', 'just', 'don', \"don't\", 'should', \"should've\", 'now', 'd', 'll', 'm', 'o', 're', 've', 'y', 'ain', 'aren', \"aren't\", 'couldn', \"couldn't\", 'didn', \"didn't\", 'doesn', \"doesn't\", 'hadn', \"hadn't\", 'hasn', \"hasn't\", 'haven', \"haven't\", 'isn', \"isn't\", 'ma', 'mightn', \"mightn't\", 'mustn', \"mustn't\", 'needn', \"needn't\", 'shan', \"shan't\", 'shouldn', \"shouldn't\", 'wasn', \"wasn't\", 'weren', \"weren't\", 'won', \"won't\", 'wouldn', \"wouldn't\"]\n"
    }
   ],
   "source": [
    "print(stopwords)"
   ]
  },
  {
   "cell_type": "code",
   "execution_count": 107,
   "metadata": {},
   "outputs": [],
   "source": [
    "stemmer = nltk.SnowballStemmer(\"english\")\n",
    "\n",
    "def wordStemmer(wordrow):\n",
    "    stemmed = [stemmer.stem(word) for word in wordrow]\n",
    "    return stemmed\n",
    "\n",
    "# manual list takes almost every single character on the keyboard\n",
    "manual_stopwords = [',','.',')',',','(','m',\"'m\",\"n't\",'e.g',\"'ve\",'s','#','/','``',\"'s\",\"''\",'!','r',']','=','[','s','&','%','*','...','1','2','3','4','5','6','7','8','9','10','--',\"''\",';','-',':']"
   ]
  },
  {
   "cell_type": "code",
   "execution_count": 109,
   "metadata": {
    "tags": []
   },
   "outputs": [],
   "source": [
    "\n",
    "\n",
    "def data_processing(sql,manual_stopwords):\n",
    "    c.execute(sql) #1\n",
    "    data = {'wordMatrix':[],'all_words':[]}\n",
    "    interWordMatrix = []\n",
    "    interWordList = []\n",
    "    row = c.fetchone() #2\n",
    "    while row is not None:\n",
    "        tokenizer = nltk.tokenize.RegexpTokenizer(r'\\w+') #3 \n",
    "        wordrow = tokenizer.tokenize(row[0]+\" \"+row[1])       \n",
    "        wordrow_lowercased = lowerCaseArray(wordrow)\n",
    "        wordrow_nostopwords = wordFilter(stopwords,wordrow_lowercased)\n",
    "        wordrow_nostopwords = wordFilter(manual_stopwords,wordrow_nostopwords)#4\n",
    "        wordrow_stemmed = wordStemmer(wordrow_nostopwords)\n",
    "        interWordList.extend(wordrow_stemmed)#5\n",
    "        interWordMatrix.append(wordrow_stemmed)#6\n",
    "        row = c.fetchone()#7\n",
    "        \n",
    "    wordfreqs = nltk.FreqDist(interWordList)#8\n",
    "    hapaxes = wordfreqs.hapaxes()#9\n",
    "    for wordvector in interWordMatrix:\n",
    "        wordvector_nohapexes = wordFilter(hapaxes,wordvector) #10\n",
    "        data['wordMatrix'].append(wordvector_nohapexes)\n",
    "        data['all_words'].extend(wordvector_nohapexes)\n",
    "        \n",
    "    return data\n",
    "#1 create pointer to the sqlite data\n",
    "#2 fetch the data one by one\n",
    "#3 row[0] is the title, row[1] is the topic text, we turn them into a single text blob\n",
    "#4 remove manual stopword\n",
    "#5 temporary wordlist used to remove hapaxes later on\n",
    "#6 temporary wordmatrix, will become final wordmatrix after hapaxes removal\n",
    "#7 get a new topic\n",
    "#8 make a frequency distribution of all terms\n",
    "#9 get the list of hapaxes\n",
    "#10 remove the hapaxes\n",
    "\n",
    "subreddits = ['datascience','gameofthrones']\n",
    "data = {}\n",
    "for subject in subreddits:\n",
    "    data[subject] = data_processing(sql=f\"SELECT topicTitle, topicText, topicCategory FROM topics WHERE topicCategory = '{subject}'\", manual_stopwords=manual_stopwords)"
   ]
  },
  {
   "cell_type": "code",
   "execution_count": 93,
   "metadata": {
    "tags": []
   },
   "outputs": [
    {
     "output_type": "stream",
     "name": "stdout",
     "text": "['weekly', 'entering', '&', 'transitioning', 'thread', '|', '26', 'jul', '2020', '-', '02', 'aug', '2020', 'welcome', 'week', \"'s\", 'entering', '&', 'transitioning', 'thread', '!', 'thread', 'questions', 'getting', 'started', ',', 'studying', ',', 'transitioning', 'data', 'science', 'field', '.', 'topics', 'include', ':', '*', 'learning', 'resources', '(', 'e.g', '.', 'books', ',', 'tutorials', ',', 'videos', ')', '*', 'traditional', 'education', '(', 'e.g', '.', 'schools', ',', 'degrees', ',', 'electives', ')', '*', 'alternative', 'education', '(', 'e.g', '.', 'online', 'courses', ',', 'bootcamps', ')', '*', 'job', 'search', 'questions', '(', 'e.g', '.', 'resumes', ',', 'applying', ',', 'career', 'prospects', ')', '*', 'elementary', 'questions', '(', 'e.g', '.', 'start', ',', 'next', ')', 'wait', 'answers', 'community', ',', 'check', '[', 'faq', ']', '(', 'https', ':', '//www.reddit.com/r/datascience/wiki/frequently-asked-questions', ')', '[', 'resources', ']', '(', 'resources', ')', 'pages', 'wiki', '.', 'also', 'search', 'answers', '[', 'past', 'weekly', 'threads', ']', '(', 'https', ':', '//www.reddit.com/r/datascience/search', '?', 'q=weekly', '%', '20thread', '&', 'restrict_sr=1', '&', 'sort=new', ')', '.']\n"
    }
   ],
   "source": [
    "print (data['datascience']['wordMatrix'][0])"
   ]
  },
  {
   "cell_type": "code",
   "execution_count": 110,
   "metadata": {},
   "outputs": [
    {
     "output_type": "display_data",
     "data": {
      "text/plain": "<Figure size 432x288 with 1 Axes>",
      "image/svg+xml": "<?xml version=\"1.0\" encoding=\"utf-8\" standalone=\"no\"?>\r\n<!DOCTYPE svg PUBLIC \"-//W3C//DTD SVG 1.1//EN\"\r\n  \"http://www.w3.org/Graphics/SVG/1.1/DTD/svg11.dtd\">\r\n<!-- Created with matplotlib (https://matplotlib.org/) -->\r\n<svg height=\"252.018125pt\" version=\"1.1\" viewBox=\"0 0 378.7875 252.018125\" width=\"378.7875pt\" xmlns=\"http://www.w3.org/2000/svg\" xmlns:xlink=\"http://www.w3.org/1999/xlink\">\r\n <defs>\r\n  <style type=\"text/css\">\r\n*{stroke-linecap:butt;stroke-linejoin:round;}\r\n  </style>\r\n </defs>\r\n <g id=\"figure_1\">\r\n  <g id=\"patch_1\">\r\n   <path d=\"M 0 252.018125 \r\nL 378.7875 252.018125 \r\nL 378.7875 0 \r\nL 0 0 \r\nz\r\n\" style=\"fill:none;\"/>\r\n  </g>\r\n  <g id=\"axes_1\">\r\n   <g id=\"patch_2\">\r\n    <path d=\"M 33.2875 228.14 \r\nL 368.0875 228.14 \r\nL 368.0875 10.7 \r\nL 33.2875 10.7 \r\nz\r\n\" style=\"fill:#ffffff;\"/>\r\n   </g>\r\n   <g id=\"patch_3\">\r\n    <path clip-path=\"url(#pf83113bd53)\" d=\"M 48.505682 228.14 \r\nL 82.323864 228.14 \r\nL 82.323864 228.14 \r\nL 48.505682 228.14 \r\nz\r\n\" style=\"fill:#1f77b4;\"/>\r\n   </g>\r\n   <g id=\"patch_4\">\r\n    <path clip-path=\"url(#pf83113bd53)\" d=\"M 82.323864 228.14 \r\nL 116.142045 228.14 \r\nL 116.142045 228.14 \r\nL 82.323864 228.14 \r\nz\r\n\" style=\"fill:#1f77b4;\"/>\r\n   </g>\r\n   <g id=\"patch_5\">\r\n    <path clip-path=\"url(#pf83113bd53)\" d=\"M 116.142045 228.14 \r\nL 149.960227 228.14 \r\nL 149.960227 21.054286 \r\nL 116.142045 21.054286 \r\nz\r\n\" style=\"fill:#1f77b4;\"/>\r\n   </g>\r\n   <g id=\"patch_6\">\r\n    <path clip-path=\"url(#pf83113bd53)\" d=\"M 149.960227 228.14 \r\nL 183.778409 228.14 \r\nL 183.778409 127.612954 \r\nL 149.960227 127.612954 \r\nz\r\n\" style=\"fill:#1f77b4;\"/>\r\n   </g>\r\n   <g id=\"patch_7\">\r\n    <path clip-path=\"url(#pf83113bd53)\" d=\"M 183.778409 228.14 \r\nL 217.596591 228.14 \r\nL 217.596591 167.823773 \r\nL 183.778409 167.823773 \r\nz\r\n\" style=\"fill:#1f77b4;\"/>\r\n   </g>\r\n   <g id=\"patch_8\">\r\n    <path clip-path=\"url(#pf83113bd53)\" d=\"M 217.596591 228.14 \r\nL 251.414773 228.14 \r\nL 251.414773 182.651512 \r\nL 217.596591 182.651512 \r\nz\r\n\" style=\"fill:#1f77b4;\"/>\r\n   </g>\r\n   <g id=\"patch_9\">\r\n    <path clip-path=\"url(#pf83113bd53)\" d=\"M 251.414773 228.14 \r\nL 285.232955 228.14 \r\nL 285.232955 192.452899 \r\nL 251.414773 192.452899 \r\nz\r\n\" style=\"fill:#1f77b4;\"/>\r\n   </g>\r\n   <g id=\"patch_10\">\r\n    <path clip-path=\"url(#pf83113bd53)\" d=\"M 285.232955 228.14 \r\nL 319.051136 228.14 \r\nL 319.051136 199.74111 \r\nL 285.232955 199.74111 \r\nz\r\n\" style=\"fill:#1f77b4;\"/>\r\n   </g>\r\n   <g id=\"patch_11\">\r\n    <path clip-path=\"url(#pf83113bd53)\" d=\"M 319.051136 228.14 \r\nL 352.869318 228.14 \r\nL 352.869318 184.91337 \r\nL 319.051136 184.91337 \r\nz\r\n\" style=\"fill:#1f77b4;\"/>\r\n   </g>\r\n   <g id=\"matplotlib.axis_1\">\r\n    <g id=\"xtick_1\">\r\n     <g id=\"line2d_1\">\r\n      <defs>\r\n       <path d=\"M 0 0 \r\nL 0 3.5 \r\n\" id=\"mdc8c125b71\" style=\"stroke:#000000;stroke-width:0.8;\"/>\r\n      </defs>\r\n      <g>\r\n       <use style=\"stroke:#000000;stroke-width:0.8;\" x=\"48.505682\" xlink:href=\"#mdc8c125b71\" y=\"228.14\"/>\r\n      </g>\r\n     </g>\r\n     <g id=\"text_1\">\r\n      <!-- 0 -->\r\n      <defs>\r\n       <path d=\"M 31.78125 66.40625 \r\nQ 24.171875 66.40625 20.328125 58.90625 \r\nQ 16.5 51.421875 16.5 36.375 \r\nQ 16.5 21.390625 20.328125 13.890625 \r\nQ 24.171875 6.390625 31.78125 6.390625 \r\nQ 39.453125 6.390625 43.28125 13.890625 \r\nQ 47.125 21.390625 47.125 36.375 \r\nQ 47.125 51.421875 43.28125 58.90625 \r\nQ 39.453125 66.40625 31.78125 66.40625 \r\nz\r\nM 31.78125 74.21875 \r\nQ 44.046875 74.21875 50.515625 64.515625 \r\nQ 56.984375 54.828125 56.984375 36.375 \r\nQ 56.984375 17.96875 50.515625 8.265625 \r\nQ 44.046875 -1.421875 31.78125 -1.421875 \r\nQ 19.53125 -1.421875 13.0625 8.265625 \r\nQ 6.59375 17.96875 6.59375 36.375 \r\nQ 6.59375 54.828125 13.0625 64.515625 \r\nQ 19.53125 74.21875 31.78125 74.21875 \r\nz\r\n\" id=\"DejaVuSans-48\"/>\r\n      </defs>\r\n      <g transform=\"translate(45.324432 242.738437)scale(0.1 -0.1)\">\r\n       <use xlink:href=\"#DejaVuSans-48\"/>\r\n      </g>\r\n     </g>\r\n    </g>\r\n    <g id=\"xtick_2\">\r\n     <g id=\"line2d_2\">\r\n      <g>\r\n       <use style=\"stroke:#000000;stroke-width:0.8;\" x=\"116.142045\" xlink:href=\"#mdc8c125b71\" y=\"228.14\"/>\r\n      </g>\r\n     </g>\r\n     <g id=\"text_2\">\r\n      <!-- 2 -->\r\n      <defs>\r\n       <path d=\"M 19.1875 8.296875 \r\nL 53.609375 8.296875 \r\nL 53.609375 0 \r\nL 7.328125 0 \r\nL 7.328125 8.296875 \r\nQ 12.9375 14.109375 22.625 23.890625 \r\nQ 32.328125 33.6875 34.8125 36.53125 \r\nQ 39.546875 41.84375 41.421875 45.53125 \r\nQ 43.3125 49.21875 43.3125 52.78125 \r\nQ 43.3125 58.59375 39.234375 62.25 \r\nQ 35.15625 65.921875 28.609375 65.921875 \r\nQ 23.96875 65.921875 18.8125 64.3125 \r\nQ 13.671875 62.703125 7.8125 59.421875 \r\nL 7.8125 69.390625 \r\nQ 13.765625 71.78125 18.9375 73 \r\nQ 24.125 74.21875 28.421875 74.21875 \r\nQ 39.75 74.21875 46.484375 68.546875 \r\nQ 53.21875 62.890625 53.21875 53.421875 \r\nQ 53.21875 48.921875 51.53125 44.890625 \r\nQ 49.859375 40.875 45.40625 35.40625 \r\nQ 44.1875 33.984375 37.640625 27.21875 \r\nQ 31.109375 20.453125 19.1875 8.296875 \r\nz\r\n\" id=\"DejaVuSans-50\"/>\r\n      </defs>\r\n      <g transform=\"translate(112.960795 242.738437)scale(0.1 -0.1)\">\r\n       <use xlink:href=\"#DejaVuSans-50\"/>\r\n      </g>\r\n     </g>\r\n    </g>\r\n    <g id=\"xtick_3\">\r\n     <g id=\"line2d_3\">\r\n      <g>\r\n       <use style=\"stroke:#000000;stroke-width:0.8;\" x=\"183.778409\" xlink:href=\"#mdc8c125b71\" y=\"228.14\"/>\r\n      </g>\r\n     </g>\r\n     <g id=\"text_3\">\r\n      <!-- 4 -->\r\n      <defs>\r\n       <path d=\"M 37.796875 64.3125 \r\nL 12.890625 25.390625 \r\nL 37.796875 25.390625 \r\nz\r\nM 35.203125 72.90625 \r\nL 47.609375 72.90625 \r\nL 47.609375 25.390625 \r\nL 58.015625 25.390625 \r\nL 58.015625 17.1875 \r\nL 47.609375 17.1875 \r\nL 47.609375 0 \r\nL 37.796875 0 \r\nL 37.796875 17.1875 \r\nL 4.890625 17.1875 \r\nL 4.890625 26.703125 \r\nz\r\n\" id=\"DejaVuSans-52\"/>\r\n      </defs>\r\n      <g transform=\"translate(180.597159 242.738437)scale(0.1 -0.1)\">\r\n       <use xlink:href=\"#DejaVuSans-52\"/>\r\n      </g>\r\n     </g>\r\n    </g>\r\n    <g id=\"xtick_4\">\r\n     <g id=\"line2d_4\">\r\n      <g>\r\n       <use style=\"stroke:#000000;stroke-width:0.8;\" x=\"251.414773\" xlink:href=\"#mdc8c125b71\" y=\"228.14\"/>\r\n      </g>\r\n     </g>\r\n     <g id=\"text_4\">\r\n      <!-- 6 -->\r\n      <defs>\r\n       <path d=\"M 33.015625 40.375 \r\nQ 26.375 40.375 22.484375 35.828125 \r\nQ 18.609375 31.296875 18.609375 23.390625 \r\nQ 18.609375 15.53125 22.484375 10.953125 \r\nQ 26.375 6.390625 33.015625 6.390625 \r\nQ 39.65625 6.390625 43.53125 10.953125 \r\nQ 47.40625 15.53125 47.40625 23.390625 \r\nQ 47.40625 31.296875 43.53125 35.828125 \r\nQ 39.65625 40.375 33.015625 40.375 \r\nz\r\nM 52.59375 71.296875 \r\nL 52.59375 62.3125 \r\nQ 48.875 64.0625 45.09375 64.984375 \r\nQ 41.3125 65.921875 37.59375 65.921875 \r\nQ 27.828125 65.921875 22.671875 59.328125 \r\nQ 17.53125 52.734375 16.796875 39.40625 \r\nQ 19.671875 43.65625 24.015625 45.921875 \r\nQ 28.375 48.1875 33.59375 48.1875 \r\nQ 44.578125 48.1875 50.953125 41.515625 \r\nQ 57.328125 34.859375 57.328125 23.390625 \r\nQ 57.328125 12.15625 50.6875 5.359375 \r\nQ 44.046875 -1.421875 33.015625 -1.421875 \r\nQ 20.359375 -1.421875 13.671875 8.265625 \r\nQ 6.984375 17.96875 6.984375 36.375 \r\nQ 6.984375 53.65625 15.1875 63.9375 \r\nQ 23.390625 74.21875 37.203125 74.21875 \r\nQ 40.921875 74.21875 44.703125 73.484375 \r\nQ 48.484375 72.75 52.59375 71.296875 \r\nz\r\n\" id=\"DejaVuSans-54\"/>\r\n      </defs>\r\n      <g transform=\"translate(248.233523 242.738437)scale(0.1 -0.1)\">\r\n       <use xlink:href=\"#DejaVuSans-54\"/>\r\n      </g>\r\n     </g>\r\n    </g>\r\n    <g id=\"xtick_5\">\r\n     <g id=\"line2d_5\">\r\n      <g>\r\n       <use style=\"stroke:#000000;stroke-width:0.8;\" x=\"319.051136\" xlink:href=\"#mdc8c125b71\" y=\"228.14\"/>\r\n      </g>\r\n     </g>\r\n     <g id=\"text_5\">\r\n      <!-- 8 -->\r\n      <defs>\r\n       <path d=\"M 31.78125 34.625 \r\nQ 24.75 34.625 20.71875 30.859375 \r\nQ 16.703125 27.09375 16.703125 20.515625 \r\nQ 16.703125 13.921875 20.71875 10.15625 \r\nQ 24.75 6.390625 31.78125 6.390625 \r\nQ 38.8125 6.390625 42.859375 10.171875 \r\nQ 46.921875 13.96875 46.921875 20.515625 \r\nQ 46.921875 27.09375 42.890625 30.859375 \r\nQ 38.875 34.625 31.78125 34.625 \r\nz\r\nM 21.921875 38.8125 \r\nQ 15.578125 40.375 12.03125 44.71875 \r\nQ 8.5 49.078125 8.5 55.328125 \r\nQ 8.5 64.0625 14.71875 69.140625 \r\nQ 20.953125 74.21875 31.78125 74.21875 \r\nQ 42.671875 74.21875 48.875 69.140625 \r\nQ 55.078125 64.0625 55.078125 55.328125 \r\nQ 55.078125 49.078125 51.53125 44.71875 \r\nQ 48 40.375 41.703125 38.8125 \r\nQ 48.828125 37.15625 52.796875 32.3125 \r\nQ 56.78125 27.484375 56.78125 20.515625 \r\nQ 56.78125 9.90625 50.3125 4.234375 \r\nQ 43.84375 -1.421875 31.78125 -1.421875 \r\nQ 19.734375 -1.421875 13.25 4.234375 \r\nQ 6.78125 9.90625 6.78125 20.515625 \r\nQ 6.78125 27.484375 10.78125 32.3125 \r\nQ 14.796875 37.15625 21.921875 38.8125 \r\nz\r\nM 18.3125 54.390625 \r\nQ 18.3125 48.734375 21.84375 45.5625 \r\nQ 25.390625 42.390625 31.78125 42.390625 \r\nQ 38.140625 42.390625 41.71875 45.5625 \r\nQ 45.3125 48.734375 45.3125 54.390625 \r\nQ 45.3125 60.0625 41.71875 63.234375 \r\nQ 38.140625 66.40625 31.78125 66.40625 \r\nQ 25.390625 66.40625 21.84375 63.234375 \r\nQ 18.3125 60.0625 18.3125 54.390625 \r\nz\r\n\" id=\"DejaVuSans-56\"/>\r\n      </defs>\r\n      <g transform=\"translate(315.869886 242.738437)scale(0.1 -0.1)\">\r\n       <use xlink:href=\"#DejaVuSans-56\"/>\r\n      </g>\r\n     </g>\r\n    </g>\r\n   </g>\r\n   <g id=\"matplotlib.axis_2\">\r\n    <g id=\"ytick_1\">\r\n     <g id=\"line2d_6\">\r\n      <defs>\r\n       <path d=\"M 0 0 \r\nL -3.5 0 \r\n\" id=\"m3736f93771\" style=\"stroke:#000000;stroke-width:0.8;\"/>\r\n      </defs>\r\n      <g>\r\n       <use style=\"stroke:#000000;stroke-width:0.8;\" x=\"33.2875\" xlink:href=\"#m3736f93771\" y=\"228.14\"/>\r\n      </g>\r\n     </g>\r\n     <g id=\"text_6\">\r\n      <!-- 0 -->\r\n      <g transform=\"translate(19.925 231.939219)scale(0.1 -0.1)\">\r\n       <use xlink:href=\"#DejaVuSans-48\"/>\r\n      </g>\r\n     </g>\r\n    </g>\r\n    <g id=\"ytick_2\">\r\n     <g id=\"line2d_7\">\r\n      <g>\r\n       <use style=\"stroke:#000000;stroke-width:0.8;\" x=\"33.2875\" xlink:href=\"#m3736f93771\" y=\"203.008239\"/>\r\n      </g>\r\n     </g>\r\n     <g id=\"text_7\">\r\n      <!-- 100 -->\r\n      <defs>\r\n       <path d=\"M 12.40625 8.296875 \r\nL 28.515625 8.296875 \r\nL 28.515625 63.921875 \r\nL 10.984375 60.40625 \r\nL 10.984375 69.390625 \r\nL 28.421875 72.90625 \r\nL 38.28125 72.90625 \r\nL 38.28125 8.296875 \r\nL 54.390625 8.296875 \r\nL 54.390625 0 \r\nL 12.40625 0 \r\nz\r\n\" id=\"DejaVuSans-49\"/>\r\n      </defs>\r\n      <g transform=\"translate(7.2 206.807457)scale(0.1 -0.1)\">\r\n       <use xlink:href=\"#DejaVuSans-49\"/>\r\n       <use x=\"63.623047\" xlink:href=\"#DejaVuSans-48\"/>\r\n       <use x=\"127.246094\" xlink:href=\"#DejaVuSans-48\"/>\r\n      </g>\r\n     </g>\r\n    </g>\r\n    <g id=\"ytick_3\">\r\n     <g id=\"line2d_8\">\r\n      <g>\r\n       <use style=\"stroke:#000000;stroke-width:0.8;\" x=\"33.2875\" xlink:href=\"#m3736f93771\" y=\"177.876477\"/>\r\n      </g>\r\n     </g>\r\n     <g id=\"text_8\">\r\n      <!-- 200 -->\r\n      <g transform=\"translate(7.2 181.675696)scale(0.1 -0.1)\">\r\n       <use xlink:href=\"#DejaVuSans-50\"/>\r\n       <use x=\"63.623047\" xlink:href=\"#DejaVuSans-48\"/>\r\n       <use x=\"127.246094\" xlink:href=\"#DejaVuSans-48\"/>\r\n      </g>\r\n     </g>\r\n    </g>\r\n    <g id=\"ytick_4\">\r\n     <g id=\"line2d_9\">\r\n      <g>\r\n       <use style=\"stroke:#000000;stroke-width:0.8;\" x=\"33.2875\" xlink:href=\"#m3736f93771\" y=\"152.744716\"/>\r\n      </g>\r\n     </g>\r\n     <g id=\"text_9\">\r\n      <!-- 300 -->\r\n      <defs>\r\n       <path d=\"M 40.578125 39.3125 \r\nQ 47.65625 37.796875 51.625 33 \r\nQ 55.609375 28.21875 55.609375 21.1875 \r\nQ 55.609375 10.40625 48.1875 4.484375 \r\nQ 40.765625 -1.421875 27.09375 -1.421875 \r\nQ 22.515625 -1.421875 17.65625 -0.515625 \r\nQ 12.796875 0.390625 7.625 2.203125 \r\nL 7.625 11.71875 \r\nQ 11.71875 9.328125 16.59375 8.109375 \r\nQ 21.484375 6.890625 26.8125 6.890625 \r\nQ 36.078125 6.890625 40.9375 10.546875 \r\nQ 45.796875 14.203125 45.796875 21.1875 \r\nQ 45.796875 27.640625 41.28125 31.265625 \r\nQ 36.765625 34.90625 28.71875 34.90625 \r\nL 20.21875 34.90625 \r\nL 20.21875 43.015625 \r\nL 29.109375 43.015625 \r\nQ 36.375 43.015625 40.234375 45.921875 \r\nQ 44.09375 48.828125 44.09375 54.296875 \r\nQ 44.09375 59.90625 40.109375 62.90625 \r\nQ 36.140625 65.921875 28.71875 65.921875 \r\nQ 24.65625 65.921875 20.015625 65.03125 \r\nQ 15.375 64.15625 9.8125 62.3125 \r\nL 9.8125 71.09375 \r\nQ 15.4375 72.65625 20.34375 73.4375 \r\nQ 25.25 74.21875 29.59375 74.21875 \r\nQ 40.828125 74.21875 47.359375 69.109375 \r\nQ 53.90625 64.015625 53.90625 55.328125 \r\nQ 53.90625 49.265625 50.4375 45.09375 \r\nQ 46.96875 40.921875 40.578125 39.3125 \r\nz\r\n\" id=\"DejaVuSans-51\"/>\r\n      </defs>\r\n      <g transform=\"translate(7.2 156.543934)scale(0.1 -0.1)\">\r\n       <use xlink:href=\"#DejaVuSans-51\"/>\r\n       <use x=\"63.623047\" xlink:href=\"#DejaVuSans-48\"/>\r\n       <use x=\"127.246094\" xlink:href=\"#DejaVuSans-48\"/>\r\n      </g>\r\n     </g>\r\n    </g>\r\n    <g id=\"ytick_5\">\r\n     <g id=\"line2d_10\">\r\n      <g>\r\n       <use style=\"stroke:#000000;stroke-width:0.8;\" x=\"33.2875\" xlink:href=\"#m3736f93771\" y=\"127.612954\"/>\r\n      </g>\r\n     </g>\r\n     <g id=\"text_10\">\r\n      <!-- 400 -->\r\n      <g transform=\"translate(7.2 131.412173)scale(0.1 -0.1)\">\r\n       <use xlink:href=\"#DejaVuSans-52\"/>\r\n       <use x=\"63.623047\" xlink:href=\"#DejaVuSans-48\"/>\r\n       <use x=\"127.246094\" xlink:href=\"#DejaVuSans-48\"/>\r\n      </g>\r\n     </g>\r\n    </g>\r\n    <g id=\"ytick_6\">\r\n     <g id=\"line2d_11\">\r\n      <g>\r\n       <use style=\"stroke:#000000;stroke-width:0.8;\" x=\"33.2875\" xlink:href=\"#m3736f93771\" y=\"102.481193\"/>\r\n      </g>\r\n     </g>\r\n     <g id=\"text_11\">\r\n      <!-- 500 -->\r\n      <defs>\r\n       <path d=\"M 10.796875 72.90625 \r\nL 49.515625 72.90625 \r\nL 49.515625 64.59375 \r\nL 19.828125 64.59375 \r\nL 19.828125 46.734375 \r\nQ 21.96875 47.46875 24.109375 47.828125 \r\nQ 26.265625 48.1875 28.421875 48.1875 \r\nQ 40.625 48.1875 47.75 41.5 \r\nQ 54.890625 34.8125 54.890625 23.390625 \r\nQ 54.890625 11.625 47.5625 5.09375 \r\nQ 40.234375 -1.421875 26.90625 -1.421875 \r\nQ 22.3125 -1.421875 17.546875 -0.640625 \r\nQ 12.796875 0.140625 7.71875 1.703125 \r\nL 7.71875 11.625 \r\nQ 12.109375 9.234375 16.796875 8.0625 \r\nQ 21.484375 6.890625 26.703125 6.890625 \r\nQ 35.15625 6.890625 40.078125 11.328125 \r\nQ 45.015625 15.765625 45.015625 23.390625 \r\nQ 45.015625 31 40.078125 35.4375 \r\nQ 35.15625 39.890625 26.703125 39.890625 \r\nQ 22.75 39.890625 18.8125 39.015625 \r\nQ 14.890625 38.140625 10.796875 36.28125 \r\nz\r\n\" id=\"DejaVuSans-53\"/>\r\n      </defs>\r\n      <g transform=\"translate(7.2 106.280412)scale(0.1 -0.1)\">\r\n       <use xlink:href=\"#DejaVuSans-53\"/>\r\n       <use x=\"63.623047\" xlink:href=\"#DejaVuSans-48\"/>\r\n       <use x=\"127.246094\" xlink:href=\"#DejaVuSans-48\"/>\r\n      </g>\r\n     </g>\r\n    </g>\r\n    <g id=\"ytick_7\">\r\n     <g id=\"line2d_12\">\r\n      <g>\r\n       <use style=\"stroke:#000000;stroke-width:0.8;\" x=\"33.2875\" xlink:href=\"#m3736f93771\" y=\"77.349431\"/>\r\n      </g>\r\n     </g>\r\n     <g id=\"text_12\">\r\n      <!-- 600 -->\r\n      <g transform=\"translate(7.2 81.14865)scale(0.1 -0.1)\">\r\n       <use xlink:href=\"#DejaVuSans-54\"/>\r\n       <use x=\"63.623047\" xlink:href=\"#DejaVuSans-48\"/>\r\n       <use x=\"127.246094\" xlink:href=\"#DejaVuSans-48\"/>\r\n      </g>\r\n     </g>\r\n    </g>\r\n    <g id=\"ytick_8\">\r\n     <g id=\"line2d_13\">\r\n      <g>\r\n       <use style=\"stroke:#000000;stroke-width:0.8;\" x=\"33.2875\" xlink:href=\"#m3736f93771\" y=\"52.21767\"/>\r\n      </g>\r\n     </g>\r\n     <g id=\"text_13\">\r\n      <!-- 700 -->\r\n      <defs>\r\n       <path d=\"M 8.203125 72.90625 \r\nL 55.078125 72.90625 \r\nL 55.078125 68.703125 \r\nL 28.609375 0 \r\nL 18.3125 0 \r\nL 43.21875 64.59375 \r\nL 8.203125 64.59375 \r\nz\r\n\" id=\"DejaVuSans-55\"/>\r\n      </defs>\r\n      <g transform=\"translate(7.2 56.016889)scale(0.1 -0.1)\">\r\n       <use xlink:href=\"#DejaVuSans-55\"/>\r\n       <use x=\"63.623047\" xlink:href=\"#DejaVuSans-48\"/>\r\n       <use x=\"127.246094\" xlink:href=\"#DejaVuSans-48\"/>\r\n      </g>\r\n     </g>\r\n    </g>\r\n    <g id=\"ytick_9\">\r\n     <g id=\"line2d_14\">\r\n      <g>\r\n       <use style=\"stroke:#000000;stroke-width:0.8;\" x=\"33.2875\" xlink:href=\"#m3736f93771\" y=\"27.085908\"/>\r\n      </g>\r\n     </g>\r\n     <g id=\"text_14\">\r\n      <!-- 800 -->\r\n      <g transform=\"translate(7.2 30.885127)scale(0.1 -0.1)\">\r\n       <use xlink:href=\"#DejaVuSans-56\"/>\r\n       <use x=\"63.623047\" xlink:href=\"#DejaVuSans-48\"/>\r\n       <use x=\"127.246094\" xlink:href=\"#DejaVuSans-48\"/>\r\n      </g>\r\n     </g>\r\n    </g>\r\n   </g>\r\n   <g id=\"patch_12\">\r\n    <path d=\"M 33.2875 228.14 \r\nL 33.2875 10.7 \r\n\" style=\"fill:none;stroke:#000000;stroke-linecap:square;stroke-linejoin:miter;stroke-width:0.8;\"/>\r\n   </g>\r\n   <g id=\"patch_13\">\r\n    <path d=\"M 368.0875 228.14 \r\nL 368.0875 10.7 \r\n\" style=\"fill:none;stroke:#000000;stroke-linecap:square;stroke-linejoin:miter;stroke-width:0.8;\"/>\r\n   </g>\r\n   <g id=\"patch_14\">\r\n    <path d=\"M 33.2875 228.14 \r\nL 368.0875 228.14 \r\n\" style=\"fill:none;stroke:#000000;stroke-linecap:square;stroke-linejoin:miter;stroke-width:0.8;\"/>\r\n   </g>\r\n   <g id=\"patch_15\">\r\n    <path d=\"M 33.2875 10.7 \r\nL 368.0875 10.7 \r\n\" style=\"fill:none;stroke:#000000;stroke-linecap:square;stroke-linejoin:miter;stroke-width:0.8;\"/>\r\n   </g>\r\n  </g>\r\n </g>\r\n <defs>\r\n  <clipPath id=\"pf83113bd53\">\r\n   <rect height=\"217.44\" width=\"334.8\" x=\"33.2875\" y=\"10.7\"/>\r\n  </clipPath>\r\n </defs>\r\n</svg>\r\n",
      "image/png": "[encoded data removed]"
     },
     "metadata": {
      "needs_background": "light"
     }
    },
    {
     "output_type": "display_data",
     "data": {
      "text/plain": "<Figure size 432x288 with 1 Axes>",
      "image/svg+xml": "<?xml version=\"1.0\" encoding=\"utf-8\" standalone=\"no\"?>\r\n<!DOCTYPE svg PUBLIC \"-//W3C//DTD SVG 1.1//EN\"\r\n  \"http://www.w3.org/Graphics/SVG/1.1/DTD/svg11.dtd\">\r\n<!-- Created with matplotlib (https://matplotlib.org/) -->\r\n<svg height=\"252.018125pt\" version=\"1.1\" viewBox=\"0 0 378.7875 252.018125\" width=\"378.7875pt\" xmlns=\"http://www.w3.org/2000/svg\" xmlns:xlink=\"http://www.w3.org/1999/xlink\">\r\n <defs>\r\n  <style type=\"text/css\">\r\n*{stroke-linecap:butt;stroke-linejoin:round;}\r\n  </style>\r\n </defs>\r\n <g id=\"figure_1\">\r\n  <g id=\"patch_1\">\r\n   <path d=\"M 0 252.018125 \r\nL 378.7875 252.018125 \r\nL 378.7875 0 \r\nL 0 0 \r\nz\r\n\" style=\"fill:none;\"/>\r\n  </g>\r\n  <g id=\"axes_1\">\r\n   <g id=\"patch_2\">\r\n    <path d=\"M 33.2875 228.14 \r\nL 368.0875 228.14 \r\nL 368.0875 10.7 \r\nL 33.2875 10.7 \r\nz\r\n\" style=\"fill:#ffffff;\"/>\r\n   </g>\r\n   <g id=\"patch_3\">\r\n    <path clip-path=\"url(#pca96899086)\" d=\"M 48.505682 228.14 \r\nL 82.323864 228.14 \r\nL 82.323864 228.14 \r\nL 48.505682 228.14 \r\nz\r\n\" style=\"fill:#1f77b4;\"/>\r\n   </g>\r\n   <g id=\"patch_4\">\r\n    <path clip-path=\"url(#pca96899086)\" d=\"M 82.323864 228.14 \r\nL 116.142045 228.14 \r\nL 116.142045 228.14 \r\nL 82.323864 228.14 \r\nz\r\n\" style=\"fill:#1f77b4;\"/>\r\n   </g>\r\n   <g id=\"patch_5\">\r\n    <path clip-path=\"url(#pca96899086)\" d=\"M 116.142045 228.14 \r\nL 149.960227 228.14 \r\nL 149.960227 21.054286 \r\nL 116.142045 21.054286 \r\nz\r\n\" style=\"fill:#1f77b4;\"/>\r\n   </g>\r\n   <g id=\"patch_6\">\r\n    <path clip-path=\"url(#pca96899086)\" d=\"M 149.960227 228.14 \r\nL 183.778409 228.14 \r\nL 183.778409 121.29465 \r\nL 149.960227 121.29465 \r\nz\r\n\" style=\"fill:#1f77b4;\"/>\r\n   </g>\r\n   <g id=\"patch_7\">\r\n    <path clip-path=\"url(#pca96899086)\" d=\"M 183.778409 228.14 \r\nL 217.596591 228.14 \r\nL 217.596591 158.204862 \r\nL 183.778409 158.204862 \r\nz\r\n\" style=\"fill:#1f77b4;\"/>\r\n   </g>\r\n   <g id=\"patch_8\">\r\n    <path clip-path=\"url(#pca96899086)\" d=\"M 217.596591 228.14 \r\nL 251.414773 228.14 \r\nL 251.414773 177.242761 \r\nL 217.596591 177.242761 \r\nz\r\n\" style=\"fill:#1f77b4;\"/>\r\n   </g>\r\n   <g id=\"patch_9\">\r\n    <path clip-path=\"url(#pca96899086)\" d=\"M 251.414773 228.14 \r\nL 285.232955 228.14 \r\nL 285.232955 190.452731 \r\nL 251.414773 190.452731 \r\nz\r\n\" style=\"fill:#1f77b4;\"/>\r\n   </g>\r\n   <g id=\"patch_10\">\r\n    <path clip-path=\"url(#pca96899086)\" d=\"M 285.232955 228.14 \r\nL 319.051136 228.14 \r\nL 319.051136 198.611831 \r\nL 285.232955 198.611831 \r\nz\r\n\" style=\"fill:#1f77b4;\"/>\r\n   </g>\r\n   <g id=\"patch_11\">\r\n    <path clip-path=\"url(#pca96899086)\" d=\"M 319.051136 228.14 \r\nL 352.869318 228.14 \r\nL 352.869318 189.287146 \r\nL 319.051136 189.287146 \r\nz\r\n\" style=\"fill:#1f77b4;\"/>\r\n   </g>\r\n   <g id=\"matplotlib.axis_1\">\r\n    <g id=\"xtick_1\">\r\n     <g id=\"line2d_1\">\r\n      <defs>\r\n       <path d=\"M 0 0 \r\nL 0 3.5 \r\n\" id=\"me472ccf4b8\" style=\"stroke:#000000;stroke-width:0.8;\"/>\r\n      </defs>\r\n      <g>\r\n       <use style=\"stroke:#000000;stroke-width:0.8;\" x=\"48.505682\" xlink:href=\"#me472ccf4b8\" y=\"228.14\"/>\r\n      </g>\r\n     </g>\r\n     <g id=\"text_1\">\r\n      <!-- 0 -->\r\n      <defs>\r\n       <path d=\"M 31.78125 66.40625 \r\nQ 24.171875 66.40625 20.328125 58.90625 \r\nQ 16.5 51.421875 16.5 36.375 \r\nQ 16.5 21.390625 20.328125 13.890625 \r\nQ 24.171875 6.390625 31.78125 6.390625 \r\nQ 39.453125 6.390625 43.28125 13.890625 \r\nQ 47.125 21.390625 47.125 36.375 \r\nQ 47.125 51.421875 43.28125 58.90625 \r\nQ 39.453125 66.40625 31.78125 66.40625 \r\nz\r\nM 31.78125 74.21875 \r\nQ 44.046875 74.21875 50.515625 64.515625 \r\nQ 56.984375 54.828125 56.984375 36.375 \r\nQ 56.984375 17.96875 50.515625 8.265625 \r\nQ 44.046875 -1.421875 31.78125 -1.421875 \r\nQ 19.53125 -1.421875 13.0625 8.265625 \r\nQ 6.59375 17.96875 6.59375 36.375 \r\nQ 6.59375 54.828125 13.0625 64.515625 \r\nQ 19.53125 74.21875 31.78125 74.21875 \r\nz\r\n\" id=\"DejaVuSans-48\"/>\r\n      </defs>\r\n      <g transform=\"translate(45.324432 242.738437)scale(0.1 -0.1)\">\r\n       <use xlink:href=\"#DejaVuSans-48\"/>\r\n      </g>\r\n     </g>\r\n    </g>\r\n    <g id=\"xtick_2\">\r\n     <g id=\"line2d_2\">\r\n      <g>\r\n       <use style=\"stroke:#000000;stroke-width:0.8;\" x=\"116.142045\" xlink:href=\"#me472ccf4b8\" y=\"228.14\"/>\r\n      </g>\r\n     </g>\r\n     <g id=\"text_2\">\r\n      <!-- 2 -->\r\n      <defs>\r\n       <path d=\"M 19.1875 8.296875 \r\nL 53.609375 8.296875 \r\nL 53.609375 0 \r\nL 7.328125 0 \r\nL 7.328125 8.296875 \r\nQ 12.9375 14.109375 22.625 23.890625 \r\nQ 32.328125 33.6875 34.8125 36.53125 \r\nQ 39.546875 41.84375 41.421875 45.53125 \r\nQ 43.3125 49.21875 43.3125 52.78125 \r\nQ 43.3125 58.59375 39.234375 62.25 \r\nQ 35.15625 65.921875 28.609375 65.921875 \r\nQ 23.96875 65.921875 18.8125 64.3125 \r\nQ 13.671875 62.703125 7.8125 59.421875 \r\nL 7.8125 69.390625 \r\nQ 13.765625 71.78125 18.9375 73 \r\nQ 24.125 74.21875 28.421875 74.21875 \r\nQ 39.75 74.21875 46.484375 68.546875 \r\nQ 53.21875 62.890625 53.21875 53.421875 \r\nQ 53.21875 48.921875 51.53125 44.890625 \r\nQ 49.859375 40.875 45.40625 35.40625 \r\nQ 44.1875 33.984375 37.640625 27.21875 \r\nQ 31.109375 20.453125 19.1875 8.296875 \r\nz\r\n\" id=\"DejaVuSans-50\"/>\r\n      </defs>\r\n      <g transform=\"translate(112.960795 242.738437)scale(0.1 -0.1)\">\r\n       <use xlink:href=\"#DejaVuSans-50\"/>\r\n      </g>\r\n     </g>\r\n    </g>\r\n    <g id=\"xtick_3\">\r\n     <g id=\"line2d_3\">\r\n      <g>\r\n       <use style=\"stroke:#000000;stroke-width:0.8;\" x=\"183.778409\" xlink:href=\"#me472ccf4b8\" y=\"228.14\"/>\r\n      </g>\r\n     </g>\r\n     <g id=\"text_3\">\r\n      <!-- 4 -->\r\n      <defs>\r\n       <path d=\"M 37.796875 64.3125 \r\nL 12.890625 25.390625 \r\nL 37.796875 25.390625 \r\nz\r\nM 35.203125 72.90625 \r\nL 47.609375 72.90625 \r\nL 47.609375 25.390625 \r\nL 58.015625 25.390625 \r\nL 58.015625 17.1875 \r\nL 47.609375 17.1875 \r\nL 47.609375 0 \r\nL 37.796875 0 \r\nL 37.796875 17.1875 \r\nL 4.890625 17.1875 \r\nL 4.890625 26.703125 \r\nz\r\n\" id=\"DejaVuSans-52\"/>\r\n      </defs>\r\n      <g transform=\"translate(180.597159 242.738437)scale(0.1 -0.1)\">\r\n       <use xlink:href=\"#DejaVuSans-52\"/>\r\n      </g>\r\n     </g>\r\n    </g>\r\n    <g id=\"xtick_4\">\r\n     <g id=\"line2d_4\">\r\n      <g>\r\n       <use style=\"stroke:#000000;stroke-width:0.8;\" x=\"251.414773\" xlink:href=\"#me472ccf4b8\" y=\"228.14\"/>\r\n      </g>\r\n     </g>\r\n     <g id=\"text_4\">\r\n      <!-- 6 -->\r\n      <defs>\r\n       <path d=\"M 33.015625 40.375 \r\nQ 26.375 40.375 22.484375 35.828125 \r\nQ 18.609375 31.296875 18.609375 23.390625 \r\nQ 18.609375 15.53125 22.484375 10.953125 \r\nQ 26.375 6.390625 33.015625 6.390625 \r\nQ 39.65625 6.390625 43.53125 10.953125 \r\nQ 47.40625 15.53125 47.40625 23.390625 \r\nQ 47.40625 31.296875 43.53125 35.828125 \r\nQ 39.65625 40.375 33.015625 40.375 \r\nz\r\nM 52.59375 71.296875 \r\nL 52.59375 62.3125 \r\nQ 48.875 64.0625 45.09375 64.984375 \r\nQ 41.3125 65.921875 37.59375 65.921875 \r\nQ 27.828125 65.921875 22.671875 59.328125 \r\nQ 17.53125 52.734375 16.796875 39.40625 \r\nQ 19.671875 43.65625 24.015625 45.921875 \r\nQ 28.375 48.1875 33.59375 48.1875 \r\nQ 44.578125 48.1875 50.953125 41.515625 \r\nQ 57.328125 34.859375 57.328125 23.390625 \r\nQ 57.328125 12.15625 50.6875 5.359375 \r\nQ 44.046875 -1.421875 33.015625 -1.421875 \r\nQ 20.359375 -1.421875 13.671875 8.265625 \r\nQ 6.984375 17.96875 6.984375 36.375 \r\nQ 6.984375 53.65625 15.1875 63.9375 \r\nQ 23.390625 74.21875 37.203125 74.21875 \r\nQ 40.921875 74.21875 44.703125 73.484375 \r\nQ 48.484375 72.75 52.59375 71.296875 \r\nz\r\n\" id=\"DejaVuSans-54\"/>\r\n      </defs>\r\n      <g transform=\"translate(248.233523 242.738437)scale(0.1 -0.1)\">\r\n       <use xlink:href=\"#DejaVuSans-54\"/>\r\n      </g>\r\n     </g>\r\n    </g>\r\n    <g id=\"xtick_5\">\r\n     <g id=\"line2d_5\">\r\n      <g>\r\n       <use style=\"stroke:#000000;stroke-width:0.8;\" x=\"319.051136\" xlink:href=\"#me472ccf4b8\" y=\"228.14\"/>\r\n      </g>\r\n     </g>\r\n     <g id=\"text_5\">\r\n      <!-- 8 -->\r\n      <defs>\r\n       <path d=\"M 31.78125 34.625 \r\nQ 24.75 34.625 20.71875 30.859375 \r\nQ 16.703125 27.09375 16.703125 20.515625 \r\nQ 16.703125 13.921875 20.71875 10.15625 \r\nQ 24.75 6.390625 31.78125 6.390625 \r\nQ 38.8125 6.390625 42.859375 10.171875 \r\nQ 46.921875 13.96875 46.921875 20.515625 \r\nQ 46.921875 27.09375 42.890625 30.859375 \r\nQ 38.875 34.625 31.78125 34.625 \r\nz\r\nM 21.921875 38.8125 \r\nQ 15.578125 40.375 12.03125 44.71875 \r\nQ 8.5 49.078125 8.5 55.328125 \r\nQ 8.5 64.0625 14.71875 69.140625 \r\nQ 20.953125 74.21875 31.78125 74.21875 \r\nQ 42.671875 74.21875 48.875 69.140625 \r\nQ 55.078125 64.0625 55.078125 55.328125 \r\nQ 55.078125 49.078125 51.53125 44.71875 \r\nQ 48 40.375 41.703125 38.8125 \r\nQ 48.828125 37.15625 52.796875 32.3125 \r\nQ 56.78125 27.484375 56.78125 20.515625 \r\nQ 56.78125 9.90625 50.3125 4.234375 \r\nQ 43.84375 -1.421875 31.78125 -1.421875 \r\nQ 19.734375 -1.421875 13.25 4.234375 \r\nQ 6.78125 9.90625 6.78125 20.515625 \r\nQ 6.78125 27.484375 10.78125 32.3125 \r\nQ 14.796875 37.15625 21.921875 38.8125 \r\nz\r\nM 18.3125 54.390625 \r\nQ 18.3125 48.734375 21.84375 45.5625 \r\nQ 25.390625 42.390625 31.78125 42.390625 \r\nQ 38.140625 42.390625 41.71875 45.5625 \r\nQ 45.3125 48.734375 45.3125 54.390625 \r\nQ 45.3125 60.0625 41.71875 63.234375 \r\nQ 38.140625 66.40625 31.78125 66.40625 \r\nQ 25.390625 66.40625 21.84375 63.234375 \r\nQ 18.3125 60.0625 18.3125 54.390625 \r\nz\r\n\" id=\"DejaVuSans-56\"/>\r\n      </defs>\r\n      <g transform=\"translate(315.869886 242.738437)scale(0.1 -0.1)\">\r\n       <use xlink:href=\"#DejaVuSans-56\"/>\r\n      </g>\r\n     </g>\r\n    </g>\r\n   </g>\r\n   <g id=\"matplotlib.axis_2\">\r\n    <g id=\"ytick_1\">\r\n     <g id=\"line2d_6\">\r\n      <defs>\r\n       <path d=\"M 0 0 \r\nL -3.5 0 \r\n\" id=\"mf6ac7671d5\" style=\"stroke:#000000;stroke-width:0.8;\"/>\r\n      </defs>\r\n      <g>\r\n       <use style=\"stroke:#000000;stroke-width:0.8;\" x=\"33.2875\" xlink:href=\"#mf6ac7671d5\" y=\"228.14\"/>\r\n      </g>\r\n     </g>\r\n     <g id=\"text_6\">\r\n      <!-- 0 -->\r\n      <g transform=\"translate(19.925 231.939219)scale(0.1 -0.1)\">\r\n       <use xlink:href=\"#DejaVuSans-48\"/>\r\n      </g>\r\n     </g>\r\n    </g>\r\n    <g id=\"ytick_2\">\r\n     <g id=\"line2d_7\">\r\n      <g>\r\n       <use style=\"stroke:#000000;stroke-width:0.8;\" x=\"33.2875\" xlink:href=\"#mf6ac7671d5\" y=\"189.287146\"/>\r\n      </g>\r\n     </g>\r\n     <g id=\"text_7\">\r\n      <!-- 100 -->\r\n      <defs>\r\n       <path d=\"M 12.40625 8.296875 \r\nL 28.515625 8.296875 \r\nL 28.515625 63.921875 \r\nL 10.984375 60.40625 \r\nL 10.984375 69.390625 \r\nL 28.421875 72.90625 \r\nL 38.28125 72.90625 \r\nL 38.28125 8.296875 \r\nL 54.390625 8.296875 \r\nL 54.390625 0 \r\nL 12.40625 0 \r\nz\r\n\" id=\"DejaVuSans-49\"/>\r\n      </defs>\r\n      <g transform=\"translate(7.2 193.086364)scale(0.1 -0.1)\">\r\n       <use xlink:href=\"#DejaVuSans-49\"/>\r\n       <use x=\"63.623047\" xlink:href=\"#DejaVuSans-48\"/>\r\n       <use x=\"127.246094\" xlink:href=\"#DejaVuSans-48\"/>\r\n      </g>\r\n     </g>\r\n    </g>\r\n    <g id=\"ytick_3\">\r\n     <g id=\"line2d_8\">\r\n      <g>\r\n       <use style=\"stroke:#000000;stroke-width:0.8;\" x=\"33.2875\" xlink:href=\"#mf6ac7671d5\" y=\"150.434291\"/>\r\n      </g>\r\n     </g>\r\n     <g id=\"text_8\">\r\n      <!-- 200 -->\r\n      <g transform=\"translate(7.2 154.23351)scale(0.1 -0.1)\">\r\n       <use xlink:href=\"#DejaVuSans-50\"/>\r\n       <use x=\"63.623047\" xlink:href=\"#DejaVuSans-48\"/>\r\n       <use x=\"127.246094\" xlink:href=\"#DejaVuSans-48\"/>\r\n      </g>\r\n     </g>\r\n    </g>\r\n    <g id=\"ytick_4\">\r\n     <g id=\"line2d_9\">\r\n      <g>\r\n       <use style=\"stroke:#000000;stroke-width:0.8;\" x=\"33.2875\" xlink:href=\"#mf6ac7671d5\" y=\"111.581437\"/>\r\n      </g>\r\n     </g>\r\n     <g id=\"text_9\">\r\n      <!-- 300 -->\r\n      <defs>\r\n       <path d=\"M 40.578125 39.3125 \r\nQ 47.65625 37.796875 51.625 33 \r\nQ 55.609375 28.21875 55.609375 21.1875 \r\nQ 55.609375 10.40625 48.1875 4.484375 \r\nQ 40.765625 -1.421875 27.09375 -1.421875 \r\nQ 22.515625 -1.421875 17.65625 -0.515625 \r\nQ 12.796875 0.390625 7.625 2.203125 \r\nL 7.625 11.71875 \r\nQ 11.71875 9.328125 16.59375 8.109375 \r\nQ 21.484375 6.890625 26.8125 6.890625 \r\nQ 36.078125 6.890625 40.9375 10.546875 \r\nQ 45.796875 14.203125 45.796875 21.1875 \r\nQ 45.796875 27.640625 41.28125 31.265625 \r\nQ 36.765625 34.90625 28.71875 34.90625 \r\nL 20.21875 34.90625 \r\nL 20.21875 43.015625 \r\nL 29.109375 43.015625 \r\nQ 36.375 43.015625 40.234375 45.921875 \r\nQ 44.09375 48.828125 44.09375 54.296875 \r\nQ 44.09375 59.90625 40.109375 62.90625 \r\nQ 36.140625 65.921875 28.71875 65.921875 \r\nQ 24.65625 65.921875 20.015625 65.03125 \r\nQ 15.375 64.15625 9.8125 62.3125 \r\nL 9.8125 71.09375 \r\nQ 15.4375 72.65625 20.34375 73.4375 \r\nQ 25.25 74.21875 29.59375 74.21875 \r\nQ 40.828125 74.21875 47.359375 69.109375 \r\nQ 53.90625 64.015625 53.90625 55.328125 \r\nQ 53.90625 49.265625 50.4375 45.09375 \r\nQ 46.96875 40.921875 40.578125 39.3125 \r\nz\r\n\" id=\"DejaVuSans-51\"/>\r\n      </defs>\r\n      <g transform=\"translate(7.2 115.380655)scale(0.1 -0.1)\">\r\n       <use xlink:href=\"#DejaVuSans-51\"/>\r\n       <use x=\"63.623047\" xlink:href=\"#DejaVuSans-48\"/>\r\n       <use x=\"127.246094\" xlink:href=\"#DejaVuSans-48\"/>\r\n      </g>\r\n     </g>\r\n    </g>\r\n    <g id=\"ytick_5\">\r\n     <g id=\"line2d_10\">\r\n      <g>\r\n       <use style=\"stroke:#000000;stroke-width:0.8;\" x=\"33.2875\" xlink:href=\"#mf6ac7671d5\" y=\"72.728582\"/>\r\n      </g>\r\n     </g>\r\n     <g id=\"text_10\">\r\n      <!-- 400 -->\r\n      <g transform=\"translate(7.2 76.527801)scale(0.1 -0.1)\">\r\n       <use xlink:href=\"#DejaVuSans-52\"/>\r\n       <use x=\"63.623047\" xlink:href=\"#DejaVuSans-48\"/>\r\n       <use x=\"127.246094\" xlink:href=\"#DejaVuSans-48\"/>\r\n      </g>\r\n     </g>\r\n    </g>\r\n    <g id=\"ytick_6\">\r\n     <g id=\"line2d_11\">\r\n      <g>\r\n       <use style=\"stroke:#000000;stroke-width:0.8;\" x=\"33.2875\" xlink:href=\"#mf6ac7671d5\" y=\"33.875728\"/>\r\n      </g>\r\n     </g>\r\n     <g id=\"text_11\">\r\n      <!-- 500 -->\r\n      <defs>\r\n       <path d=\"M 10.796875 72.90625 \r\nL 49.515625 72.90625 \r\nL 49.515625 64.59375 \r\nL 19.828125 64.59375 \r\nL 19.828125 46.734375 \r\nQ 21.96875 47.46875 24.109375 47.828125 \r\nQ 26.265625 48.1875 28.421875 48.1875 \r\nQ 40.625 48.1875 47.75 41.5 \r\nQ 54.890625 34.8125 54.890625 23.390625 \r\nQ 54.890625 11.625 47.5625 5.09375 \r\nQ 40.234375 -1.421875 26.90625 -1.421875 \r\nQ 22.3125 -1.421875 17.546875 -0.640625 \r\nQ 12.796875 0.140625 7.71875 1.703125 \r\nL 7.71875 11.625 \r\nQ 12.109375 9.234375 16.796875 8.0625 \r\nQ 21.484375 6.890625 26.703125 6.890625 \r\nQ 35.15625 6.890625 40.078125 11.328125 \r\nQ 45.015625 15.765625 45.015625 23.390625 \r\nQ 45.015625 31 40.078125 35.4375 \r\nQ 35.15625 39.890625 26.703125 39.890625 \r\nQ 22.75 39.890625 18.8125 39.015625 \r\nQ 14.890625 38.140625 10.796875 36.28125 \r\nz\r\n\" id=\"DejaVuSans-53\"/>\r\n      </defs>\r\n      <g transform=\"translate(7.2 37.674946)scale(0.1 -0.1)\">\r\n       <use xlink:href=\"#DejaVuSans-53\"/>\r\n       <use x=\"63.623047\" xlink:href=\"#DejaVuSans-48\"/>\r\n       <use x=\"127.246094\" xlink:href=\"#DejaVuSans-48\"/>\r\n      </g>\r\n     </g>\r\n    </g>\r\n   </g>\r\n   <g id=\"patch_12\">\r\n    <path d=\"M 33.2875 228.14 \r\nL 33.2875 10.7 \r\n\" style=\"fill:none;stroke:#000000;stroke-linecap:square;stroke-linejoin:miter;stroke-width:0.8;\"/>\r\n   </g>\r\n   <g id=\"patch_13\">\r\n    <path d=\"M 368.0875 228.14 \r\nL 368.0875 10.7 \r\n\" style=\"fill:none;stroke:#000000;stroke-linecap:square;stroke-linejoin:miter;stroke-width:0.8;\"/>\r\n   </g>\r\n   <g id=\"patch_14\">\r\n    <path d=\"M 33.2875 228.14 \r\nL 368.0875 228.14 \r\n\" style=\"fill:none;stroke:#000000;stroke-linecap:square;stroke-linejoin:miter;stroke-width:0.8;\"/>\r\n   </g>\r\n   <g id=\"patch_15\">\r\n    <path d=\"M 33.2875 10.7 \r\nL 368.0875 10.7 \r\n\" style=\"fill:none;stroke:#000000;stroke-linecap:square;stroke-linejoin:miter;stroke-width:0.8;\"/>\r\n   </g>\r\n  </g>\r\n </g>\r\n <defs>\r\n  <clipPath id=\"pca96899086\">\r\n   <rect height=\"217.44\" width=\"334.8\" x=\"33.2875\" y=\"10.7\"/>\r\n  </clipPath>\r\n </defs>\r\n</svg>\r\n",
      "image/png": "[encoded data removed]"
     },
     "metadata": {
      "needs_background": "light"
     }
    }
   ],
   "source": [
    "wordfreqs_cat1 = nltk.FreqDist(data['datascience']['all_words'])\n",
    "plt.hist(wordfreqs_cat1.values(), bins = range(10))\n",
    "plt.show()\n",
    "wordfreqs_cat2 = nltk.FreqDist(data['gameofthrones']['all_words'])\n",
    "plt.hist(wordfreqs_cat2.values(), bins = range(10))\n",
    "plt.show()"
   ]
  },
  {
   "cell_type": "code",
   "execution_count": 111,
   "metadata": {
    "tags": []
   },
   "outputs": [
    {
     "output_type": "stream",
     "name": "stdout",
     "text": "[]\n[]\n"
    }
   ],
   "source": [
    "print (wordfreqs_cat1.hapaxes())\n",
    "print (wordfreqs_cat2.hapaxes())"
   ]
  },
  {
   "cell_type": "code",
   "execution_count": 112,
   "metadata": {
    "tags": []
   },
   "outputs": [
    {
     "output_type": "stream",
     "name": "stdout",
     "text": "[('data', 1459), ('work', 596), ('use', 555), ('scienc', 457), ('like', 423), ('would', 362), ('model', 343), ('learn', 318), ('get', 305), ('time', 294), ('compani', 288), ('job', 273), ('know', 242), ('scientist', 240), ('want', 230), ('project', 211), ('question', 207), ('one', 205), ('look', 203), ('need', 191)]\n[('spoiler', 569), ('season', 234), ('show', 188), ('king', 186), ('jon', 179), ('would', 169), ('throne', 169), ('like', 147), ('think', 142), ('one', 134), ('game', 130), ('watch', 129), ('got', 120), ('end', 111), ('time', 109), ('poll', 100), ('episod', 92), ('dragon', 91), ('know', 91), ('book', 90)]\n"
    }
   ],
   "source": [
    "print (wordfreqs_cat1.most_common(20))\n",
    "print (wordfreqs_cat2.most_common(20))"
   ]
  },
  {
   "cell_type": "code",
   "execution_count": null,
   "metadata": {},
   "outputs": [],
   "source": []
  },
  {
   "cell_type": "code",
   "execution_count": 101,
   "metadata": {},
   "outputs": [],
   "source": []
  },
  {
   "cell_type": "code",
   "execution_count": 105,
   "metadata": {},
   "outputs": [
    {
     "output_type": "error",
     "ename": "SyntaxError",
     "evalue": "invalid syntax (<ipython-input-105-ac9d904a1e5e>, line 1)",
     "traceback": [
      "\u001b[1;36m  File \u001b[1;32m\"<ipython-input-105-ac9d904a1e5e>\"\u001b[1;36m, line \u001b[1;32m1\u001b[0m\n\u001b[1;33m    print wordfreqs_cat1.hapaxes()\u001b[0m\n\u001b[1;37m                       ^\u001b[0m\n\u001b[1;31mSyntaxError\u001b[0m\u001b[1;31m:\u001b[0m invalid syntax\n"
     ]
    }
   ],
   "source": [
    "print wordfreqs_cat1.hapaxes()\n",
    "print wordfreqs_cat2.hapaxes()"
   ]
  },
  {
   "cell_type": "code",
   "execution_count": 104,
   "metadata": {
    "tags": [
     "outputPrepend"
    ]
   },
   "outputs": [
    {
     "output_type": "stream",
     "name": "stdout",
     "text": ", 'matched', '200', 'rag', 'tag', 'criminals', 'thorne', 'blend', 'egret', 'brave', 'pips', 'cursed', 'among', 'wallet', 'keeper', 'jons', 'sending', 'nightswatch', 'bloodline', 'militarized', '*every*', 'switch', 'non-combatants', 'rigid', 'structure', 'square', 'applies', 'participates', 'ladies', 'trade', 'armored', 'opposed', 'ornate', 'multi-colored', 'dresses/jewels', 'ditched', 'regal', 'greek', 'goddess-like', 'gowns', 'alternates', 'space-age', 'fur', 'lined', 'queenly', 'moved', 'locations', 'climates', 'require', 'lighter', 'bulk', 'furs', 'tyene', 'craster', 'happily', 'blessed', '//preview.redd.it/r8a1gfxu07b51.png', 'width=2880', 's=98821ba7ec50cda7537517727bb7524e7760cb6f', '//preview.redd.it/hoq2espw07b51.jpg', 'width=1920', 's=72c2a73a2afc6dbc63bd9d1345a67c63c05539c8', 'shiny', 'era', 'nominally', 'scar', 'long-term', 'governance', 'deposed', 'exile', 'decades', 'underprivileged', 'amass', 'devotees', 'shortly', 'thereafter', 'abuse', 'depicted', 'recognise', 'fave', '//www.reddit.com/poll/hs45je', 'well..i', 'apologies..i', 'debrief', 'deserve', 'godhood', 'tactics', '//www.reddit.com/poll/hrzfka', 'drawer', 'joestsars', 'jojo', '//www.reddit.com/poll/hrgzd3', 'endings', 'lynesse', 'hightower', 'sparks', 'needle', 's1e5', 's2e7', 'p.s', 'linking', 'em', 'pencil', 'trent', 'redmond', \"'the\", 'edition*', 'lannister/brienne', 'drinking', 'contest', '21st', 'century', 'vulgar', 'virgin', 'reductive', 'crediting', 'abusers', 'bird', 'reject', 'proposal', 'poignant', 'pod', 'r+l=j', 'informed', 'forward', 'evoked', 'rhaenyra', 'ii', 'convenience', 'staged', 'arguably', 'implausible', 'loyalists', 'injury', 'unseat', 'grief', 'sexist', 'coined', \"'who\", 'eight', 'arianne', 'talla', \"'because\", 'ignores', 'superiority', 'purely', \"'stay\", 'situation', 'response', 'explicitly', 'parallel', 'impulsive', 'process', 'vent', 'advance', 'saul', 'wash', 'sight', 'ears', '*there', '7/10', 'infiltrate', 'faking', 'twoiaf', 'wherein', 'remained', 'seat', 'autumn', 'howling', 'ascent', 'p.172', 'affc', 'adwd', 'primed', 'patient', 'readers', 'grooming', 'harrold', 'hardnyng', 'regent', 'sickly', 'alteration', 'occurrence', 'flew', 'vhagar', 'inner', 'yard', 'alayne', 'waycastles', 'prudent', 'waddle', 'amiright', 'autograph', 'looked', 'unimpressed', 'nonchalant', 'continuity', 'climbing', 'stairs/arya', 'grin/jamie', 'death/dothraki', 'hoard', 'kneeled/ser', 'kneeled/tyrion', '—', 'differentiating', 'depth', 'lines', 'featured', 'stronger', 'overrated', 'rumor', 'fame', 'garvonka', '//www.instagram.com/gavronka_/', 'awards', 'michelle', 'robbed', 'harrington', 'charles', 'ass', 'flabbergasted', 'sag', 'award', 'ensemble', 'deborah', 'riley', 'production', 'imho', 'pits', 'runner-ups', '//www.reddit.com/r/gameofthrones/comments/hqosj3/spoilers\\\\_best\\\\_fights\\\\_in\\\\_game\\\\_of\\\\_thrones\\\\_final/', '//www.reddit.com/r/gameofthrones/comments/hqosj3/spoilers_best_fights_in_game_of_thrones_final/', '//www.reddit.com/poll/hqowq5', 'aspect', 'vanquished', 'society', 'inheritance', 'avoid', 'closest', 'imminent', 'doorstep', 'wreak', 'havoc', 'ridiculous', 'ridiculousness', 'lessons', '//www.reddit.com/r/gameofthrones/comments/hqowq5/spoilers\\\\_best\\\\_fights\\\\_in\\\\_game\\\\_of\\\\_thrones\\\\_bonus/', '//www.reddit.com/r/gameofthrones/comments/hqowq5/spoilers_best_fights_in_game_of_thrones_bonus/', '//www.reddit.com/poll/hqosj3', 'bait', 'untrue', 'comprehensive', 'breaker', 'misplaced', 'builds', 'socially', \"'justice\", 'firm', 'allowing', 'acts', 'effected', 'tact', 'refuses', 'unfit', 'pushed', 'desires', 'standing', 'nearly', 'promises', 'secrecy', 'hung', 'specifics', 'unneeded', 'broke', 'villainous', 'angered', 'excuse', 'betrothed', 'liar', 'lies', 'folly', 'complains', 'resigns', 'targeted', 'code', 'convenient', 'bids', 'likelihood', 'offered', 'protection', 'slip', 'waits', 'danger', 'doubt', 'examples', 'hows', 'obsessed', 'expense', 'lucifer', 'littlefingers', 'gruff', 'complection', 'ruin', 'pls', 'essay', 'demands', 'arguing', 'deceived', 'regarding', 'reasoning', 'leather', 'seats', 'shades', 'amazon', 'aeron', 'praise', 'appreciated', 'commitment', 'parallell', 'pounding', 'unpack', 'excellent', 'handle', 'suspense', 'aria', 'baddest', 'asha', 'inhaled', 'loudly', 'shopping', 'boundaries', 'onto', 'subjugated', 'race', 'religion', 'economic', 'benefit', 'argument', 'transport', 'n.ireland', 'visit', 'ellari3l_cosplay', 'dismiss', 'consider', 'brief', 'alaskan', 'r+l', 'j', 'groundwork', 'crazier', 'brethren', 'senselessly', 'backstabbed', 'affiliations', 'assumed', 'aka', 'hearts', 'presume', 'indeed', 'fateful', 'begs', 'noses', 'illusory', 'necklace', 'hides', 'hue', 'shells', 'heroic', 'cook', 'flame', 'cooked', 'bath', 'alludes', 'crustaceous', 'crusader', 'destined', 'glory', 'speculated', 'highlight', 'fragility', 'annihilation', 'superior', 'species', 'priestesses', 'exhausted', 'ruler', 'persecute', 'masterfully', 'highlights', 'fleeting', 'flawed', 'humans', '//imgur.com/gallery/4ayhwnk', 'pandemic', 'approaching', 'prioritized', 'former', 'coin', 'acutely', 'aware', 'financial', 'difficulties', 'resolving', 'valuable', 'readily', 'dormant', 'generic', 'quest', 'chase', 'intermittent', 'culminating', 'reestablishing', 'castles', 'explored', 'regions', 'struggled', 'alot', '//www.reddit.com/poll/hpxtcn', 'survivors', 'myraham', 'seaguard', 'captain', 'peppercrab', 'stew', 'camped', 'occasions', 'thinning', 'contraption', 'pulled', 'loose', 'curly', 'merged', 'interact', 'filmed', 'separately', 'farther', 'corpses', 'savagely', 'feasters', 'strewn', 'overturned', 'chairs', 'hacked', 'trestle', 'tables', 'asprawl', 'pools', 'congealing', 'limbs', 'heads', 'severed', 'clutched', 'bloody', 'cups', 'spoons', 'fowl', 'leg', 'lamb', 'scepter', 'mute', 'appeal', '48', 'ranked', '**sss', 'direwolves', '**s', 'petyr', 'mance', 'rayder', '**a', '**b', '**c', '**d', 'janos', 'slynt', '**f', 'pycelle', '**per', 'description', 'judging', 'persuasive', 'charismatic', 'v=lpqrz974v4k', 'kracken', 'federico', 'musetti', 'dude', 'roght', 'drawls', 'threw', 'drawl', 'symptoms', 'coronavirus', 'ant', 'improvised', 'wow', 'bed', 'decree', 'invalided', 'male', 'jon/aegon', '1er', 'barbarian', 'manse', 'raider', 'wild', 'lings', 'border', 'mexico', 're-watched', '–', 'waterfall', 'skylarkling', 'dragonback', 'wished', 'emerges', 'unburned', 'throws', 'subversive', 'anti-hero', 'one-note', 'furthermore', 'returning', 'seasoned', 'spanning', 'defiance', 'duskendale', 'predominantly', 'aerys', 'fleshed', 'exploration', 'sucker', 'learnt', 'newbie', 'prime', '//www.reddit.com/poll/hpadmp', 'coupe', 're-reading', 'wen', 'spoil', '**is', 'rivals', 'seriousness', 'unleashing', 'choreography', 'grips', '**i', 'lotr', 'comparison', '//preview.redd.it/0pn8dv43b6a51.png', 'width=1918', 's=a4f70d4f6c27511b14171ca2a0a9be029d617336', 'metaphor', 'figures', 'represent', 'devil', 'angel', 'opposite', 'sister-wives', 'mix', 'mannis', 'artur', 'tarnowski', 'sahin', 'duezguen', '//youtu.be/pwc-8qqp-qi', 'delete', 'physics', 'expert', 'unskilled', 'misunderstandings', 'passages', 'affected', 'failing', 'sidetrack', 'exists', 'hllor', 'unpredictable', 'remembers', 'books/show', 'center', 'spiraling', 'downvote', 'doom', 'fourteen', 'erupted', 'widely', 'debated', 'volcano', 'drifting', 'orbit', 'entering', 'belt', 'cluster', 'comet', 'tangle', 'myrish', 'lyseni', 'legend', 'tellls', 'hatched', 'disaster', 'alas', 'journeyman', 'pen', 'chains', 'ig', 'usual', 'established', 'logical', 'conclusions', 'explaining', 'unfair', 'fot', '😍😍', '//youtu.be/bods-az4jn4', 'bothering', 'direwolf', 'quickie', 'inheriting', 'it/forgot', 'corlys', 'velaryon', 'snake', 'fabled', 'tides', 'attempted', 'devan', 'spin-off', 'detest', 'loathe', 'shamed', 'allegiance', 'treasonous', 'american', 'themes', 'g.o.t', 'remind', 'wed', 'strength', 'dragon/targaryan', 'defined', 'unselfish', 'belonging', 'outcast/black', 'sheep', 'mistreated', 'bitter', 'belonged', 'arrogance', 'self-confidence', 'via', 'torture', 'captive', 'dandy', 'charming', 'bitch-slap', 'witnessed', 'effectively', 'intentions', 'passion', 'sexual', 'ardor', 'is…', 'inhumanity', 'debate', '//passtime.fun/crossletters/play/39', 'preview', '//i.imgur.com/ixb68en.png', 'tough', 'howuch', 's04e02', 'dancing', 'tirion', 'helper', 'lightsaber', 'seed', 'item', 'branimal', 'spin', '👁️🐺🦅', '//www.reddit.com/poll/ho0974', 'collectors', 'p.r', '//preview.redd.it/gsv9m2q2sv951.jpg', 'width=600', 's=07f550c43c6c3894e32e3b972c4de1061f41d17f', '//preview.redd.it/aluas7q2sv951.jpg', 'width=402', 's=c49893a9d3117b67c104aa1496118306d6245d1f', 'pictures', 'v=xf\\\\_8tkjilmc', 'v=xf_8tkjilmc', 'words', 'butchered', 'who-s', 'easier', 'accepting', 'lessening', 'empowering', 'focusing', 'tying', 'calculated-seeming', 'tyrion/dany', 'grieving', 'prefer', 'resignation', 'appointed', 'shattered', 'repair', 'lesser', 'equal', 'plus', 'collateral', 'righteous', 'implement', 'presence', 'vacillating', 'imdb', 'ratings', '+', 'televison', 'memories', 'briann', 'tarth', 'reny', 'priestess', 'queens', 'benefited', 'heel', 'power/lands/assets', 'bind', 'theres', 'forgive', 'heirs', 'maesters', 'supported', 'warned', 'emissary', 'confident', 'device', 'romance', 'permitted', 'parrot', '7x03', 'tomorrow', 'sovereignty', 'confessed', 'paternity', 'grenade', 'mixed', 'courtier', 'chew', 'toy', 'grabbing', 'olympics', 'manipulate', 'courtiers', 'mea', 'muscle', 'cat', '//www.reddit.com/r/gameofthrones/comments/hno7zt/spoilers\\\\_best\\\\_fights\\\\_in\\\\_game\\\\_of\\\\_thrones\\\\_part\\\\_5/', '//www.reddit.com/r/gameofthrones/comments/hno7zt/spoilers_best_fights_in_game_of_thrones_part_5/', '//www.reddit.com/poll/hnopxy', 'mdf', 'lights', 'starnado', 'creations', 'fb', 'forgot', '//www.reddit.com/r/gameofthrones/comments/hnnlwb/spoilers\\\\_best\\\\_fights\\\\_in\\\\_game\\\\_of\\\\_thrones\\\\_part\\\\_4/', '//www.reddit.com/r/gameofthrones/comments/hnnlwb/spoilers_best_fights_in_game_of_thrones_part_4/', '//www.reddit.com/poll/hno7zt', 'steady', 'progress', 'sort-of', 'penance', 'realms', 'upvote', 'outs', 'ate', 'ball', 'fatness', 'havnt', 'youve', 'enlighten', '//www.reddit.com/poll/hnn9q5', '//www.reddit.com/r/gameofthrones/comments/hn15ux/spoilers\\\\_best\\\\_fights\\\\_in\\\\_game\\\\_of\\\\_thrones\\\\_part\\\\_3/', '//www.reddit.com/r/gameofthrones/comments/hn15ux/spoilers_best_fights_in_game_of_thrones_part_3/', '//www.reddit.com/poll/hnnlwb', 'mugs', 'reads', '..i', 'confess', 'frodo', 're-do', 'congrats', 'sisters', 'claiming', 'brien', 'floor', 'trunk', 'supper', 'tricks', 'daddy', 'cuts', 'troll', 'posting', 'trolled', 'fake', 'april', 'fools', 'backstory', 'sides', 'unbearable', 'appeared', 'youtube', 'clean', 'voices', 'ffs', 'contain', 'yay', 'v=h-out\\\\_vv88e', 'v=h-out_vv88e', 'devote', 'targareyns', 'non', 'legit', 'king/queen', 'regardless', 'secession', '//www.reddit.com/r/gameofthrones/comments/hn0g22/spoilers\\\\_best\\\\_fights\\\\_in\\\\_game\\\\_of\\\\_thrones\\\\_part\\\\_1/', '//www.reddit.com/r/gameofthrones/comments/hn0g22/spoilers_best_fights_in_game_of_thrones_part_1/', '//www.reddit.com/poll/hn0vsn', 'wan', 'bricks', 'savage', '**note', '*jon', 'bolton*', 'option', '***just', 'gates***', 'arrows', 'beats', '//www.reddit.com/r/gameofthrones/comments/hn0vsn/spoilers\\\\_best\\\\_fights\\\\_in\\\\_game\\\\_of\\\\_thrones\\\\_part\\\\_2/', '//www.reddit.com/r/gameofthrones/comments/hn0vsn/spoilers_best_fights_in_game_of_thrones_part_2/', '//www.reddit.com/poll/hn15ux', 'referred', 'refer', 'addressed', 'recall', '//www.reddit.com/poll/hn0g22', 'covid', 'aemon', 'was..', 'glimpse', '*love', 'duty*', 'hindsight', 'mother😭', '10x', 'prologue', 'context', 'shae', 'cinematic', 'beauty', 'episdoe', 'boat', 'exact', 'simultaneously', 'hastings', 'catastrophe', '1914', 'audible', 'incident', 'escalated', 'reformed', 'figureheads', 'till', '1918', '1945', 'lockdown', 'sours', 'rewatchability', '5-6', 'consistently', 'noticably', 'cringey', 'writes', 'memoir', 'cercei', 'escape', 'mask/face', 'study', 'continue', 'wyman', 'manderly', 'burbrey', 'dustin', 'defect', 'secure', 'rickon', 'skagos', 'belief', 'ressurect', 'ressurected', 'amdist', 'amidst', 'passes', 'bleeding', 'afterwards', 'execute', 'tempering', 'reborn', 'sometime', 'raegar', 'reenforcing', 'arriving', 'exercise', 'achievement', 'professional', 'botched', 'rushing', 'r.r', 'store', 'plotted', 'hauling', 'marked', 'unknowingly', 'ancient', 'protecting', 'underneath', 'weapons', 'mammoths', 'swarm', '999th', 'eddison', 'tollett', 'breaches', 'strolling', 'raising', 'signified', 'dolorous', 'edd', 'rising', 'ranks', 'entourage', 'seige', 'characterization', 'odds', 'randall', 'dickon', 'refusing', 'blackwater', 'bay', 'surrounding', 'circling', 'overhead', 'starve', 'inciting', 'uprising', 'dissimilar', 'yunkai', 'waste', 'sends', 'garrisons', 'directions', 'hearth', 'karhold', 'deepwood', 'motte', 'dreadfort', 'newly', 'headed', 'overrun', 'spot', 'informs', 'setting', 'camp', 'meets', 'playful', 'banter', 'helps', 'dragonpit', 'arranged', 'angle', 'prepare', 'costs', 'dedicated', 'loathing', 'builder', 'banish', 'thousands', 'prison', 'suffer', 'commences', 'wayside', 'injuring', 'flies', 'hero', 'gather', 'duels', 'immune', 'bests', 'fatal', 'presumed', 'lunges', 'plunges', 'dragonglass', 'burst', 'breathes', 'sigh', 'relief', 'immediate', 'calvary', 'helm', 'scorned', 'decimating', 'turncoats', 'slaughter', 'harbor', 'subplots', 'flirting', 'foundation', 'consummating', 'howland', 'greywater', 'grieve', 'jojen', 'consummated', 'culmination', 'bleed', 'reign', 'terror', 'pie', 'brotherhood', 'narrative', 'purposes', 'bearing', 'disillusioned', 'heals', 'unbelievably', 'idiotic', 'fruition', 'thankful', 'excised', 'cross', 'peace', 'sentenced', 'crimes', 'drinks', 'task', 'rebuilding', 'spearheads', 'continuing', 'injured', 'slipping', 'cue', 'torn', 'compelled', 'rallies', 'condition', 'roaring', 'concerned', 'telephone', 'unbeatable', 'motley', 'crew', 'worries', 'frees', 'surrender', 'torch', 'sneak', 'quests', 'armys', 'overwhelm', 'backed', 'corner', 'nexus', 'civilians', 'liberating', 'wind', 'scorpions', 'shots', 'swaths', 'raining', 'cleganebowl', 'advertised', 'manic', 'desperation', 'ignite', 'wildfyre', 'stores', 'wraps', 'crushing', 'empire', 'bloodbath', 'dazed', 'stumbles', 'surveying', 'similarly', 'justify', 'resolves', 'devastation', 'revel', 'victory', 'plunging', 'freeing', 'grip', 'tyrant', 'flying', 'gathers', 'leaders', 'treason', 'news', 'spread', 'wide', 'reward', 'contribution', 'sewer', 'drainage', 'reclaims', 'kisses', 'matthos', 'begin', 'explorer', 'discovers', 'americos', 'forests', 'wrapped', 'hailed', 'instant', 'classic', 'forever', 'judged', 'virtually', 'internal', '//www.reddit.com/poll/hmakvn', 'incest', '6.10', 'non-book', 'reader', '59', 'incestuous', 'underemphasised', 'compass', 'intro', 'democracy', 'rails', 'non-argument', 'reopened', 'rooting', 'blown', 'water', 'wound', 'hurts', \"'is\", \"'oh\", 'partner', \"'do\", 'worry', '*later*', 'citizen', \"'argh\", 'swarms', 'noooo', '*angry', 'expression', \"'no\", 'transformation', 'articles', 'slight', 'shouldve', 'rode', 'depend', 'mercy', 'symbolism', 'pointless', '7x5', 'eastwatch', 'targaryen/stark/greyjoy/tully/dornish/leftover', 'loyalist', 'depleted', 'ambush', 'increasing', 'despair', 'ongoing', 'keeping', 'triggering', 'burn/accidental', 'setoff', 'replace', 'justifies', '9/episode', '//www.reddit.com/poll/hllu6l', 'dramatically/secretly', '//youtu.be/xf_8tkjilmc', 'popcorn', 'chain', 'archived', 'blu-ray', 'vfx', 'department', 'originally', 'concept', 'explosion', 'storyboards', 'allegedly', 'landing—they', 'green', 'fascinating', 'infuriating', 'rendition', 'troc', 'e1', 'plex', 'library', 'yesterday', 'enter', 'narration', 'describes', 'area', 'accessible', 'disrepair', 'boarded', 'entrances', 'murderer', '3d', 'advancing', 'dudes', 'walking', 'overjoyed', 'magali', 'villanueva', 'insane', 'harsh', 'reached', 'cheer', 'met', 'nation', 'fender', 'guitars', 'elenastripe', 'taiwanese', 'eng', 'clip', 'v=yn8gqt7xuxs', 'includes', 'rumours', 'secondly', 'speculating', 'quiz', 's8e3', 'stark/targaryen', 'painted', 'vans', 'compared', 'traveling/timeline', 'criticisms', 'teleport', 'guide', 'capturing', 'forget', 'indication', 'confirmation', 'needing', 'elena', 'paint', 'muciano', 'ultra', 'hd', 'consensus', 'rough', 's04e09', 'stakes', 'tracking', 's03e09', 's06e09', 'basterds', 'fire-breathing', 'visually', 'stunning', 'described', 'rant', 'elect', 'dirty', 'june', 'f', 'k', 'n', 'cringe', 'destroy', 'morals', 'rewrote', 'multiple', 'videogame', 'inactive', 'subscribers', 'saga', 'sentence', 'hints', 'clue', 'screwing', '**if**', 'dare', '//preview.redd.it/oo811yikpo851.png', 'width=1524', 's=50d8ba43bce1b7ae2e178ff11426cc910cff53fc', 'heh', 'lord.', 'doubted', 'w/', 'storylines', 'hooked', 'unite', 'ww', 'intent', 'baited', 'manages', 'crossing', 'silly', 'borked', \"'seeing\", 'sweet', 'inform', 'wouldnt', 'leannas', 'middle', 'fourth', 'detail', 'popularly', 'childbirth', 'picked', 'stafford', 'good-brother', 'joanna', 'session-', 'dear', 'assignment', 'tessa', 'y/o', 'dutch', 'student', 'studying', 'creative', 'subject', 'participatory', 'cultures', 'analyse', 'loyally', 'exited', 'normally', 'reply', 'project', 'research', 'encountered', 'creators', 'distributors', 'gender', 'f/m/x', 'optional', 'meaningful', 'contributing', 'user', 'generated', 'images', 'text', 'audio', 'users', 'platforms', 'creating', 'motivation', 'sharing', 'professionalise', 'answering', '**any', 'perceive', 'attached', 'knife', 's8e4', 'unreal', 'essential', 'conveys', 'immense', 'develop', 'thoroughly', 'remarkable', 'composer', 'fronts', 'dragoons', 'potentially', '3:9', \"y'all\", 'mahqueen', 'hostage', '__greyjoy', 'rebellion__', 'includign', '^^lannister^^', '^^stark^', '^^tully^^', 'behest', 'greyjoys', 'bid', '__theon', 'greyjoy__', 'ward', '__eddard', 'stark__', '__theon__', '__hostage__', 'prevent', 'quoted', 'joker', 'stable', 'threatens', 'screaming', 'recent', '180', 'monroeidiot', 'torrhen', 'knelt', 'reigned', 'invaded', 'submitting', 'inspiration', 'dion', 'mysteries', 'plotlines', 'differ', 'skip', 'complaining', 'orchestrated', 'peter', 'squarely', 'restoration', 'due', 'schemings', 'illyrio', 'mopatis', 'strictly', 'majority', 'polar', 'opposites', 'admire', 'narcissistic', 'relevant', 'marches', 'promising', 'river', 'marrying', 'secures', 'loan', 'akin', 'hire', 'placed', 'neither', 'crowns', 'disgust', 'reluctant', 'acceptance', 'flock', 'favour', 'involvement', 'therefore', 'lysa', 'valemen', 'suit', 'replaced', 'represents', 'mutual', 'friendships', 'exploits', 'manipulates', 'possess', 'betray', 'becane', 'vlosely', 'dissapointed', 'corrected', 'recognize', 'guitar', 'inferior', 'servant', 'hates', 'staff', 'push', 'cocktail', 'stained', 'idc', 'boss', 'implausibly', 'passive', 'plausibly', 'food', 'supply', 'tarlys', 'costly', \"'nuts\", 'breached', 'dangerous', 'f**k', 'bloodshed', 'executing', '8a', 'largely', 'breaching', 'ferrying', 'vulnerable', 'targ/stark', 'blindsided', 'defence', 'hastier', 'antics', '8b', 'emergence', 'igniting', 'factions', 'afterward', 'supporters', 'scenario', 'successfully', 'advocate', 'acceptable', 'compromise', 'characrer', 'proved', 'pulling', 'litterally', 'binging', 'harder', 'root', 'fast', 'geoffrey', 'duolingo', 'teaches', '//www.reddit.com/poll/hjdycq', '//www.reddit.com/poll/hjla7z', 'twice', 'granduer', 'noticing', 'apocalyptic', 'colonist', 'trees', 'structures', 'oldstown', 'genetic', 'andals', 'dinosaurs', 'gravity', 'animals', 'strange', 'feeds', 'americans', 'step', 'europeans', 'asians', '500', 'famine', 'technology', 'grew', 'plants', 'thorough', 'planters', 'aspects', 'three-eye', 'commissions', 'piece', 'e.g', 'third', 'receives', 'plotline', 'declined', 'reunion', 'recruiting', 'dotharaki', 'umbers', 'siding', 'darrio', 'downs', 'survived', 'bravery', 'kingsguard', 'wasted', 'opportunities', 'neglecting', 'trident', 'breach', 'pyke', 'flashbacks', 'cripple', 'wierdo', 'height', 'paying']\n"
    }
   ],
   "source": [
    "print (wordfreqs_cat1.hapaxes())\n",
    "print (wordfreqs_cat2.hapaxes())"
   ]
  },
  {
   "cell_type": "code",
   "execution_count": 122,
   "metadata": {},
   "outputs": [],
   "source": [
    "holdoutLength  = 100\n",
    "#labeled data\n",
    "labeled_data1 = [(word,'datascience') for word in data['datascience']['wordMatrix'][holdoutLength:]]\n",
    "labeled_data2 = [(word,'gameofthrones') for word in data['gameofthrones']['wordMatrix'][holdoutLength:]]\n",
    "labeled_data = []\n",
    "labeled_data.extend(labeled_data1)\n",
    "labeled_data.extend(labeled_data2)\n",
    "#create holdout\n",
    "holdout_data = data['datascience']['wordMatrix'][:holdoutLength]\n",
    "holdout_data.extend(data['gameofthrones']['wordMatrix'][:holdoutLength])\n",
    "holdout_data_labels = ([('datascience') for _ in range(holdoutLength)] + [('gameofthrones') for _ in range(holdoutLength)])"
   ]
  },
  {
   "cell_type": "code",
   "execution_count": 125,
   "metadata": {
    "tags": []
   },
   "outputs": [
    {
     "output_type": "stream",
     "name": "stdout",
     "text": "978\n200\n(['much', 'data', 'scienc', 'work', 'look', 'solut', 'work', 'peopl', 'internet', 'im', 'newbi', 'learn', 'data', 'scienc', 'sinc', 'broad', 'field', 'wonder', 'much', 'data', 'scienc', 'profession', 'look', 'solut', 'anoth', 'peopl', 'work'], 'datascience')\n"
    }
   ],
   "source": [
    "print (len(labeled_data))\n",
    "print (len(holdout_data_labels))\n",
    "print (labeled_data[20])"
   ]
  },
  {
   "cell_type": "code",
   "execution_count": 127,
   "metadata": {},
   "outputs": [],
   "source": [
    "data['datascience']['all_words_dedup'] = list(OrderedDict.fromkeys(data['datascience']['all_words']))\n",
    "data['gameofthrones']['all_words_dedup'] = list(OrderedDict.fromkeys(data['gameofthrones']['all_words']))"
   ]
  },
  {
   "cell_type": "code",
   "execution_count": 128,
   "metadata": {},
   "outputs": [],
   "source": [
    "all_words = []\n",
    "all_words.extend(data['datascience']['all_words_dedup'])\n",
    "all_words.extend(data['gameofthrones']['all_words_dedup'])"
   ]
  },
  {
   "cell_type": "code",
   "execution_count": 129,
   "metadata": {},
   "outputs": [],
   "source": [
    "all_words_dedup = list(OrderedDict.fromkeys(all_words))"
   ]
  },
  {
   "cell_type": "code",
   "execution_count": 130,
   "metadata": {},
   "outputs": [],
   "source": [
    "prepared_data = [({word: (word in x[0]) for word in all_words_dedup}, x[1]) for x in labeled_data]\n",
    "prepared_holdout_data = [({word: (word in x[0]) for word in all_words_dedup}) for x in holdout_data]"
   ]
  },
  {
   "cell_type": "code",
   "execution_count": 132,
   "metadata": {
    "tags": [
     "outputPrepend"
    ]
   },
   "outputs": [
    {
     "output_type": "stream",
     "name": "stdout",
     "text": " 'funni': False, 'crap': False, 'entic': False, 'slower': False, 'xkcd': False, 'subsid': False, 'refactor': False, 'seaborn': False, 'brought': False, 'void': False, 'undoubt': False, 'rabbit': False, 'hole': False, 'conceptu': False, 'deepli': False, 'bold': False, 'casino': False, 'gender': False, 'tempt': False, 'meta': False, 'machinelearn': False, 'buzzword': False, 'cooler': False, 'regardless': False, 'overrun': False, 'overflow': False, 'homework': False, 'effort': False, 'bot': False, 'flair': False, 'revisit': False, 'dabbl': False, 'anticip': False, 'acquisit': False, 'median': False, 'rental': False, 'yoy': False, 'rent': False, 'composit': False, 'nosql': False, 'skew': False, 'skim': False, 'white': False, 'card': False, 'cap': False, 'status': False, 'queu': False, 'hackernew': False, 'lobster': False, 'fluff': False, 'corona': False, 'desk': False, 'reput': False, 'multi': False, 'erd': False, 'export': False, 'autocomplet': False, 'psql': False, 'pgcli': False, 'ipython': False, 'datagrip': False, 'popsql': False, 'dbeaver': False, 'holi': False, 'proven': False, 'siraj': False, 'raval': False, 'plagiar': False, 'femal': False, 'men': False, 'soap': False, 'entertain': False, 'sentenc': False, 'javascript': False, 'js': False, 'silli': False, 'rich': False, 'audio': False, 'heart': False, 'sentiment': False, 'predictor': False, 'fraud': False, 'forget': False, 'fool': False, 'bing': False, 'tv': False, 'iplot': False, 'bought': False, 'mb': False, 'vscode': False, 'docker': False, 'pvalu': False, 'hive': False, 'benefiti': False, 'scala': False, 'apach': False, 'jenkin': False, 'anymor': False, 'convolut': False, 'cpu': False, 'bear': False, 'empti': False, 'deleg': False, 'light': False, 'adopt': False, 'chatbot': False, 'declar': False, '35': False, 'spoken': False, 'decemb': False, 'robot': False, 'blind': False, 'durabl': False, 'devop': False, 'repositori': False, 'gui': False, 'phenomena': False, 'press': False, 'restart': False, 'dark': False, 'mode': False, 'summar': False, 'checklist': False, 'dip': False, 'spike': False, 'robust': False, 'cpus': False, 'ingredi': False, '25': False, 'toxic': False, 'twitter': False, 'polituit': False, 'haha': False, 'prod': False, 'dash': False, 'huggingfac': False, 'abhishek': False, 'powerpoint': False, 'quot': False, 'overarch': False, 'win': False, 'proactiv': False, 'templat': False, 'nasti': False, 'bug': False, 'pareto': False, 'recur': False, 'scrutin': False, 'encourag': False, 'celebr': False, 'dump': False, 'careerfair': False, 'conduct': False, 'hobbi': False, 'leaderboard': False, 'clariti': False, 'trainer': False, '16': False, 'thinkpad': False, 'x1': False, 'carbon': False, 'cltv': False, 'august': False, 'acf': False, 'cyclic': False, 'season': False, 'gan': False, 'crisp': False, 'trust': False, 'vim': False, 'neovim': False, 'isol': False, 'penetr': False, 'headcount': False, 'gitlab': False, 'grunt': False, 'autoregress': False, 'ambient': False, 't0': False, 'overkil': False, 'award': False, 'findaphd': False, 'aspx': False, 'classroom': False, 'soul': False, 'ps': False, 'investig': False, 'weigh': False, 'inher': False, 'unpredict': False, 'inventori': False, 'wherein': False, 'manpow': False, 'inquiri': False, 'cov': False, 'tuesday': False, 'agent': False, 'judg': False, 'expens': False, 'food': False, 'hint': False, 'ticket': False, 'absurd': False, 'enlighten': False, 'mask': False, 'presidio': False, 'decreas': False, 'ethic': False, 'intent': False, 'argument': False, 'anxious': False, 'dear': False, 'wandb': False, 'dbs': False, 'mlflow': False, 'handbook': False, 'pen': False, 'audibl': False, 'station': False, 'depth': False, 'jack': False, 'pressur': False, 'sc': False, 'nn': False, 'postgr': False, 'queue': False, 'orient': False, 'backward': False, 'sophomor': False, 'debt': False, 'aa': False, 'circumst': False, 'drake': False, 'logisticregress': False, 'liblinear': False, 'l1': False, 'takeaway': False, 'interfer': False, 'rot': False, 'b2b': False, '470044': False, 'ls': False, 'court': False, 'billion': False, 'uplift': False, 'baselin': False, 'pr': False, 'realis': False, 'openai': False, 'dexter': False, 'releas': False, 'contrast': False, 'centroid': False, 'sensit': False, 'preliminari': False, 'redact': False, 'expotenti': False, 'alloc': False, 'credenti': False, 'architect': False, 'propublica': False, 'over': False, 'uber': False, 'ride': False, 'marketplac': False, 'backup': False, 'spoke': False, 'tension': False, 'quora': False, 'bureaucraci': False, 'club': False, 'prevent': False, '_train': False, '_test': False, 'divers': False, '31': False, 'defens': False, 'contractor': False, 'cybersecur': False, '93ba7195e4c9': False, '15b9b86e86c6': False, 'dn5uxq': False, '_data': False, 'magazin': False, '100k': False, 'json': False, 'md': False, 'incorrect': False, 'camp': False, 'svp': False, 'exec': False, 'quantize': False, 'safeti': False, 'multipli': False, 'mood': False, '077': False, 'hassl': False, 'mulesoft': False, 'rhapsodi': False, 'usc': False, 'kubernet': False, 'container': False, '94daac85108b': False, 'cookiecutt': False, 'pls': False, 'islr': False, 'pcr': False, 'wash': False, 'photo': False, 'matlab': False, 'oscilloscop': False, 'cpp': False, 'pysimplegui': False, 'unfamiliar': False, 'payment': False, 'sport': False, 'plackett': False, 'luce': False, 'latent': False, 'winner': False, 'conferenc': False, 'cook': False, 'amsterdam': False, 'am': False, 'gaug': False, 'medior': False, '67k': False, '18k': False, 'rsu': False, 'vest': False, '78k': False, 'med': False, 'stole': False, 'gf': False, 'repost': False, 'dean': False, 'hoffman': False, 'justia': False, 'cacdc': False, '2004cv09484': False, '167815': False, '776': False, 'rss': False, 'credibl': False, '20intellig': False, 'hl': False, 'gl': False, 'ceid': False, '3aen': False, 'semant': False, 'gmirk': False, '_apolog': False, '_from': False, '_a': False, '_scienc': False, '_compani': False, '_stole': False, '_mi': False, 'my_apologies_from_a_data_science_company_stole_mi': False, 'theft': False, '3b': False, 'actionablelab': False, 'stolen': False, 'tds': False, 'infring': False, 'delet': False, 'gkoxpd': False, 'actionableinsight': False, '5fce18238dbc': False, '2015': False, 'delinqu': False, 'complianc': False, 'ture': False, 'jl': False, 'stan': False, 'pymc3': False, 'rbms': False, 'homecourt': False, 'lotteri': False, 'geograph': False, 'spoiler': False, 'v': False, 'robb': False, 'stark': False, 'birthday': False, 'khal': False, 'drogo': False, 'offici': False, 'replica': False, 'king': False, 'arya': False, 'marri': False, 'ramsey': False, 'asoiaf': False, 'jenni': False, 'oldston': False, 'throne': False, 'episod': False, 'accompani': False, 'song': False, 'podrick': False, 'televis': False, 'fallen': False, 'angri': False, 'fan': False, 'emot': False, 'charact': False, 'carnag': False, 'armi': False, 'arriv': False, 'stab': False, 'shot': False, 'dragon': False, 'abund': False, 'danni': False, 'mad': False, 'queen': False, 'nowher': False, 'jon': False, 'bran': False, 'funer': False, 'eta1jhk1lxc': False, 'paint': False, 'preview': False, 'redd': False, 'width': False, 'pjpg': False, 'webp': False, 'bolton': False, 'betray': False, 'actor': False, 'upcom': False, 'westero': False, 'daeneri': False, 'instant': False, 'dragonston': False, 'storyboard': False, 'mysteri': False, 'kept': False, 'melisandr': False, 'death': False, 'war': False, 'cerci': False, 'golden': False, 'assassin': False, 'heal': False, 'ned': False, 'aemon': False, 'babi': False, 'greyworm': False, 'north': False, 'ambush': False, 'kingdom': False, 'imprison': False, 'street': False, 'mock': False, 'dramat': False, 'gate': False, 'shock': False, 'jami': False, 'mount': False, 'brienn': False, 'cri': False, 'storm': False, 'drogon': False, 'castl': False, 'lanist': False, 'father': False, 'blah': False, 'rage': False, 'choke': False, 'sansa': False, 'children': False, 'raven': False, 'travel': False, 'mountain': False, 'yara': False, 'iron': False, 'island': False, 'girl': False, 'beg': False, 'ladi': False, 'princ': False, 'lyanna': False, 'impli': False, 'tyrion': False, 'spoil': False, 'highgarden': False, 'guest': False, 'targaryen': False, 'acryl': False, 'ygritt': False, 'unhappi': False, 'ice': False, 'odd': False, 'snow': False, 'fli': False, 'soldier': False, 'hide': False, 'crypt': False, 'jaim': False, 'lannist': False, 'brandon': False, 'defend': False, 'rewatch': False, 'dani': False, 'nut': False, 'ruin': False, 'peak': False, 'fantasi': False, 'dialogu': False, 'piss': False, 'walker': False, 'wont': False, 'ive': False, 'stanni': False, 'baratheon': False, 'sieg': False, 'tactician': False, 'tywin': False, 'tyrel': False, 'mercenari': False, 'unrealist': False, 'joffrey': False, 'unnot': False, 'sail': False, 'lord': False, 'beat': False, 'ser': False, 'rp': False, 'rebellion': False, 'cosplay': False, 'wolf': False, 'complaint': False, 'foreshadow': False, 'forgotten': False, 'propheci': False, 'azor': False, 'ahai': False, 'sword': False, 'lightbring': False, 'belov': False, 'promis': False, 'storylin': False, 'sam': False, 'valyrian': False, 'hound': False, 'beric': False, 'sex': False, 'gendri': False, 'speech': False, '805': False, 'aliv': False, 'grey': False, 'worm': False, 'missandei': False, 'jorah': False, 'theon': False, 'wight': False, 'sacrific': False, 'wound': False, 'dagger': False, 'cersei': False, 'qyburn': False, 'flee': False, 'punch': False, 'throat': False, 'steel': False, 'tear': False, 'artist': False, 'chillyravenart': False, 'unsulli': False, 'drew': False, 'lore': False, 'egg': False, 'hatch': False, 'reaction': False, 'hardest': False, 'oberyn': False, 'cant': False, 'gauntlet': False, 'helmet': False, 'suit': False, 'pound': False, 'swing': False, 'prequel': False, 'halfway': False, 'underr': False, 'whose': False, 'satisfi': False, 'art': False, 'nouveau': False, 'poster': False, 'etsi': False, 'fanart': False, 'upset': False, 'chines': False, 's8': False, 'bluray': False, 'pirat': False, 'subtitl': False, 'wife': False, 'harrenh': False, 'fandom': False, 'commentari': False, 'sketch': False, 'nymeria': False, 'ros': False, 'antagonist': False, 'spite': False, 'antagon': False, 'punish': False, 'queenslay': False, 'robbert': False, 'ancestr': False, 'remind': False, 'miniseri': False, 'allianc': False, 'kidnap': False, 'dwarf': False, 'arryn': False, 'five': False, 'vale': False, 'civil': False, 'foreign': False, 'seven': False, 'dorn': False, 'border': False, 'banner': False, 'deni': False, 'littlefing': False, 'crown': False, 'enemi': False, 'combat': False, 'lightsab': False, 'shame': False, 'incest': False, 'cousin': False, 'loyalti': False, 'catch': False, 'thick': False, 'writer': False, 'massacr': False, 'arc': False, 'bitch': False, 'justifi': False, 'martin': False, 'iv': False, 'tho': False, 'portray': False, 'unexpect': False, 'wasnt': False, 'epic': False, 'ik': False, 'evil': False, 'section': False, 'tormund': False, 'subvert': False, 'showrunn': False, 'northern': False, 'ireland': False, 'complain': False, 'kat': False, 'kl': False, 'winterfel': False, 'hes': False, 'sea': False, 'didnt': False, 'circl': False, 'longest': False, 'instagram': False, 'emilia': False, 'clark': False, 'syrio': False, 'jaqen': False, 'h': False, 'bc': False, 'prison': False, 'crime': False, 'maegor': False, 'blu': False, '4k': False, 'collector': False, 'steelbook': False, 'ultra': False, 'hd': False, '6420103': False, 'arthur': False, 'dayn': False, 'prior': False, 'robert': False, 'pack': False, 'winter': False, 'gotta': False, 'valar': False, 'morghuli': False, 'chair': False, 'meereen': False, 'dothraki': False, 'hobbit': False, 'slave': False, 'mormont': False, 'hill': False, 'ring': False, 'esso': False, 'bloodmoon': False, 'horror': False, 'adventur': False, 'intrigu': False, 'hbo': False, 'earn': False, 'cersi': False, 'olenna': False, 'bend': False, 'wildl': False, 'margeri': False, 'tommen': False, 'faith': False, 'caster': False, 'rock': False, 'alongsid': False, 'resurrect': False, 'threat': False, 'music': False, 'xd': False, 'e3': False, 'glass': False, 'dinner': False, 'roast': False, 'itun': False, 'screw': False, 'trailer': False, 'sigil': False, 'suck': False, 'crowd': False, 'wed': False, 'ep': False, 'bell': False, 'rheagal': False, 'fleet': False, 'chao': False, 'ladder': False, 'djawadi': False, 'westerosi': False, 'spell': False, 'charm': False, 'sick': False, 'knight': False, 'occas': False, 'bastard': False, 'goddess': False, 'supplic': False, 'verb': False, 'sup': False, 'pli': False, 'cat': False, 'ed': False, 'ing': False, 'pray': False, 'humbl': False, 'entreati': False, 'petit': False, 'viserion': False, 'yell': False, 'resist': False, 'surrend': False, 'stood': False, 'climax': False, 'resolut': False, 'hail': False, 'frey': False, 'daughter': False, 'royalti': False, 'behead': False, 'bother': False, 'faceless': False, 'litter': False, 'gregor': False, 'clegan': False, 'theokel': False, 'spartacus': False, 'sand': False, 'bingetowntv': False, 'fighter': False, 'spotifi': False, 'lion': False, 'caught': False, 'vibe': False, 'passag': False, 'realm': False, 'tourney': False, 'huh': False, 'margaeri': False, 'sept': False, 'lena': False, 'headey': False, 'shes': False, 'dunno': False, 'runner': False, 'rhaegal': False, 'ident': False, 'giant': False, 'melt': False, 'cold': False, 'stone': False, 'lego': False, 'conqueror': False, 'finger': False, 'confess': False, 'barristan': False, 'selmi': False, 'spear': False, 'zombi': False, 'payoff': False, 'nk': False, 'forgiv': False, 'armour': False, 'reveng': False, 'collaps': False, 'reunit': False, 'mark': False, 'cast': False, 'danc': False, 'gape': False, 'alter': False, 'declin': False, 'tbh': False, 'havent': False, 'minecraft': False, 'telltal': False, 'sequel': False, 'announc': False, 'hook': False, 'unhing': False, 'idk': False, '_': False, 'bannerman': False, 'oath': False, 'twist': False, 'viewer': False, 'catelyn': False, 'symbol': False, 'react': False, 'distress': False, 'honor': False, 'denial': False, 'godswood': False, 'parentag': False, 'targaryn': False, 'older': False, 'suffer': False, 'disgust': False, 'impuls': False, 'loud': False, 'aegon': False, 'refus': False, 'wouldv': False, 'tie': False, 's7': False, 'ep3': False, 'sack': False, 'vanish': False, 'largest': False, 'damag': False, 'knock': False, 'intact': False, 'loyal': False, 'defeat': False, 'destruct': False, 'tactic': False, 'narrat': False, 's2': False, 'standalon': False, 'murder': False, 'benjen': False, 'feast': False, 'son': False, 'royal': False, 'ellaria': False, 'dornish': False, 'lover': False, 'coup': False, 'paramount': False, 'martel': False, 'alli': False, 'doran': False, 'strang': False, 's6': False, 'ep1': False, 'woman': False, 'greyjoy': False, 'euron': False, 'dragonfir': False, 'westerland': False, 'riverland': False, 'stormland': False, 'portrait': False, 'hardhom': False, 'transport': False, 'wooden': False, 'inconsist': False, 'beer': False, 'dire': False, 'heartbreak': False, 'tragic': False, 'desper': False, 'snap': False, 'watcher': False, 'suitabl': False, 'rhaeni': False, 'visenya': False, 'georg': False, 'samwel': False, 'wear': False, 'cloth': False, 'armor': False, 'civilian': False, 'dress': False, 'wore': False, 'coat': False, 'fur': False, 'warmer': False, 'climat': False, 'blackfish': False, 'benevol': False, 'sibl': False, 'militari': False, 'abus': False, 'wolv': False, 'grrm': False, 'diana': False, 'rigg': False, 'charisma': False, 'bizarr': False, 'alright': False, 'pencil': False, 'viseri': False, 'drink': False, 'centuri': False, 'crude': False, 'cruel': False, 'davo': False, 'l': False, 'conveni': False, 'implaus': False, 'loyalist': False, 'coin': False, 'lieg': False, 'tar': False, 'rhaegar': False, 'retak': False, 'qhorin': False, 'halfhand': False, 'uninhabit': False, 'eyri': False, 'seat': False, 'wind': False, 'prime': False, 'ruler': False, 'prismacolor': False, 'ashton': False, 'wood': False, 'whilst': False, 'bronn': False, 'kneel': False, 'remak': False, 'metal': False, 'rival': False, 'emmi': False, 'actress': False, 'rob': False, 'maisi': False, 'william': False, 'kit': False, 'drama': False, 'gameofthron': False, 'hqosj3': False, '_best': False, '_fight': False, '_in': False, '_game': False, '_of': False, '_throne': False, 'hqowq5': False, 'council': False, 'inherit': False, 'tale': False, 'villain': False, 'warp': False, 'hypocrit': False, 'justic': False, 'aveng': False, 'horribl': False, 'haunt': False, 'poison': False, 'innoc': False, 'butcher': False, 'resign': False, 'bid': False, 'slip': False, 'danger': False, 'ulemye0ewg0': False, 'khalessi': False, 'sun': False, 'shade': False, 'car': False, 'weather': False, 'uncl': False, 'balon': False, 'showdown': False, 'hors': False, 'shook': False, 'sister': False, 'territori': False, 'drawn': False, 'invad': False, 'crab': False, 'crustacean': False, 'backstab': False, 'witch': False, 'allus': False, 'flame': False, 'specul': False, 'asteroid': False, 'mankind': False, 'priestess': False, 'extinct': False, 'assault': False, 'wealth': False, 'quest': False, 'culmin': False, 'conquer': False, 'film': False, 'clash': False, 'recip': False, 'hair': False, 'pilot': False, 'wig': False, 'corps': False, 'savag': False, 'slaughter': False, 'lay': False, 'heel': False, 'bread': False, 'sat': False, 'chapter': False, 'baelish': False, 'tulli': False, 'dude': False, 'wtf': False, 'drawl': False, 'heir': False, 'oldest': False, 'disagre': False, 'emerg': False, 'reconcil': False, 'hero': False, 'conquest': False, 'ninepenni': False, 'reyn': False, 'tarbeck': False, 'crow': False, 'fifth': False, 'loot': False, 'grip': False, '1918': False, 'metaphor': False, 'opposit': False, 'disclaim': False, 'maester': False, 'tilt': False, 'planet': False, 'planeto': False, 'cataclysm': False, 'valyria': False, 'meteor': False, 'messeng': False, 'moon': False, 'sky': False, 'asshai': False, 'forg': False, 'proud': False, 'banish': False, 'ren': False, 'seaworth': False, 'loath': False, 'sworn': False, 'treason': False, 'american': False, 'danaeri': False, 'puzzl': False, 'duel': False, 'sknr': False, '09': False, '763s': False, 'xf_8tkjilmc': False, 'griev': False, 'moral': False, 'ambigu': False, 'woke': False, 'chosen': False, 'consort': False, 'beneath': False, 'umber': False, 'karstark': False, 'glover': False, 'rain': False, 'castamer': False, 'flat': False, 'courtier': False, 'laugh': False, 'rude': False, 'hno7zt': False, '_part': False, 'hnnlwb': False, 'ghost': False, 'hn15ux': False, 'troll': False, 'soundtrack': False, 'sad': False, 'overthrown': False, 'hn0g22': False, 'hn0vsn': False, 'daario': False, 'nahari': False, 'birthright': False, 'tower': False, 'ww1': False, 'hast': False, 'monarchi': False, 'wheel': False, 'abandon': False, 'ressurect': False, 'shireen': False, 'pyre': False, 'smoke': False, 'bleed': False, 'afterward': False, 'meera': False, 'reed': False, '8000': False, 'undead': False, 'swarm': False, 'south': False, 'breach': False, 'contin': False, 'moat': False, 'cailin': False, 'converg': False, 'bent': False, 'ensu': False, 'clip': False, 'injur': False, 'dodg': False, 'blow': False, 'plung': False, 'aftermath': False, 'consumm': False, 'fought': False, 'reign': False, 'crossroad': False, 'citadel': False, 'horn': False, 'gilli': False, 'retreat': False, 'destini': False, 'ignit': False, 'wrap': False, 'seiz': False, 'weirwood': False, 'lyric': False, 'root': False, 'plausibl': False, 'wildfir': False, 'misand': False, 'guitar': False, '6i0a7rdpkm8': False, 'catlyn': False, 'witcher': False, 'skyrim': False, 'canon': False, 'warden': False, 'ugc': False, 'thorough': False, 'plotlin': False, 'lancel': False, 'rape': False, 'planetus': False, 'coloni': False, 'nativ': False, 'worship': False, 'barriston': False, 'bryden': False}, 'datascience')\n"
    }
   ],
   "source": [
    "print (prepared_data[0])"
   ]
  },
  {
   "cell_type": "code",
   "execution_count": 133,
   "metadata": {},
   "outputs": [],
   "source": [
    "random.shuffle(prepared_data)\n",
    "train_size = int(len(prepared_data) * 0.75)\n",
    "train = prepared_data[:train_size]\n",
    "test = prepared_data[train_size:]"
   ]
  },
  {
   "cell_type": "code",
   "execution_count": 135,
   "metadata": {
    "tags": []
   },
   "outputs": [
    {
     "output_type": "stream",
     "name": "stdout",
     "text": "342\n391\n"
    }
   ],
   "source": [
    "nbr_got = 0\n",
    "nbr_data = 0\n",
    "for set in train:\n",
    "    if set[1]=='datascience':\n",
    "        nbr_data+=1\n",
    "    if set[1]=='gameofthrones':\n",
    "        nbr_got+=1\n",
    "print (nbr_got)\n",
    "print (nbr_data)"
   ]
  },
  {
   "cell_type": "code",
   "execution_count": 137,
   "metadata": {},
   "outputs": [],
   "source": [
    "classifier  = nltk.NaiveBayesClassifier.train(train)"
   ]
  },
  {
   "cell_type": "code",
   "execution_count": 138,
   "metadata": {},
   "outputs": [
    {
     "output_type": "execute_result",
     "data": {
      "text/plain": "0.9673469387755103"
     },
     "metadata": {},
     "execution_count": 138
    }
   ],
   "source": [
    "nltk.classify.accuracy(classifier, test)"
   ]
  },
  {
   "cell_type": "code",
   "execution_count": 141,
   "metadata": {},
   "outputs": [],
   "source": [
    "classifier2 = nltk.DecisionTreeClassifier.train(train)"
   ]
  },
  {
   "cell_type": "code",
   "execution_count": 142,
   "metadata": {},
   "outputs": [
    {
     "output_type": "execute_result",
     "data": {
      "text/plain": "1.0"
     },
     "metadata": {},
     "execution_count": 142
    }
   ],
   "source": [
    "nltk.classify.accuracy(classifier2, test)\n"
   ]
  }
 ],
 "metadata": {
  "kernelspec": {
   "display_name": "Python 3",
   "language": "python",
   "name": "python3"
  },
  "language_info": {
   "codemirror_mode": {
    "name": "ipython",
    "version": 3
   },
   "file_extension": ".py",
   "mimetype": "text/x-python",
   "name": "python",
   "nbconvert_exporter": "python",
   "pygments_lexer": "ipython3",
   "version": "3.7.1"
  }
 },
 "nbformat": 4,
 "nbformat_minor": 2
}