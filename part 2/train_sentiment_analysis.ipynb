{
 "cells": [
  {
   "cell_type": "markdown",
   "metadata": {
    "collapsed": false,
    "pycharm": {
     "name": "#%% md\n"
    }
   },
   "source": [
    "## Part 2: Training your own ML Model\n",
    "\n",
    "<a href=\"https://colab.research.google.com/github/peckjon/hosting-ml-as-microservice/blob/master/part2/train_sentiment_analysis.ipynb\" target=\"_parent\"><img src=\"https://colab.research.google.com/assets/colab-badge.svg\" alt=\"Open In Colab\"/></a>"
   ]
  },
  {
   "cell_type": "markdown",
   "metadata": {},
   "source": [
    "### Download corpuses\n",
    "\n",
    "We'll continue using the `movie_reviews` corpus to train our model. The `stopwords` corpus contains a [set of standard stopwords](https://gist.github.com/sebleier/554280) we'll want to remove from the input, and `punkt` is used for toneization in the [.words()](https://www.nltk.org/api/nltk.corpus.html#corpus-reader-functions) method of the corpus reader."
   ]
  },
  {
   "cell_type": "code",
   "execution_count": 54,
   "metadata": {
    "collapsed": false,
    "pycharm": {
     "name": "#%%\n"
    },
    "tags": []
   },
   "outputs": [
    {
     "output_type": "stream",
     "name": "stderr",
     "text": "[nltk_data] Downloading package movie_reviews to\n[nltk_data]     C:\\Users\\E10112538\\AppData\\Roaming\\nltk_data...\n[nltk_data]   Package movie_reviews is already up-to-date!\n[nltk_data] Downloading package punkt to\n[nltk_data]     C:\\Users\\E10112538\\AppData\\Roaming\\nltk_data...\n[nltk_data]   Package punkt is already up-to-date!\n[nltk_data] Downloading package stopwords to\n[nltk_data]     C:\\Users\\E10112538\\AppData\\Roaming\\nltk_data...\n[nltk_data]   Package stopwords is already up-to-date!\n"
    },
    {
     "output_type": "execute_result",
     "data": {
      "text/plain": "True"
     },
     "metadata": {},
     "execution_count": 54
    }
   ],
   "source": [
    "from nltk import download\n",
    "\n",
    "download('movie_reviews')\n",
    "download('punkt')\n",
    "download('stopwords')"
   ]
  },
  {
   "cell_type": "markdown",
   "metadata": {},
   "source": [
    "### Define feature extractor and bag-of-words converter\n",
    "\n",
    "Given a list of (already tokenized) words, we need a function to extract just the ones we care about: those not found in the list of English stopwords or standard punctuation.\n",
    "\n",
    "We also need a way to easily turn a list of words into a [bag-of-words](https://en.wikipedia.org/wiki/Bag-of-words_model), pairing each word with the count of its occurrences."
   ]
  },
  {
   "cell_type": "code",
   "execution_count": 55,
   "metadata": {
    "collapsed": false
   },
   "outputs": [],
   "source": [
    "from nltk.corpus import stopwords\n",
    "from string import punctuation\n",
    "from nltk.stem import PorterStemmer\n",
    "\n",
    "ps = PorterStemmer() \n",
    "\n",
    "stopwords_eng = stopwords.words('english')\n",
    "\n",
    "def extract_features(words):\n",
    "    return [w.lower() for w in words if w not in stopwords_eng and w not in punctuation]\n",
    "\n",
    "def bag_of_words(words):\n",
    "    bag = {}\n",
    "    for w in words:\n",
    "        bag[w] = bag.get(w,0)+1\n",
    "    return bag"
   ]
  },
  {
   "cell_type": "markdown",
   "metadata": {},
   "source": [
    "### Ingest, clean, and convert the positive and negative reviews\n",
    "\n",
    "For both the positive (\"pos\") and negative (\"neg\") sets of reviews, extract the features and convert to bag of words. From these, we construct a list of tuples known as a \"featureset\": the first part of each tuple is the bag of words for that review, and the second is its label (\"pos\"/\"neg\").\n",
    "\n",
    "Note that `movie_reviews.words(fileid)` provides a tokenized list of words. If we wanted the un-tokenized text, we would use `movie_reviews.raw(fileid)` instead, then tokenize it using our preferred tokenizeer (e.g. [nltk.tokenize.word_tokenize](https://www.nltk.org/api/nltk.tokenize.html#nltk.tokenize.punkt.PunktLanguageVars.word_tokenize))."
   ]
  },
  {
   "cell_type": "code",
   "execution_count": 53,
   "metadata": {
    "collapsed": false,
    "tags": []
   },
   "outputs": [
    {
     "output_type": "stream",
     "name": "stdout",
     "text": "od', 'bad', 'main', 'charact', 'film', 'alway', 'kept', 'want', 'see', 'perform', 'score', 'solid', 'nomin', 'core', 'target', 'audienc', 'best', 'villain', '1997', 'mtv', 'movi', 'award', 'soundtrack', 'also', 'effect', 'set', 'cours', 'slutti', 'perform', 'alyssa', 'milano', 'someth', 'could', 'indulg', 'look', 'nice', 'bikini', 'butt', 'shot', 'kind', 'thing', 'much', 'care', 'father', 'david', 'relationship', 'seem', 'littl', 'contriv', 'part', 'realli', 'movi', 'daddi', 'dearest', 'one', 'coolest', 'line', 'movi', 'wife', 'ask', 'big', 'deal', 'daughter', 'date', 'david', 'repli', 'big', 'deal', 'guy', 'give', 'creep', 'girl', 'daughter', 'good', 'point', 'movi', 'kick', 'fun', 'ass', 'mindless', 'effect', 'demonstr', 'everi', 'parent', 'worst', 'nightmar', 'mind', 'still', 'tell', 'rees', 'witherspoon', 'good', 'look', 'douchebag', 'hey', 'life', 'goe', 'person', 'note', 'final', 'decid', 'add', 'taco', 'meat', 'onto', 'nacho', 'fiesta', 'usual', 'let', 'tell', 'flame', 'success', 'anoth', 'firm', 'recommend', 'joe', 'schmoe', 'littl', 'known', 'fact', 'director', 'jame', 'foley', 'man', 'respons', 'critic', 'acclaim', 'glengarri', 'glenross', '8', '10', 'back', '1992', 'close', 'rang', '7', '5', '10', '1986', 'even', 'direct', 'episod', 'twin', 'peak', '1990', 'mark', 'wahlberg', 'stand', '5', '9', 'born', 'massachusett', 'drop', 'highschool', 'later', 'got', 'ged', 'convict', 'sever', 'minor', 'feloni', 'start', 'career', 'lead', 'singer', 'marki', 'mark', 'funki', 'bunch', 'brother', 'donni', 'wahlberg', 'new', 'kid', 'block', 'fame', 'also', 'test', 'water', 'act', 'front']\n['wow', 'movi', 'everyth', 'movi', 'funni', 'dramat', 'interest', 'weird', 'funni', 'weird', 'strikingli', 'origin', 'yep', 'pretti', 'much', 'describ', 'movi', 'start', 'like', 'regular', 'movi', 'end', 'one', 'weirdest', 'funniest', 'origin', 'movi', 'ever', 'seen', 'boggl', 'mind', 'wonder', 'cannot', 'get', 'movi', 'like', 'often', 'besid', 'one', 'best', 'film', 'year', 'john', 'malkovich', 'may', 'well', 'one', 'best', 'movi', 'ever', 'period', 'mani', 'good', 'movi', 'one', 'cannot', 'pick', 'time', 'favorit', 'john', 'cusack', 'play', 'puppet', 'craig', 'schwartz', 'man', 'job', 'search', 'job', 'wife', 'lott', 'schwartz', 'play', 'complet', 'un', 'notic', 'cameron', 'diaz', 'look', 'like', 'someth', 'street', 'anim', 'lover', 'everi', 'kind', 'anim', 'could', 'think', 'craig', 'find', 'job', 'file', '7', 'floor', 'busi', 'build', 'pri', 'open', 'elev', 'door', 'open', 'reach', 'floor', 'eight', '7', 'floor', 'floor', '7', '8', 'hire', '105', 'year', 'old', 'boss', 'orsen', 'bean', 'filer', 'offic', 'discov', 'littl', 'door', 'board', 'hidden', 'curios', 'open', 'start', 'crawl', 'toward', 'get', 'suck', 'end', 'end', 'john', 'malkovich', 'mind', 'fifteen', 'minut', 'later', 'shot', 'onto', 'side', 'new', 'jersey', 'turnpik', 'return', 'tell', 'co', 'worker', 'maxin', 'catherin', 'keener', 'found', 'portal', 'lead', 'john', 'malkovich', 'mind', 'believ', 'see', 'chang', 'mind', 'lott', 'also', 'find', 'portal', 'discov', 'someon', 'els', 'good', 'john', 'malkovich', 'cours', 'idea', 'go', 'end', 'bizarr', 'film', 'mani', 'twist', 'turn', 'know', 'realli', 'happen', 'john', 'cusack', 'outstand', 'utterli', 'believ', 'role', 'could', 'play', 'fit', 'role', 'perfectli', 'brilliantli', 'cast', 'cameron', 'diaz', 'outstand', 'utterli', 'one', 'world', 'prettiest', 'women', 'made', 'unnotic', 'unattract', 'howev', 'give', 'comic', 'perform', 'could', 'easili', 'best', 'role', 'date', 'catherin', 'keener', 'funni', 'sexi', 'maxin', 'cours', 'best', 'thing', 'movi', 'magic', 'john', 'malkovich', 'brilliant', 'movi', 'play', 'big', 'time', 'homag', 'master', 'whole', 'group', 'combin', 'give', 'us', 'wonder', 'funni', 'movi', 'also', 'smart', 'clever', 'spike', 'jonz', 'three', 'king', 'make', 'fabul', 'direct', 'debut', 'fantast', 'job', 'direct', 'new', 'classic', 'film', 'let', 'viewer', 'go', 'trip', 'well', 'let', 'viewer', 'know', 'watch', 'movi', 'time', 'end', 'roll', 'around', 'head', 'spin', 'disbelief', 'good', 'film', 'screenplay', 'written', 'charli', 'kaufman', 'hilari', 'often', 'thought', 'provok', 'film', 'also', 'soft', 'side', 'even', 'though', 'end', 'surpris', 'also', 'littl', 'sad', 'heart', 'warm', 'whole', 'movi', 'fantast', 'roll', 'isl', 'cameron', 'diaz', 'appear', 'john', 'malkovich', 'explor', 'laugh', 'hard', 'may', 'well', 'funni', 'good', 'get', 'funniest', 'slow', 'point', 'movi', 'overus', 'idea', 'clich', 'except', 'fact', 'origin', 'inventi', 'witti', 'smart', 'movi', 'seen', 'long', 'time', 'found', 'amaz', 'everyth', 'direct', 'act', 'write', 'whole', 'idea', 'movi', 'end', 'wonder', 'hollywood', 'want', 'make', 'movi', 'like', 'anymor', 'filmmak', 'watch', 'movi', 'get', 'idea', 'movi', 'come', 'surpris', 'hit', 'american', 'beauti', 'john', 'malkovich', 'top', '5', 'movi', 'year', 'top', '10', 'best', 'film', 'ever', 'made', 'someth', 'movi', 'play', 'fact', 'may', 'well', 'best', 'movi', 'right', 'highli', 'recommend', 'john', 'malkovich', 'doubt', 'disappoint']\n['richard', 'gere', 'command', 'actor', 'alway', 'great', 'film', 'everyth', 'come', 'togeth', 'gere', 'big', 'time', 'chicago', 'defens', 'attorney', 'take', 'seemingli', 'unwin', 'case', 'hope', 'even', 'public', 'go', 'exactli', 'expect', 'gere', 'client', 'aaron', 'edward', 'norton', 'shi', 'stutter', 'tennesse', 'boy', 'accus', 'brutal', 'murder', 'mutil', 'cathol', 'archbishop', 'evid', 'stack', 'caught', 'run', 'scene', 'cover', 'bishop', 'blood', 'bloodi', 'footprint', 'murder', 'scene', 'relationship', 'priest', 'gere', 'talk', 'boy', 'believ', 'actual', 'innoc', 'set', 'find', 'real', 'killer', 'despit', 'lawyer', 'proclam', 'care', 'guilt', 'client', 'real', 'thrill', 'gambl', 'peopl', 'live', 'becom', 'involv', 'aaron', 'determin', 'free', 'lot', 'complic', 'twist', 'prosecut', 'attorney', 'gere', 'former', 'co', 'worker', 'lover', 'work', 'motiv', 'legal', 'advantag', 'get', 'messi', 'boss', 'major', 'econom', 'deal', 'archbishop', 'went', 'sour', 'seem', 'crime', 'connect', 'aaron', 'get', 'weirder', 'weirder', 'trial', 'goe', 'gere', 'case', 'fall', 'apart', 'face', 'dozen', 'ethic', 'dilemma', 'gere', 'except', 'well', 'dress', 'reserv', 'counselor', 'want', 'see', 'kick', 'back', 'come', 'suit', 'persona', 'even', 'lose', 'see', 'far', 'insid', 'norton', 'aaron', 'convinc', 'come', 'across', 'backwood', 'kid', 'misplac', 'big', 'citi', 'support', 'cast', 'fine', 'job', 'hold', 'togeth', 'stori', 'effect', 'courtroom', 'drama', 'cinematographi', 'crisp', 'rich', 'stori', 'keep', 'edg', 'seat', 'noth', 'seem']\n['glori', '--', 'star', 'matthew', 'broderick', 'denzel', 'washington', 'morgan', 'freeman', '--', 'true', 'stori', '54th', 'regiment', 'massachusett', 'first', 'black', 'fight', 'unit', 'recruit', 'north', 'civil', 'war', 'broderick', 'play', 'robert', 'gould', 'shaw', 'young', 'white', 'offic', 'led', 'black', 'soldier', 'battl', 'shaw', 'son', 'well', 'abolitionist', 'hail', 'boston', 'high', 'societi', 'letter', 'wrote', 'home', 'parent', 'war', 'display', 'harvard', 'evid', 'inspir', 'glori', 'film', 'begin', '1862', 'shaw', 'captain', 'northern', 'forc', 'like', 'privat', 'eriksson', 'michael', 'j', 'fox', 'casualti', 'war', 'shaw', 'initi', 'naiv', 'idealist', 'war', '--', 'compani', 'attack', 'enemi', 'forc', 'shaw', 'experi', 'first', 'hand', 'horror', 'chao', 'battl', 'wit', 'mass', 'slaughter', 'receiv', 'minor', 'wound', 'bullet', 'graze', 'neck', 'soon', 'recoveri', 'shaw', 'promot', 'colonel', 'assign', 'enlist', 'train', 'black', 'war', 'effort', 'glori', 'stori', 'colonel', 'shaw', 'also', 'black', 'soldier', 'laid', 'live', 'free', 'brother', 'slaveri', 'film', 'period', 'jump', 'shaw', 'point', 'view', 'perspect', 'black', 'soldier', 'movi', 'introduc', 'us', 'hand', 'black', 'recruit', 'follow', 'enlist', 'basic', 'train', 'final', 'action', 'larg', 'black', 'cast', 'uniformli', 'outstand', 'especi', 'washington', 'electrifi', 'runaway', 'slave', 'big', 'mouth', 'brash', 'pushi', 'alway', 'get', 'troubl', 'alway', 'look', 'fight', 'bitter', 'tough', 'guy', 'facad', 'realli', 'mask', 'loneli', 'vulner', 'washington', 'provid', 'much', 'film', 'intens', 'emot', 'power', 'one', 'heartbreak', 'scene', 'whip', 'allegedli', 'desert', 'armi', 'remov', 'shirt', 'receiv', 'punish', 'cring', 'sight', 'back', 'riddl', 'ugli', 'scar', 'day', 'slave', 'make', 'blood', 'boil', 'humili', 'beat', 'far', 'traumat', 'actual', 'physic', 'pain', 'bring', 'tear', 'roll', 'washington', 'cheek', '--', 'probabl', 'run', 'cheek', 'well', 'episod', 'becom', 'even', 'tragic', 'learn', 'washington', 'desert', 'armi', 'left', 'camp', 'look', 'shoe', 'feet', 'cover', 'ooz', 'sore', 'freeman', 'usual', 'strong', 'presenc', 'even', 'small', 'support', 'role', 'play', 'grave', 'digger', 'buri', 'white', 'soldier', 'care', 'rememb', 'quickli', 'becom', 'leader', 'among', 'black', 'soldier', 'hold', 'group', 'togeth', 'serv', 'liaison', 'white', 'offic', 'colonel', 'shaw', 'recogn', 'freeman', 'leadership', 'abil', 'promot', 'sergeant', 'major', 'make', 'first', 'black', 'offic', 'armi', 'andr', 'braugher', 'make', 'impress', 'film', 'debut', 'role', 'thoma', 'searl', 'free', 'black', 'one', 'shaw', 'close', 'childhood', 'friend', 'searl', 'educ', 'refin', 'like', 'white', 'man', 'prompt', 'washington', 'nicknam', 'snow', 'flake', 'burn', 'question', 'whether', 'searl', 'tough', 'enough', 'surviv', 'basic', 'train', 'kill', 'combat', 'road', 'march', 'drill', 'battl', 'action', 'bumpi', 'one', 'black', 'regiment', 'soldier', 'suffer', 'innumer', 'hardship', 'somehow', 'never', 'lose', 'moral', 'armi', 'treat', 'black', 'soldier', 'like', 'second', 'class', 'citizen', 'subject', 'racism', 'discrimin', 'paid', '10', 'month', 'wherea', 'white', 'counterpart', 'earn', 'thirteen', 'long', 'time', 'go', 'without', 'shoe', 'gun', 'uniform', 'make', 'matter', 'wors', 'white', 'militari', 'hierarchi', 'extrem', 'reluct', 'allow', 'black', 'action', 'prefer', 'instead', 'use', 'manual', 'labor', 'eventu', 'howev', 'regiment', 'receiv', 'boot', 'uniform', 'rifl', 'right', 'fight', 'thank', 'stubborn', 'resolv', 'colonel', 'shaw', 'shaw', 'absolut', 'faith', 'soldier', 'fight', 'tooth', 'nail', 'get', 'deserv', 'even', 'mean', 'threaten', 'gener', 'blackmail', 'broderick', 'fact', 'convinc', 'scene', 'shaw', 'stand', 'regiment', 'unfortun', 'howev', 'broderick', 'uneven', 'perform', 'mani', 'respect', 'weak', 'link', 'movi', 'effort', 'look', 'matur', 'broderick', 'sport', 'mustach', 'goate', 'throughout', 'film', 'slip', 'phoni', 'boston', 'accent', 'never', 'altogeth', 'convinc', 'shaw', 'sinc', 'much', 'time', 'emot', 'seem', 'forc', 'film', 'place', 'much', 'weight', 'broderick', 'charact', 'enough', 'black', 'soldier', 'intrigu', 'glori', 'regain', 'lost', 'ground', 'harrow', 'depict', 'war', 'movi', 'show', 'devast', 'war', 'without', 'resort', 'unnecessarili', 'graphic', 'gore', 'mar', 'born', 'fourth', 'juli', 'glori', 'tri', 'rattl', 'nauseat', 'blood', 'gut', 'except', 'bullet', 'wound', 'one', 'explod', 'head', 'film', 'part', 'leav', 'gore', 'imagin', 'say', 'battl', 'scene', 'glori', 'timid', 'contrari', 'chaotic', 'horrifi', 'director', 'edward', 'zwick', 'co', 'creator', 'thirtysometh', 'film', 'far', 'subtleti', 'restraint', 'oliv', 'stone', 'could', 'ever', 'muster', 'key', 'glori', 'group', 'dynam', 'among', 'black', 'soldier', 'movi', 'depict', 'enough', 'custom', 'ritual', 'one', 'scene', 'exampl', 'soldier', 'motiv', 'sing', 'prayer', 'around', 'campfir', 'man', 'chanc', 'relay', 'word', 'inspir', 'coupl', 'movi', 'touch', 'moment', 'involv', 'young', 'black', 'children', 'look', 'black', 'soldier', 'awe', 'disbelief', 'pride', 'regiment', 'greatest', 'triumph', 'come', 'soldier', 'distinguish', 'battl', 'therebi', 'earn', 'respect', 'white', 'peer', 'earn', 'honor', 'lead', 'climact', 'assault', 'fort', 'wagner', 'like', 'war', 'film', 'glori', 'share', 'gloom', 'despair', 'ultim', 'prove', 'truli', 'uplift', 'experi', 'import', 'histori', 'lesson', 'valuabl', 'remind', 'despit', 'histori', 'book', 'say', 'precis', 'say', 'black', 'play', 'critic', 'import', 'role', 'north', 'victori', 'south', '--', 'forev', 'chang', 'evolut', 'america']\n['steven', 'spielberg', 'second', 'epic', 'film', 'world', 'war', 'ii', 'unquest', 'masterpiec', 'film', 'spielberg', 'ever', 'student', 'film', 'manag', 'resurrect', 'war', 'genr', 'produc', 'one', 'grittiest', 'power', 'entri', 'also', 'manag', 'cast', 'era', 'greatest', 'answer', 'jimmi', 'stewart', 'tom', 'hank', 'deliv', 'perform', 'noth', 'short', 'astonish', 'miracl', '160', '170', 'minut', 'save', 'privat', 'ryan', 'flawless', 'liter', 'plot', 'simpl', 'enough', 'epic', 'day', 'invas', 'whose', 'sequenc', 'noth', 'short', 'spectacular', 'capt', 'john', 'miller', 'hank', 'team', 'forc', 'search', 'pvt', 'jame', 'ryan', 'damon', 'whose', 'brother', 'die', 'battl', 'find', 'bring', 'back', 'immedi', 'discharg', 'go', 'home', 'accompani', 'miller', 'crew', 'play', 'astonish', 'perfect', 'group', 'charact', 'actor', 'simpli', 'sensat', 'barri', 'pepper', 'adam', 'goldberg', 'vin', 'diesel', 'giovanni', 'ribisi', 'davi', 'burn', 'team', 'sent', 'find', 'one', 'man', 'bring', 'home', 'battl', 'sequenc', 'bookend', 'film', 'extraordinari', 'liter', 'noth', 'film', 'ever', 'record', 'prepar', 'sheer', 'onslaught', 'terror', 'violenc', 'film', 'first', '20', 'minut', 'spielberg', 'film', 'almost', 'entir', 'movi', 'without', 'music', 'leav', 'charact', 'gener', 'emot', 'perfect', 'sequenc', 'franc', 'begin', 'battl', 'end', 'battl', 'fabul', 'especi', 'dialogu', 'men', 'walk', 'hill', 'countrysid', 'tri', 'save', 'privat', 'ryan', 'word', 'use', 'describ', 'true', 'horror', 'power', 'sequenc', 'coppola', 'look', 'apocalyps', 'creat', 'sheer', 'horror', 'sequenc', 'condemn', 'war', 'perform', 'hank', 'leader', 'gang', 'also', 'extraordinari', 'head', 'shoulder', 'rest', 'actor', 'world', 'comic', 'time', 'dramat', 'flair', 'quiet', 'emot', 'stir', 'entir', 'nation', 'tear', 'hank', 'countri', 'finest', 'actor', 'prove', 'howev', 'spielberg', 'almost', 'destroy', 'masterpiec', 'chanc', 'make', 'one', 'greatest', 'film', 'time', 'spielberg', 'creat', '10', 'minut', 'pure', 'worthless', 'film', 'sequenc', 'involv', 'armi', 'chief', 'stafff', 'georg', 'marshal', 'mr', 'ryan', 'decent', 'hold', 'rest', 'film', 'reli', 'wartim', 'clich', 'power', 'forgiv', 'bookend', 'film', 'cemetari', 'sequenc', 'first', 'one', 'quit', 'good', 'decent', 'introduct', 'live', 'men', 'last', 'sequenc', 'atroci', 'forc', 'emot', 'accompani', 'ridicul', 'piec', 'music', 'simpli', 'horribl', 'compar', 'rest', 'magic', 'film', 'flaw', 'downgrad', 'ryan', 'greatest', 'film', 'era', 'greatest', 'war', 'film', 'era', 'spielberg', 'trust', 'materi', 'trust', 'hank', 'deliv', 'chill', 'line', 'movi', 'end', 'masterpiec', 'right', 'use', 'flag', 'though', 'patriot', 'contrast', 'movi', 'theme', 'power', 'bulk', 'film', 'howev', 'astonish', 'spielberg', 'truli', 'made', 'wondrou', 'work', 'art', 'persist', 'even', 'first', 'view', 'film', 'extraordinari', 'film', 'year']\n['truman', 'true', 'man', 'burbank', 'perfect', 'name', 'jim', 'carrey', 'charact', 'film', 'presid', 'truman', 'unassum', 'man', 'becam', 'known', 'worldwid', 'spite', 'statur', 'truman', 'also', 'recal', 'era', 'plenti', 'follow', 'grim', 'war', 'era', 'plan', 'commun', 'built', 'govern', 'scientist', 'promis', 'idyl', 'life', 'american', 'burbank', 'california', 'bring', 'mind', 'tonight', 'show', 'home', 'nbc', 'hollywood', 'center', 'film', 'world', 'burbank', 'center', 'tv', 'world', 'world', 'protagonist', 'live', 'combin', 'name', 'concept', 'truman', 'burbank', 'get', 'someth', 'well', 'describ', 'artifici', 'world', 'truman', 'lead', 'perfect', 'life', 'town', 'car', 'wife', 'pictur', 'perfect', 'idea', 'realiti', 'come', 'attack', 'one', 'day', 'studio', 'light', 'fall', 'sky', 'radio', 'explain', 'overfli', 'airplan', 'start', 'come', 'apart', 'would', 'airplan', 'carri', 'studio', 'light', 'next', 'day', 'drive', 'work', 'radio', 'jam', 'start', 'pick', 'voic', 'exactli', 'describ', 'movement', 'distract', 'nearli', 'hit', 'pedestrian', 'radio', 'come', 'back', 'normal', 'announc', 'warn', 'listen', 'drive', 'care', 'suspicion', 'arous', 'wander', 'around', 'town', 'squar', 'look', 'odditi', 'world', 'appear', 'function', 'properli', 'enter', 'offic', 'build', 'tri', 'take', 'elev', 'elev', 'door', 'open', 'small', 'loung', 'peopl', 'coffe', 'break', 'grip', 'see', 'truman', 'quickli', 'move', 'panel', 'door', 'made', 'look', 'like', 'back', 'elev', 'place', 'two', 'secur', 'guard', 'grab', 'throw', 'truman', 'realli', 'suspici', 'get', 'even', 'wors', 'next', 'day', 'wife', 'nurs', 'describ', 'elev', 'accid', 'build', 'saw', 'loung', 'best', 'think', 'say', 'tri', 'vainli', 'chang', 'truman', 'memori', 'truman', 'becom', 'determin', 'see', 'behind', 'appar', 'elabor', 'hoax', 'expens', 'everi', 'turn', 'stop', 'amaz', 'coincid', 'happen', 'keep', 'littl', 'town', 'last', 'hope', 'quell', 'fear', 'ocean', 'sail', 'edg', 'world', 'know', 'truman', 'life', 'subject', 'televis', 'program', 'action', 'real', 'everyth', 'els', 'care', 'script', 'death', 'father', 'choic', 'wife', 'truman', 'determin', 'find', 'big', 'hoax', 'meanwhil', 'christof', 'see', 'creator', 'truman', 'world', 'best', 'keep', 'unawar', 'happi', 'sort', 'like', 'westworld', 'told', 'robot', 'point', 'view', 'jurass', 'park', 'dinosaur', 'point', 'view', 'root', 'captiv', 'cage', 'world', 'protagonist', 'count', 'chao', 'theori', 'help', 'escap', 'elabor', 'trap', 'stori', 'written', 'andrew', 'niccol', 'writer', 'director', 'gattaca', 'introduc', 'interest', 'question', 'ethic', 'subject', 'person', 'type', 'life', 'psycholog', 'impact', 'learn', 'entir', 'life', 'fake', 'although', 'question', 'came', 'mind', 'think', 'film', 'ask', 'certainli', 'address', 'tri', 'answer', 'particularli', 'disappoint', 'film', 'deal', 'trauma', 'learn', 'one', 'life', 'tv', 'show', 'carrey', 'perform', 'end', 'show', 'smidgen', 'truman', 'pain', 'almost', 'felt', 'got', 'easili', 'sake', 'film', 'pace', 'earlier', 'movi', 'found', 'wonder', 'would', 'better', 'truman', 'find', 'truth', 'whether', 'root', 'well', 'two', 'seem', 'exclus', 'one', 'anoth', 'weir', 'niccol', 'see', 'way', 'perhap', 'fair', 'critic', 'movi', 'seem', 'like', 'miss', 'opportun', 'term', 'movi', 'well', 'made', 'sight', 'sound', 'pace', 'handl', 'compet', 'much', 'first', 'part', 'movi', 'truman', 'show', 'scene', 'appar', 'shot', 'hidden', 'camera', 'snoot', 'obstruct', 'cover', 'corner', 'screen', 'one', 'hidden', 'camera', 'appar', 'car', 'radio', 'green', 'led', 'number', 'obscur', 'lower', 'part', 'screen', 'music', 'well', 'chosen', 'score', 'film', 'open', 'sound', 'like', 'famili', 'drama', 'theme', 'music', 'truman', 'world', 'still', 'beauti', 'perfect', 'movi', 'end', 'score', 'sound', 'like', 'frantic', 'driven', 'tangerin', 'dream', 'opu', 'still', 'keep', 'timbr', 'philip', 'glass', 'epic', 'music', 'powaqqatsi', 'permeat', 'truman', 'scene', 'suspicion', 'awaken', 'glass', 'small', 'cameo', 'keyboardist', 'show', 'pace', 'stori', 'brisk', 'unnecessarili', 'long', 'setup', 'explain', 'concept', 'behind', 'truman', 'show', 'quick', 'titl', 'card', 'interview', 'right', 'show', 'movi', 'one', 'first', 'scene', 'studio', 'light', 'fall', 'token', 'scene', 'truman', 'idyl', 'life', 'fall', 'apart', 'necessari', 'pick', 'stori', 'first', 'sign', 'troubl', 'sooner', 'also', 'point', 'movi', 'plot', 'slow', 'quick', 'straight', 'shot', 'movi', 'end', 'term', 'overal', 'qualiti', 'would', 'compar', 'truman', 'show', 'niccol', 'gattaca', 'film', 'well', 'made', 'interest', 'stori', 'set', 'interest', 'world', 'neither', 'film', 'realli', 'felt', 'like', 'capit', 'great', 'idea', 'neither', 'film', 'click', 'becam', 'instant', 'classic', 'nevertheless', 'look', 'forward', 'niccol', 'next', 'film', 'whatev', 'may']\n"
    }
   ],
   "source": [
    "from nltk.corpus import movie_reviews\n",
    "\n",
    "reviews_pos = []\n",
    "reviews_neg = []\n",
    "for fileid in movie_reviews.fileids('pos'):\n",
    "    words = extract_features(movie_reviews.words(fileid))\n",
    "    #print(words)\n",
    "    reviews_pos.append((bag_of_words(words), 'pos'))\n",
    "for fileid in movie_reviews.fileids('neg'):\n",
    "    words = extract_features(movie_reviews.words(fileid))\n",
    "    reviews_neg.append((bag_of_words(words), 'neg'))"
   ]
  },
  {
   "cell_type": "markdown",
   "metadata": {},
   "source": [
    "### Split reviews into training and test sets\n",
    "We need to break up each group of reviews into a training set (about 80%) and a test set (the remaining 20%). In case there's some meaningful order to the reviews (e.g. the first 800 are from one group of reviewers, the next 200 are from another), we shuffle the sets first to ensure we aren't introducing additional bias. Note that this means our accuracy will not be exactly the same on every run; if you wish to see consistent results on each run, you can stabilize the shuffle by calling [random.seed(n)](https://www.geeksforgeeks.org/random-seed-in-python/) first."
   ]
  },
  {
   "cell_type": "code",
   "execution_count": 48,
   "metadata": {
    "collapsed": false
   },
   "outputs": [],
   "source": [
    "from random import shuffle\n",
    "\n",
    "split_pct = .80\n",
    "\n",
    "def split_set(review_set):\n",
    "    split = int(len(review_set)*split_pct)\n",
    "    return (review_set[:split], review_set[split:])\n",
    "\n",
    "shuffle(reviews_pos)\n",
    "shuffle(reviews_neg)\n",
    "\n",
    "pos_train, pos_test = split_set(reviews_pos)\n",
    "neg_train, neg_test = split_set(reviews_neg)\n",
    "\n",
    "train_set = pos_train+neg_train\n",
    "test_set = pos_test+neg_test"
   ]
  },
  {
   "cell_type": "markdown",
   "metadata": {},
   "source": [
    "### Train the model\n",
    "\n",
    "Now that our data is ready, the training step itself is quite simple if we use the [NaiveBayesClassifier](https://www.nltk.org/api/nltk.classify.html#module-nltk.classify.naivebayes) provided by NLTK.\n",
    "\n",
    "If you are used to methods such as `model.fit(x,y)` which take two parameters -- the data and the labels -- it may be confusing that `NaiveBayesClassifier.train` takes just one argument. This is because the labels are already embedded in `train_set`: each element in the set is a Bag of Words paired with a 'pos' or 'neg'; value."
   ]
  },
  {
   "cell_type": "code",
   "execution_count": 49,
   "metadata": {
    "collapsed": false
   },
   "outputs": [],
   "source": [
    "from nltk.classify import NaiveBayesClassifier\n",
    "\n",
    "model = NaiveBayesClassifier.train(train_set)"
   ]
  },
  {
   "cell_type": "markdown",
   "metadata": {},
   "source": [
    "### Check model accuracy\n",
    "\n",
    "NLTK's built-in [accuracy](https://www.nltk.org/api/nltk.classify.html#module-nltk.classify.util) utility can run our test_set through the model and compare the labels returned by the model to the labels in the test set, producing an overall % accuracy. Not too impressive, right? We need to improve."
   ]
  },
  {
   "cell_type": "code",
   "execution_count": 50,
   "metadata": {
    "collapsed": false,
    "tags": []
   },
   "outputs": [
    {
     "output_type": "stream",
     "name": "stdout",
     "text": "74.0\n"
    }
   ],
   "source": [
    "from nltk.classify.util import accuracy\n",
    "\n",
    "print(100 * accuracy(model, test_set))"
   ]
  },
  {
   "cell_type": "markdown",
   "metadata": {},
   "source": [
    "### Save the model\n",
    "Our trained model will be cleared from memory when this notebook is closed. So that we can use it again later, save the model as a file using the [pickle](https://docs.python.org/3/library/pickle.html) serializer."
   ]
  },
  {
   "cell_type": "code",
   "execution_count": 17,
   "metadata": {
    "collapsed": false,
    "pycharm": {
     "name": "#%%\n"
    }
   },
   "outputs": [],
   "source": [
    "import pickle\n",
    "\n",
    "model_file = open('sa_classifier.pickle','wb')\n",
    "pickle.dump(model, model_file)\n",
    "model_file.close()"
   ]
  },
  {
   "cell_type": "markdown",
   "metadata": {},
   "source": [
    "### Save the model (Colab version)\n",
    "\n",
    "Google Colab doesn't provide direct access to files saved during a notebook session, so we need to save it in [Google Drive](https://drive.google.com) instead. The first time you run this, it will ask for permission to access your Google Drive. Follow the instructions, then wait a few minutes and look for a new folder called \"Colab Output\" in [Drive](https://drive.google.com). Note that Colab does not alway sync to Drive immediately, so check the file update times and re-run this cell if it doesn't look like you have the most revent version of your file."
   ]
  },
  {
   "cell_type": "code",
   "execution_count": 18,
   "metadata": {
    "collapsed": true
   },
   "outputs": [],
   "source": [
    "import sys\n",
    "if 'google.colab' in sys.modules:\n",
    "    from google.colab import drive\n",
    "    drive.mount('/content/gdrive')\n",
    "    !mkdir -p '/content/gdrive/My Drive/Colab Output'\n",
    "    model_file = open('/content/gdrive/My Drive/Colab Output/sa_classifier.pickle','wb')\n",
    "    pickle.dump(model, model_file)\n",
    "    model_file.flush()\n",
    "    print('Model saved in /content/gdrive/My Drive/Colab Output')\n",
    "    !ls '/content/gdrive/My Drive/Colab Output'\n",
    "    drive.flush_and_unmount()\n",
    "    print('Re-run this cell if you cannot find it in https://drive.google.com')"
   ]
  }
 ],
 "metadata": {
  "anaconda-cloud": {},
  "kernelspec": {
   "display_name": "Python 3",
   "language": "python",
   "name": "python3"
  },
  "language_info": {
   "codemirror_mode": {
    "name": "ipython",
    "version": 2
   },
   "file_extension": ".py",
   "mimetype": "text/x-python",
   "name": "python",
   "nbconvert_exporter": "python",
   "pygments_lexer": "ipython2",
   "version": "2.7.3"
  },
  "pycharm": {
   "stem_cell": {
    "cell_type": "raw",
    "source": [],
    "metadata": {
     "collapsed": false
    }
   }
  }
 },
 "nbformat": 4,
 "nbformat_minor": 1
}